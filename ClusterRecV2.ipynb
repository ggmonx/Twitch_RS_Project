{
 "cells": [
  {
   "cell_type": "code",
   "execution_count": 3,
   "id": "3acc9697",
   "metadata": {},
   "outputs": [],
   "source": [
    "import os\n",
    "os.environ[\"PYARROW_IGNORE_TIMEZONE\"] = \"1\"\n",
    "#os.environ['ARROW_PRE_0_15_IPC_FORMAT'] = '1'\n",
    "\n",
    "from pyspark.pandas import read_csv\n",
    "import pyspark.pandas as ps\n",
    "# means is for items, df is for collab\n",
    "ps.set_option('compute.default_index_type', 'distributed')\n",
    "path ='data/item/means.csv'"
   ]
  },
  {
   "cell_type": "code",
   "execution_count": 4,
   "id": "bc62dfea",
   "metadata": {},
   "outputs": [],
   "source": [
    "df = read_csv(path)"
   ]
  },
  {
   "cell_type": "code",
   "execution_count": 5,
   "id": "3b5e322d",
   "metadata": {},
   "outputs": [
    {
     "data": {
      "text/html": [
       "<div>\n",
       "<style scoped>\n",
       "    .dataframe tbody tr th:only-of-type {\n",
       "        vertical-align: middle;\n",
       "    }\n",
       "\n",
       "    .dataframe tbody tr th {\n",
       "        vertical-align: top;\n",
       "    }\n",
       "\n",
       "    .dataframe thead th {\n",
       "        text-align: right;\n",
       "    }\n",
       "</style>\n",
       "<table border=\"1\" class=\"dataframe\">\n",
       "  <thead>\n",
       "    <tr style=\"text-align: right;\">\n",
       "      <th></th>\n",
       "      <th>streamerId</th>\n",
       "      <th>avgInteractionTime</th>\n",
       "      <th>interactionCounts</th>\n",
       "    </tr>\n",
       "  </thead>\n",
       "  <tbody>\n",
       "    <tr>\n",
       "      <th>0</th>\n",
       "      <td>2987163</td>\n",
       "      <td>3.338468</td>\n",
       "      <td>71</td>\n",
       "    </tr>\n",
       "    <tr>\n",
       "      <th>1</th>\n",
       "      <td>2751748</td>\n",
       "      <td>2.243566</td>\n",
       "      <td>34</td>\n",
       "    </tr>\n",
       "    <tr>\n",
       "      <th>2</th>\n",
       "      <td>3048233</td>\n",
       "      <td>2.031250</td>\n",
       "      <td>21</td>\n",
       "    </tr>\n",
       "    <tr>\n",
       "      <th>3</th>\n",
       "      <td>3051309</td>\n",
       "      <td>1.709515</td>\n",
       "      <td>1093</td>\n",
       "    </tr>\n",
       "    <tr>\n",
       "      <th>4</th>\n",
       "      <td>1950</td>\n",
       "      <td>1.000000</td>\n",
       "      <td>1</td>\n",
       "    </tr>\n",
       "  </tbody>\n",
       "</table>\n",
       "</div>"
      ],
      "text/plain": [
       "   streamerId  avgInteractionTime  interactionCounts\n",
       "0     2987163            3.338468                 71\n",
       "1     2751748            2.243566                 34\n",
       "2     3048233            2.031250                 21\n",
       "3     3051309            1.709515               1093\n",
       "4        1950            1.000000                  1"
      ]
     },
     "execution_count": 5,
     "metadata": {},
     "output_type": "execute_result"
    }
   ],
   "source": [
    "df.head()"
   ]
  },
  {
   "cell_type": "code",
   "execution_count": 15,
   "id": "4b767fb0",
   "metadata": {},
   "outputs": [],
   "source": [
    "from pyspark.ml.feature import VectorAssembler\n",
    "spark_df =df.to_spark() "
   ]
  },
  {
   "cell_type": "code",
   "execution_count": 21,
   "id": "25dffd34",
   "metadata": {},
   "outputs": [],
   "source": [
    "assemble=VectorAssembler(inputCols=[\n",
    "'avgInteractionTime', 'interactionCounts'], outputCol='features')\n",
    "assembled_data=assemble.transform(spark_df)"
   ]
  },
  {
   "cell_type": "code",
   "execution_count": 29,
   "id": "7418661a",
   "metadata": {},
   "outputs": [
    {
     "name": "stdout",
     "output_type": "stream",
     "text": [
      "+----------+------------------+-----------------+--------------------+\n",
      "|streamerId|avgInteractionTime|interactionCounts|            features|\n",
      "+----------+------------------+-----------------+--------------------+\n",
      "|   2987163| 3.338468309859155|               71|[3.33846830985915...|\n",
      "|   2751748|2.2435661764705883|               34|[2.24356617647058...|\n",
      "|   3048233|           2.03125|               21|      [2.03125,21.0]|\n",
      "+----------+------------------+-----------------+--------------------+\n",
      "only showing top 3 rows\n",
      "\n"
     ]
    }
   ],
   "source": [
    "assembled_data.show(3)"
   ]
  },
  {
   "cell_type": "code",
   "execution_count": 30,
   "id": "528426d8",
   "metadata": {},
   "outputs": [],
   "source": [
    "from pyspark.ml.feature import StandardScaler\n",
    "scale=StandardScaler(inputCol='features',outputCol='standardized')\n",
    "data_scale=scale.fit(assembled_data)\n",
    "data_scale_output=data_scale.transform(assembled_data)"
   ]
  },
  {
   "cell_type": "code",
   "execution_count": 31,
   "id": "bd4127d3",
   "metadata": {},
   "outputs": [
    {
     "name": "stdout",
     "output_type": "stream",
     "text": [
      "5\n",
      "Silhouette with squared euclidean distance = 0.9952402756959156\n",
      "6\n",
      "Silhouette with squared euclidean distance = 0.9892085265877981\n",
      "7\n",
      "Silhouette with squared euclidean distance = 0.9892615567140653\n",
      "8\n",
      "Silhouette with squared euclidean distance = 0.9892305018294876\n",
      "9\n",
      "Silhouette with squared euclidean distance = 0.9871092278870074\n",
      "10\n",
      "Silhouette with squared euclidean distance = 0.9716866639855457\n",
      "11\n",
      "Silhouette with squared euclidean distance = 0.9578553211992997\n",
      "12\n",
      "Silhouette with squared euclidean distance = 0.9184192059600309\n",
      "13\n",
      "Silhouette with squared euclidean distance = 0.9132974344095116\n",
      "14\n",
      "Silhouette with squared euclidean distance = 0.9085563512128815\n"
     ]
    }
   ],
   "source": [
    "import numpy as np\n",
    "from pyspark.ml.clustering import KMeans\n",
    "from pyspark.ml.evaluation import ClusteringEvaluator\n",
    "cost = []\n",
    "for k in range(5,15):\n",
    "    print(k)\n",
    "    kmeans = KMeans().setK(k).setSeed(38).setFeaturesCol(\"features\")\n",
    "    model = kmeans.fit(data_scale_output.select('streamerId', 'features').sample(False,0.1, seed=38))\n",
    "    predictions = model.transform(data_scale_output)\n",
    "    evaluator = ClusteringEvaluator()\n",
    "    silhouette = evaluator.evaluate(predictions)\n",
    "    print(\"Silhouette with squared euclidean distance = \" + str(silhouette))\n",
    "    cost.append(silhouette)"
   ]
  },
  {
   "cell_type": "code",
   "execution_count": 37,
   "id": "f9e2dfc2",
   "metadata": {},
   "outputs": [
    {
     "name": "stdout",
     "output_type": "stream",
     "text": [
      "Silhouette with squared euclidean distance for k = 5: 0.9952402756959156\n"
     ]
    }
   ],
   "source": [
    "kmeans = KMeans().setK(np.argmax(cost)+5).setSeed(38).setFeaturesCol(\"features\") # use highest silhouette value\n",
    "model = kmeans.fit(data_scale_output.select('streamerId', 'features').sample(False,0.1, seed=38))\n",
    "predictions = model.transform(data_scale_output)\n",
    "evaluator = ClusteringEvaluator()\n",
    "silhouette = evaluator.evaluate(predictions)\n",
    "print(f\"Silhouette with squared euclidean distance for k = {np.argmax(cost)+5}: \" + str(silhouette))"
   ]
  },
  {
   "cell_type": "code",
   "execution_count": 38,
   "id": "bdd1b1f8",
   "metadata": {},
   "outputs": [
    {
     "name": "stdout",
     "output_type": "stream",
     "text": [
      "Cluster Centers: \n",
      "[2.75919179 9.92815865]\n",
      "[3.68205921e+00 7.65566667e+03]\n",
      "[3.04801522e+00 1.23880000e+04]\n",
      "[3.26974429e+00 3.69220000e+03]\n",
      "[   3.26772161 1196.73770492]\n"
     ]
    }
   ],
   "source": [
    "centers = model.clusterCenters()\n",
    "print(\"Cluster Centers: \")\n",
    "for center in centers:\n",
    "    print(center)"
   ]
  },
  {
   "cell_type": "code",
   "execution_count": 40,
   "id": "38329419",
   "metadata": {},
   "outputs": [
    {
     "name": "stdout",
     "output_type": "stream",
     "text": [
      "+----------+------------------+-----------------+--------------------+--------------------+----------+\n",
      "|streamerId|avgInteractionTime|interactionCounts|            features|        standardized|prediction|\n",
      "+----------+------------------+-----------------+--------------------+--------------------+----------+\n",
      "|   2987163| 3.338468309859155|               71|[3.33846830985915...|[1.29067469396726...|         0|\n",
      "|   2751748|2.2435661764705883|               34|[2.24356617647058...|[0.86737803670619...|         0|\n",
      "|   3048233|           2.03125|               21|      [2.03125,21.0]|[0.78529514998799...|         0|\n",
      "|   3051309|1.7095150960658738|             1093|[1.70951509606587...|[0.66091023447226...|         4|\n",
      "|      1950|               1.0|                1|           [1.0,1.0]|[0.38660684307101...|         0|\n",
      "|   2352113|         1.7734375|                4|     [1.7734375,4.0]|[0.68562307325874...|         0|\n",
      "|      2529|          2.546875|                2|      [2.546875,2.0]|[0.98463930344648...|         0|\n",
      "|   3040638|3.5066631130063968|              469|[3.50666311300639...|[1.35569995583296...|         0|\n",
      "|   2806185|2.3485576923076925|               26|[2.34855769230769...|[0.90796847519321...|         0|\n",
      "|   2908125|          2.546875|                4|      [2.546875,4.0]|[0.98463930344648...|         0|\n",
      "|   3050171|2.8621852517985613|              139|[2.86218525179856...|[1.10654040448224...|         0|\n",
      "|   3049998|3.7444556451612905|               62|[3.74445564516129...|[1.44763217599523...|         0|\n",
      "|   3048393|3.5410600545950865|             1099|[3.54106005459508...|[1.36899804883186...|         4|\n",
      "|   2712351|          2.828125|               22|     [2.828125,22.0]|[1.09337247806020...|         0|\n",
      "|   1082577|          1.515625|                4|      [1.515625,4.0]|[0.58595099652950...|         0|\n",
      "|   3050965|2.1165213178294575|              774|[2.11652131782945...|[0.81826162497854...|         4|\n",
      "|   2969023|           2.03125|               36|      [2.03125,36.0]|[0.78529514998799...|         0|\n",
      "|   2694244|2.7639802631578947|               76|[2.76398026315789...|[1.06857368385005...|         0|\n",
      "|   2996392| 5.310393258426966|              178|[5.31039325842696...|[2.05303437310603...|         0|\n",
      "|   3050662|           5.46875|               63|      [5.46875,63.0]|[2.11425617304459...|         0|\n",
      "+----------+------------------+-----------------+--------------------+--------------------+----------+\n",
      "only showing top 20 rows\n",
      "\n"
     ]
    }
   ],
   "source": [
    "predictions.show()"
   ]
  },
  {
   "cell_type": "code",
   "execution_count": 47,
   "id": "07a7093f",
   "metadata": {},
   "outputs": [],
   "source": [
    "predictions_pandas = predictions.to_pandas_on_spark()"
   ]
  },
  {
   "cell_type": "code",
   "execution_count": 48,
   "id": "e86d4726",
   "metadata": {},
   "outputs": [
    {
     "data": {
      "text/html": [
       "<div>\n",
       "<style scoped>\n",
       "    .dataframe tbody tr th:only-of-type {\n",
       "        vertical-align: middle;\n",
       "    }\n",
       "\n",
       "    .dataframe tbody tr th {\n",
       "        vertical-align: top;\n",
       "    }\n",
       "\n",
       "    .dataframe thead th {\n",
       "        text-align: right;\n",
       "    }\n",
       "</style>\n",
       "<table border=\"1\" class=\"dataframe\">\n",
       "  <thead>\n",
       "    <tr style=\"text-align: right;\">\n",
       "      <th></th>\n",
       "      <th>streamerId</th>\n",
       "      <th>avgInteractionTime</th>\n",
       "      <th>interactionCounts</th>\n",
       "      <th>features</th>\n",
       "      <th>standardized</th>\n",
       "      <th>prediction</th>\n",
       "    </tr>\n",
       "  </thead>\n",
       "  <tbody>\n",
       "    <tr>\n",
       "      <th>0</th>\n",
       "      <td>2987163</td>\n",
       "      <td>3.338468</td>\n",
       "      <td>71</td>\n",
       "      <td>[3.338468309859155, 71.0]</td>\n",
       "      <td>[1.290674693967263, 0.28240187874208855]</td>\n",
       "      <td>0</td>\n",
       "    </tr>\n",
       "    <tr>\n",
       "      <th>1</th>\n",
       "      <td>2751748</td>\n",
       "      <td>2.243566</td>\n",
       "      <td>34</td>\n",
       "      <td>[2.2435661764705883, 34.0]</td>\n",
       "      <td>[0.867378036706194, 0.13523470249621142]</td>\n",
       "      <td>0</td>\n",
       "    </tr>\n",
       "    <tr>\n",
       "      <th>2</th>\n",
       "      <td>3048233</td>\n",
       "      <td>2.031250</td>\n",
       "      <td>21</td>\n",
       "      <td>[2.03125, 21.0]</td>\n",
       "      <td>[0.785295149987992, 0.08352731624766]</td>\n",
       "      <td>0</td>\n",
       "    </tr>\n",
       "    <tr>\n",
       "      <th>3</th>\n",
       "      <td>3051309</td>\n",
       "      <td>1.709515</td>\n",
       "      <td>1093</td>\n",
       "      <td>[1.7095150960658738, 1093.0]</td>\n",
       "      <td>[0.6609102344722644, 4.347397936128209]</td>\n",
       "      <td>4</td>\n",
       "    </tr>\n",
       "    <tr>\n",
       "      <th>4</th>\n",
       "      <td>1950</td>\n",
       "      <td>1.000000</td>\n",
       "      <td>1</td>\n",
       "      <td>[1.0, 1.0]</td>\n",
       "      <td>[0.38660684307101145, 0.003977491249888571]</td>\n",
       "      <td>0</td>\n",
       "    </tr>\n",
       "  </tbody>\n",
       "</table>\n",
       "</div>"
      ],
      "text/plain": [
       "   streamerId  avgInteractionTime  interactionCounts                      features                                 standardized  prediction\n",
       "0     2987163            3.338468                 71     [3.338468309859155, 71.0]     [1.290674693967263, 0.28240187874208855]           0\n",
       "1     2751748            2.243566                 34    [2.2435661764705883, 34.0]     [0.867378036706194, 0.13523470249621142]           0\n",
       "2     3048233            2.031250                 21               [2.03125, 21.0]        [0.785295149987992, 0.08352731624766]           0\n",
       "3     3051309            1.709515               1093  [1.7095150960658738, 1093.0]      [0.6609102344722644, 4.347397936128209]           4\n",
       "4        1950            1.000000                  1                    [1.0, 1.0]  [0.38660684307101145, 0.003977491249888571]           0"
      ]
     },
     "execution_count": 48,
     "metadata": {},
     "output_type": "execute_result"
    }
   ],
   "source": [
    "predictions_pandas.head()"
   ]
  },
  {
   "cell_type": "code",
   "execution_count": 52,
   "id": "4d71b1c0",
   "metadata": {},
   "outputs": [],
   "source": [
    "temp = ps.DataFrame(predictions_pandas[\"standardized\"].to_list(), columns=['avgInteractionTimeScaled', 'interactionCountsScaled'])"
   ]
  },
  {
   "cell_type": "code",
   "execution_count": 56,
   "id": "1aaee5cb",
   "metadata": {},
   "outputs": [
    {
     "data": {
      "text/html": [
       "<div>\n",
       "<style scoped>\n",
       "    .dataframe tbody tr th:only-of-type {\n",
       "        vertical-align: middle;\n",
       "    }\n",
       "\n",
       "    .dataframe tbody tr th {\n",
       "        vertical-align: top;\n",
       "    }\n",
       "\n",
       "    .dataframe thead th {\n",
       "        text-align: right;\n",
       "    }\n",
       "</style>\n",
       "<table border=\"1\" class=\"dataframe\">\n",
       "  <thead>\n",
       "    <tr style=\"text-align: right;\">\n",
       "      <th></th>\n",
       "      <th>avgInteractionTimeScaled</th>\n",
       "      <th>interactionCountsScaled</th>\n",
       "    </tr>\n",
       "  </thead>\n",
       "  <tbody>\n",
       "    <tr>\n",
       "      <th>0</th>\n",
       "      <td>1.290675</td>\n",
       "      <td>0.282402</td>\n",
       "    </tr>\n",
       "    <tr>\n",
       "      <th>1</th>\n",
       "      <td>0.867378</td>\n",
       "      <td>0.135235</td>\n",
       "    </tr>\n",
       "    <tr>\n",
       "      <th>2</th>\n",
       "      <td>0.785295</td>\n",
       "      <td>0.083527</td>\n",
       "    </tr>\n",
       "    <tr>\n",
       "      <th>3</th>\n",
       "      <td>0.660910</td>\n",
       "      <td>4.347398</td>\n",
       "    </tr>\n",
       "    <tr>\n",
       "      <th>4</th>\n",
       "      <td>0.386607</td>\n",
       "      <td>0.003977</td>\n",
       "    </tr>\n",
       "  </tbody>\n",
       "</table>\n",
       "</div>"
      ],
      "text/plain": [
       "   avgInteractionTimeScaled  interactionCountsScaled\n",
       "0                  1.290675                 0.282402\n",
       "1                  0.867378                 0.135235\n",
       "2                  0.785295                 0.083527\n",
       "3                  0.660910                 4.347398\n",
       "4                  0.386607                 0.003977"
      ]
     },
     "execution_count": 56,
     "metadata": {},
     "output_type": "execute_result"
    }
   ],
   "source": [
    "temp.head()"
   ]
  },
  {
   "cell_type": "code",
   "execution_count": 60,
   "id": "3cc65ed8",
   "metadata": {},
   "outputs": [],
   "source": [
    "final = predictions_pandas.join(temp, how='outer')"
   ]
  },
  {
   "cell_type": "code",
   "execution_count": 62,
   "id": "f660a917",
   "metadata": {},
   "outputs": [],
   "source": [
    "final= final.drop(columns=['features','standardized'])"
   ]
  },
  {
   "cell_type": "code",
   "execution_count": 63,
   "id": "f1f66e60",
   "metadata": {},
   "outputs": [
    {
     "data": {
      "text/html": [
       "<div>\n",
       "<style scoped>\n",
       "    .dataframe tbody tr th:only-of-type {\n",
       "        vertical-align: middle;\n",
       "    }\n",
       "\n",
       "    .dataframe tbody tr th {\n",
       "        vertical-align: top;\n",
       "    }\n",
       "\n",
       "    .dataframe thead th {\n",
       "        text-align: right;\n",
       "    }\n",
       "</style>\n",
       "<table border=\"1\" class=\"dataframe\">\n",
       "  <thead>\n",
       "    <tr style=\"text-align: right;\">\n",
       "      <th></th>\n",
       "      <th>streamerId</th>\n",
       "      <th>avgInteractionTime</th>\n",
       "      <th>interactionCounts</th>\n",
       "      <th>prediction</th>\n",
       "      <th>avgInteractionTimeScaled</th>\n",
       "      <th>interactionCountsScaled</th>\n",
       "    </tr>\n",
       "  </thead>\n",
       "  <tbody>\n",
       "    <tr>\n",
       "      <th>0</th>\n",
       "      <td>2987163</td>\n",
       "      <td>3.338468</td>\n",
       "      <td>71</td>\n",
       "      <td>0</td>\n",
       "      <td>1.290675</td>\n",
       "      <td>0.282402</td>\n",
       "    </tr>\n",
       "    <tr>\n",
       "      <th>7</th>\n",
       "      <td>3040638</td>\n",
       "      <td>3.506663</td>\n",
       "      <td>469</td>\n",
       "      <td>0</td>\n",
       "      <td>1.355700</td>\n",
       "      <td>1.865443</td>\n",
       "    </tr>\n",
       "    <tr>\n",
       "      <th>19</th>\n",
       "      <td>3050662</td>\n",
       "      <td>5.468750</td>\n",
       "      <td>63</td>\n",
       "      <td>0</td>\n",
       "      <td>2.114256</td>\n",
       "      <td>0.250582</td>\n",
       "    </tr>\n",
       "    <tr>\n",
       "      <th>22</th>\n",
       "      <td>3027657</td>\n",
       "      <td>2.075948</td>\n",
       "      <td>323</td>\n",
       "      <td>0</td>\n",
       "      <td>0.802576</td>\n",
       "      <td>1.284730</td>\n",
       "    </tr>\n",
       "    <tr>\n",
       "      <th>25</th>\n",
       "      <td>17971</td>\n",
       "      <td>20.078125</td>\n",
       "      <td>6</td>\n",
       "      <td>0</td>\n",
       "      <td>7.762341</td>\n",
       "      <td>0.023865</td>\n",
       "    </tr>\n",
       "  </tbody>\n",
       "</table>\n",
       "</div>"
      ],
      "text/plain": [
       "    streamerId  avgInteractionTime  interactionCounts  prediction  avgInteractionTimeScaled  interactionCountsScaled\n",
       "0      2987163            3.338468                 71           0                  1.290675                 0.282402\n",
       "7      3040638            3.506663                469           0                  1.355700                 1.865443\n",
       "19     3050662            5.468750                 63           0                  2.114256                 0.250582\n",
       "22     3027657            2.075948                323           0                  0.802576                 1.284730\n",
       "25       17971           20.078125                  6           0                  7.762341                 0.023865"
      ]
     },
     "execution_count": 63,
     "metadata": {},
     "output_type": "execute_result"
    }
   ],
   "source": [
    "final.head()"
   ]
  },
  {
   "cell_type": "code",
   "execution_count": 64,
   "id": "9e7fbd38",
   "metadata": {},
   "outputs": [],
   "source": [
    "final.to_spark().coalesce(1).write.format('csv').option('header', 'true').save('data/item_predictions')"
   ]
  },
  {
   "cell_type": "code",
   "execution_count": 65,
   "id": "43ce3f6a",
   "metadata": {},
   "outputs": [],
   "source": [
    "model.save('models/kmeans')"
   ]
  },
  {
   "cell_type": "code",
   "execution_count": 66,
   "id": "bcd5cced",
   "metadata": {},
   "outputs": [],
   "source": [
    "from pyspark.ml.clustering import KMeansModel\n",
    "model2 = KMeansModel.load('models/kmeans')"
   ]
  },
  {
   "cell_type": "code",
   "execution_count": null,
   "id": "cc519de4",
   "metadata": {},
   "outputs": [],
   "source": []
  }
 ],
 "metadata": {
  "kernelspec": {
   "display_name": "Python 3 (ipykernel)",
   "language": "python",
   "name": "python3"
  },
  "language_info": {
   "codemirror_mode": {
    "name": "ipython",
    "version": 3
   },
   "file_extension": ".py",
   "mimetype": "text/x-python",
   "name": "python",
   "nbconvert_exporter": "python",
   "pygments_lexer": "ipython3",
   "version": "3.7.11"
  }
 },
 "nbformat": 4,
 "nbformat_minor": 5
}
