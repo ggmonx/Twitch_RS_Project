{
 "cells": [
  {
   "cell_type": "code",
   "execution_count": 1,
   "id": "3acc9697",
   "metadata": {
    "id": "3acc9697"
   },
   "outputs": [],
   "source": [
    "import os\n",
    "os.environ[\"PYARROW_IGNORE_TIMEZONE\"] = \"1\"\n",
    "#os.environ['ARROW_PRE_0_15_IPC_FORMAT'] = '1'\n",
    "\n",
    "from pyspark.pandas import read_csv\n",
    "import pyspark.pandas as ps\n",
    "# means is for items, df is for collab\n",
    "ps.set_option('compute.default_index_type', 'distributed')\n",
    "path ='data/item/means.csv'"
   ]
  },
  {
   "cell_type": "code",
   "execution_count": 2,
   "id": "bc62dfea",
   "metadata": {
    "id": "bc62dfea"
   },
   "outputs": [],
   "source": [
    "df = read_csv(path)"
   ]
  },
  {
   "cell_type": "code",
   "execution_count": 3,
   "id": "3b5e322d",
   "metadata": {
    "colab": {
     "base_uri": "https://localhost:8080/",
     "height": 204
    },
    "id": "3b5e322d",
    "outputId": "c48033dc-d8d7-42ac-a441-90325532a56e"
   },
   "outputs": [
    {
     "data": {
      "text/html": [
       "<div>\n",
       "<style scoped>\n",
       "    .dataframe tbody tr th:only-of-type {\n",
       "        vertical-align: middle;\n",
       "    }\n",
       "\n",
       "    .dataframe tbody tr th {\n",
       "        vertical-align: top;\n",
       "    }\n",
       "\n",
       "    .dataframe thead th {\n",
       "        text-align: right;\n",
       "    }\n",
       "</style>\n",
       "<table border=\"1\" class=\"dataframe\">\n",
       "  <thead>\n",
       "    <tr style=\"text-align: right;\">\n",
       "      <th></th>\n",
       "      <th>streamerId</th>\n",
       "      <th>avgInteractionTime</th>\n",
       "      <th>interactionCounts</th>\n",
       "    </tr>\n",
       "  </thead>\n",
       "  <tbody>\n",
       "    <tr>\n",
       "      <th>0</th>\n",
       "      <td>2987163</td>\n",
       "      <td>3.338468</td>\n",
       "      <td>71</td>\n",
       "    </tr>\n",
       "    <tr>\n",
       "      <th>1</th>\n",
       "      <td>2751748</td>\n",
       "      <td>2.243566</td>\n",
       "      <td>34</td>\n",
       "    </tr>\n",
       "    <tr>\n",
       "      <th>2</th>\n",
       "      <td>3048233</td>\n",
       "      <td>2.031250</td>\n",
       "      <td>21</td>\n",
       "    </tr>\n",
       "    <tr>\n",
       "      <th>3</th>\n",
       "      <td>3051309</td>\n",
       "      <td>1.709515</td>\n",
       "      <td>1093</td>\n",
       "    </tr>\n",
       "    <tr>\n",
       "      <th>4</th>\n",
       "      <td>1950</td>\n",
       "      <td>1.000000</td>\n",
       "      <td>1</td>\n",
       "    </tr>\n",
       "  </tbody>\n",
       "</table>\n",
       "</div>"
      ],
      "text/plain": [
       "   streamerId  avgInteractionTime  interactionCounts\n",
       "0     2987163            3.338468                 71\n",
       "1     2751748            2.243566                 34\n",
       "2     3048233            2.031250                 21\n",
       "3     3051309            1.709515               1093\n",
       "4        1950            1.000000                  1"
      ]
     },
     "execution_count": 3,
     "metadata": {},
     "output_type": "execute_result"
    }
   ],
   "source": [
    "df.head()"
   ]
  },
  {
   "cell_type": "code",
   "execution_count": 4,
   "id": "4b767fb0",
   "metadata": {
    "id": "4b767fb0"
   },
   "outputs": [],
   "source": [
    "from pyspark.ml.feature import VectorAssembler\n",
    "spark_df =df.to_spark() "
   ]
  },
  {
   "cell_type": "code",
   "execution_count": 5,
   "id": "25dffd34",
   "metadata": {
    "id": "25dffd34"
   },
   "outputs": [],
   "source": [
    "assemble=VectorAssembler(inputCols=[\n",
    "'avgInteractionTime', 'interactionCounts'], outputCol='features')\n",
    "assembled_data=assemble.transform(spark_df)"
   ]
  },
  {
   "cell_type": "code",
   "execution_count": 6,
   "id": "7418661a",
   "metadata": {
    "colab": {
     "base_uri": "https://localhost:8080/"
    },
    "id": "7418661a",
    "outputId": "011b14ef-ba37-4cb7-e541-8f99663d269b"
   },
   "outputs": [
    {
     "name": "stdout",
     "output_type": "stream",
     "text": [
      "+----------+------------------+-----------------+--------------------+\n",
      "|streamerId|avgInteractionTime|interactionCounts|            features|\n",
      "+----------+------------------+-----------------+--------------------+\n",
      "|   2987163| 3.338468309859155|               71|[3.33846830985915...|\n",
      "|   2751748|2.2435661764705883|               34|[2.24356617647058...|\n",
      "|   3048233|           2.03125|               21|      [2.03125,21.0]|\n",
      "+----------+------------------+-----------------+--------------------+\n",
      "only showing top 3 rows\n",
      "\n"
     ]
    }
   ],
   "source": [
    "assembled_data.show(3)"
   ]
  },
  {
   "cell_type": "code",
   "execution_count": 7,
   "id": "528426d8",
   "metadata": {
    "id": "528426d8"
   },
   "outputs": [],
   "source": [
    "from pyspark.ml.feature import StandardScaler\n",
    "scale=StandardScaler(inputCol='features',outputCol='standardized')\n",
    "data_scale=scale.fit(assembled_data)\n",
    "data_scale_output=data_scale.transform(assembled_data)"
   ]
  },
  {
   "cell_type": "code",
   "execution_count": 8,
   "id": "bd4127d3",
   "metadata": {
    "colab": {
     "base_uri": "https://localhost:8080/"
    },
    "id": "bd4127d3",
    "outputId": "8a6ce998-b074-4ef9-9220-1e5a30716f5e"
   },
   "outputs": [
    {
     "name": "stdout",
     "output_type": "stream",
     "text": [
      "2\n",
      "Silhouette with squared euclidean distance = 0.999364497866511\n",
      "3\n",
      "Silhouette with squared euclidean distance = 0.9959383916275235\n",
      "4\n",
      "Silhouette with squared euclidean distance = 0.9962134409841853\n",
      "5\n",
      "Silhouette with squared euclidean distance = 0.9952402756959156\n",
      "6\n",
      "Silhouette with squared euclidean distance = 0.9892085265877981\n",
      "7\n",
      "Silhouette with squared euclidean distance = 0.9892615567140653\n",
      "8\n",
      "Silhouette with squared euclidean distance = 0.9892305018294876\n",
      "9\n",
      "Silhouette with squared euclidean distance = 0.9871092278870074\n",
      "10\n",
      "Silhouette with squared euclidean distance = 0.9716866639855457\n",
      "11\n",
      "Silhouette with squared euclidean distance = 0.9578553211992997\n",
      "12\n",
      "Silhouette with squared euclidean distance = 0.9184192059600309\n",
      "13\n",
      "Silhouette with squared euclidean distance = 0.9132974344095116\n",
      "14\n",
      "Silhouette with squared euclidean distance = 0.9085563512128815\n"
     ]
    }
   ],
   "source": [
    "import numpy as np\n",
    "from pyspark.ml.clustering import KMeans\n",
    "from pyspark.ml.evaluation import ClusteringEvaluator\n",
    "cost = []\n",
    "for k in range(2,15):\n",
    "    print(k)\n",
    "    kmeans = KMeans().setK(k).setSeed(38).setFeaturesCol(\"features\")\n",
    "    model = kmeans.fit(data_scale_output.select('streamerId', 'features').sample(False,0.1, seed=38))\n",
    "    predictions = model.transform(data_scale_output)\n",
    "    evaluator = ClusteringEvaluator()\n",
    "    silhouette = evaluator.evaluate(predictions)\n",
    "    print(\"Silhouette with squared euclidean distance = \" + str(silhouette))\n",
    "    cost.append(silhouette)"
   ]
  },
  {
   "cell_type": "code",
   "execution_count": 10,
   "id": "04ZCjCHv97_j",
   "metadata": {
    "colab": {
     "base_uri": "https://localhost:8080/",
     "height": 405
    },
    "id": "04ZCjCHv97_j",
    "outputId": "54942185-5167-4831-d3a1-40495ab7dbc4"
   },
   "outputs": [
    {
     "data": {
      "text/plain": [
       "[<matplotlib.lines.Line2D at 0x1f77806a5c8>]"
      ]
     },
     "execution_count": 10,
     "metadata": {},
     "output_type": "execute_result"
    },
    {
     "data": {
      "image/png": "[encoded data removed]",
      "text/plain": [
       "<Figure size 576x432 with 1 Axes>"
      ]
     },
     "metadata": {
      "needs_background": "light"
     },
     "output_type": "display_data"
    }
   ],
   "source": [
    "#Visualizing the silhouette scores in a plot\n",
    "import matplotlib.pyplot as plt\n",
    "fig, ax = plt.subplots(1,1, figsize =(8,6))\n",
    "ax.set_xlabel('k')\n",
    "ax.set_ylabel('cost')\n",
    "ax.plot(range(2,15),cost)"
   ]
  },
  {
   "cell_type": "code",
   "execution_count": 11,
   "id": "f9e2dfc2",
   "metadata": {
    "colab": {
     "base_uri": "https://localhost:8080/"
    },
    "id": "f9e2dfc2",
    "outputId": "6f9e6ccc-b064-4ddd-cc21-756ff432c55b"
   },
   "outputs": [
    {
     "name": "stdout",
     "output_type": "stream",
     "text": [
      "Silhouette with squared euclidean distance for k = 7: 0.9830464047789736\n"
     ]
    }
   ],
   "source": [
    "kmeans = KMeans().setK(9).setSeed(38).setFeaturesCol(\"features\") # use elbow silhouette value\n",
    "model = kmeans.fit(data_scale_output.select('streamerId', 'features'))\n",
    "predictions = model.transform(data_scale_output)\n",
    "evaluator = ClusteringEvaluator()\n",
    "silhouette = evaluator.evaluate(predictions)\n",
    "print(f\"Silhouette with squared euclidean distance for k = {7}: \" + str(silhouette))"
   ]
  },
  {
   "cell_type": "code",
   "execution_count": 12,
   "id": "bdd1b1f8",
   "metadata": {
    "colab": {
     "base_uri": "https://localhost:8080/"
    },
    "id": "bdd1b1f8",
    "outputId": "8a1486e1-9711-466d-8313-0ddbce8b0ef2"
   },
   "outputs": [
    {
     "name": "stdout",
     "output_type": "stream",
     "text": [
      "Cluster Centers: \n",
      "[2.74042171 5.82940959]\n",
      "[2.6126197e+00 4.2640000e+04]\n",
      "[3.54289647e+00 3.56205556e+03]\n",
      "[3.28779769e+00 1.31603333e+04]\n",
      "[3.44739713e+00 6.62713514e+03]\n",
      "[   3.33713562 1775.05050505]\n",
      "[2.79294734e+00 2.73620000e+04]\n",
      "[  3.18987411 230.62720403]\n",
      "[  3.12847051 759.94425676]\n"
     ]
    }
   ],
   "source": [
    "centers = model.clusterCenters()\n",
    "print(\"Cluster Centers: \")\n",
    "for center in centers:\n",
    "    print(center)"
   ]
  },
  {
   "cell_type": "code",
   "execution_count": 13,
   "id": "lo20P9F-pxB5",
   "metadata": {
    "colab": {
     "base_uri": "https://localhost:8080/"
    },
    "id": "lo20P9F-pxB5",
    "outputId": "17a382fd-ebe1-4dc2-a53b-bc8b66d381b6"
   },
   "outputs": [
    {
     "name": "stdout",
     "output_type": "stream",
     "text": [
      "+----------+------------------+-----------------+---------------------------+------------------------------------------+----------+\n",
      "|streamerId|avgInteractionTime|interactionCounts|features                   |standardized                              |prediction|\n",
      "+----------+------------------+-----------------+---------------------------+------------------------------------------+----------+\n",
      "|2987163   |3.338468309859155 |71               |[3.338468309859155,71.0]   |[1.290674693967263,0.28240187874208855]   |0         |\n",
      "|2751748   |2.2435661764705883|34               |[2.2435661764705883,34.0]  |[0.867378036706194,0.13523470249621142]   |0         |\n",
      "|3048233   |2.03125           |21               |[2.03125,21.0]             |[0.785295149987992,0.08352731624766]      |0         |\n",
      "|3051309   |1.7095150960658738|1093             |[1.7095150960658738,1093.0]|[0.6609102344722644,4.347397936128209]    |8         |\n",
      "|1950      |1.0               |1                |[1.0,1.0]                  |[0.38660684307101145,0.003977491249888571]|0         |\n",
      "|2352113   |1.7734375         |4                |[1.7734375,4.0]            |[0.6856230732587468,0.015909964999554285] |0         |\n",
      "|2529      |2.546875          |2                |[2.546875,2.0]             |[0.9846393034464823,0.007954982499777143] |0         |\n",
      "|3040638   |3.5066631130063968|469              |[3.5066631130063968,469.0] |[1.3556999558329685,1.86544339619774]     |7         |\n",
      "|2806185   |2.3485576923076925|26               |[2.3485576923076925,26.0]  |[0.9079684751932169,0.10341477249710285]  |0         |\n",
      "|2908125   |2.546875          |4                |[2.546875,4.0]             |[0.9846393034464823,0.015909964999554285] |0         |\n",
      "+----------+------------------+-----------------+---------------------------+------------------------------------------+----------+\n",
      "only showing top 10 rows\n",
      "\n"
     ]
    }
   ],
   "source": [
    "predictions.show(10, False)"
   ]
  },
  {
   "cell_type": "code",
   "execution_count": 14,
   "id": "oXSmP-YMogkF",
   "metadata": {
    "id": "oXSmP-YMogkF"
   },
   "outputs": [],
   "source": [
    "from pyspark.ml.functions import vector_to_array\n",
    "from pyspark.sql.functions import col\n",
    "predictions = predictions.withColumn(\"xs\", vector_to_array(\"standardized\"))\n",
    "predictions_pandas = predictions.to_pandas_on_spark()"
   ]
  },
  {
   "cell_type": "code",
   "execution_count": 15,
   "id": "e86d4726",
   "metadata": {
    "colab": {
     "base_uri": "https://localhost:8080/"
    },
    "id": "e86d4726",
    "outputId": "9bc0e19e-f4d7-451f-cc0b-e1342b02650a"
   },
   "outputs": [
    {
     "data": {
      "text/plain": [
       "0    159370\n",
       "7      2351\n",
       "8       582\n",
       "5       200\n",
       "2        70\n",
       "4        37\n",
       "3        12\n",
       "1         2\n",
       "6         1\n",
       "Name: prediction, dtype: int64"
      ]
     },
     "execution_count": 15,
     "metadata": {},
     "output_type": "execute_result"
    }
   ],
   "source": [
    "predictions_pandas['prediction'].value_counts()"
   ]
  },
  {
   "cell_type": "code",
   "execution_count": 16,
   "id": "TEC8m-E_EpC0",
   "metadata": {
    "id": "TEC8m-E_EpC0"
   },
   "outputs": [],
   "source": [
    "temp = ps.DataFrame(predictions_pandas['xs'].to_list(), columns=['avgInteractionTimeScaled','interactionCountsScaled'])"
   ]
  },
  {
   "cell_type": "code",
   "execution_count": 17,
   "id": "1aaee5cb",
   "metadata": {
    "colab": {
     "base_uri": "https://localhost:8080/",
     "height": 204
    },
    "id": "1aaee5cb",
    "outputId": "574f012a-a392-45da-e128-35aac785488c"
   },
   "outputs": [
    {
     "data": {
      "text/html": [
       "<div>\n",
       "<style scoped>\n",
       "    .dataframe tbody tr th:only-of-type {\n",
       "        vertical-align: middle;\n",
       "    }\n",
       "\n",
       "    .dataframe tbody tr th {\n",
       "        vertical-align: top;\n",
       "    }\n",
       "\n",
       "    .dataframe thead th {\n",
       "        text-align: right;\n",
       "    }\n",
       "</style>\n",
       "<table border=\"1\" class=\"dataframe\">\n",
       "  <thead>\n",
       "    <tr style=\"text-align: right;\">\n",
       "      <th></th>\n",
       "      <th>avgInteractionTimeScaled</th>\n",
       "      <th>interactionCountsScaled</th>\n",
       "    </tr>\n",
       "  </thead>\n",
       "  <tbody>\n",
       "    <tr>\n",
       "      <th>0</th>\n",
       "      <td>1.290675</td>\n",
       "      <td>0.282402</td>\n",
       "    </tr>\n",
       "    <tr>\n",
       "      <th>1</th>\n",
       "      <td>0.867378</td>\n",
       "      <td>0.135235</td>\n",
       "    </tr>\n",
       "    <tr>\n",
       "      <th>2</th>\n",
       "      <td>0.785295</td>\n",
       "      <td>0.083527</td>\n",
       "    </tr>\n",
       "    <tr>\n",
       "      <th>3</th>\n",
       "      <td>0.660910</td>\n",
       "      <td>4.347398</td>\n",
       "    </tr>\n",
       "    <tr>\n",
       "      <th>4</th>\n",
       "      <td>0.386607</td>\n",
       "      <td>0.003977</td>\n",
       "    </tr>\n",
       "  </tbody>\n",
       "</table>\n",
       "</div>"
      ],
      "text/plain": [
       "   avgInteractionTimeScaled  interactionCountsScaled\n",
       "0                  1.290675                 0.282402\n",
       "1                  0.867378                 0.135235\n",
       "2                  0.785295                 0.083527\n",
       "3                  0.660910                 4.347398\n",
       "4                  0.386607                 0.003977"
      ]
     },
     "execution_count": 17,
     "metadata": {},
     "output_type": "execute_result"
    }
   ],
   "source": [
    "temp.head()"
   ]
  },
  {
   "cell_type": "code",
   "execution_count": 18,
   "id": "3cc65ed8",
   "metadata": {
    "id": "3cc65ed8"
   },
   "outputs": [],
   "source": [
    "final = predictions_pandas.join(temp, how='outer')"
   ]
  },
  {
   "cell_type": "code",
   "execution_count": 19,
   "id": "f660a917",
   "metadata": {
    "id": "f660a917"
   },
   "outputs": [],
   "source": [
    "final= final.drop(columns=['features','standardized','xs'])"
   ]
  },
  {
   "cell_type": "code",
   "execution_count": 20,
   "id": "f1f66e60",
   "metadata": {
    "colab": {
     "base_uri": "https://localhost:8080/",
     "height": 224
    },
    "id": "f1f66e60",
    "outputId": "b93a7572-701d-4333-c761-ebe3ae8aef63"
   },
   "outputs": [
    {
     "data": {
      "text/html": [
       "<div>\n",
       "<style scoped>\n",
       "    .dataframe tbody tr th:only-of-type {\n",
       "        vertical-align: middle;\n",
       "    }\n",
       "\n",
       "    .dataframe tbody tr th {\n",
       "        vertical-align: top;\n",
       "    }\n",
       "\n",
       "    .dataframe thead th {\n",
       "        text-align: right;\n",
       "    }\n",
       "</style>\n",
       "<table border=\"1\" class=\"dataframe\">\n",
       "  <thead>\n",
       "    <tr style=\"text-align: right;\">\n",
       "      <th></th>\n",
       "      <th>streamerId</th>\n",
       "      <th>avgInteractionTime</th>\n",
       "      <th>interactionCounts</th>\n",
       "      <th>prediction</th>\n",
       "      <th>avgInteractionTimeScaled</th>\n",
       "      <th>interactionCountsScaled</th>\n",
       "    </tr>\n",
       "  </thead>\n",
       "  <tbody>\n",
       "    <tr>\n",
       "      <th>0</th>\n",
       "      <td>2987163</td>\n",
       "      <td>3.338468</td>\n",
       "      <td>71</td>\n",
       "      <td>0</td>\n",
       "      <td>1.290675</td>\n",
       "      <td>0.282402</td>\n",
       "    </tr>\n",
       "    <tr>\n",
       "      <th>7</th>\n",
       "      <td>3040638</td>\n",
       "      <td>3.506663</td>\n",
       "      <td>469</td>\n",
       "      <td>7</td>\n",
       "      <td>1.355700</td>\n",
       "      <td>1.865443</td>\n",
       "    </tr>\n",
       "    <tr>\n",
       "      <th>19</th>\n",
       "      <td>3050662</td>\n",
       "      <td>5.468750</td>\n",
       "      <td>63</td>\n",
       "      <td>0</td>\n",
       "      <td>2.114256</td>\n",
       "      <td>0.250582</td>\n",
       "    </tr>\n",
       "    <tr>\n",
       "      <th>22</th>\n",
       "      <td>3027657</td>\n",
       "      <td>2.075948</td>\n",
       "      <td>323</td>\n",
       "      <td>7</td>\n",
       "      <td>0.802576</td>\n",
       "      <td>1.284730</td>\n",
       "    </tr>\n",
       "    <tr>\n",
       "      <th>25</th>\n",
       "      <td>17971</td>\n",
       "      <td>20.078125</td>\n",
       "      <td>6</td>\n",
       "      <td>0</td>\n",
       "      <td>7.762341</td>\n",
       "      <td>0.023865</td>\n",
       "    </tr>\n",
       "  </tbody>\n",
       "</table>\n",
       "</div>"
      ],
      "text/plain": [
       "    streamerId  avgInteractionTime  interactionCounts  prediction  avgInteractionTimeScaled  interactionCountsScaled\n",
       "0      2987163            3.338468                 71           0                  1.290675                 0.282402\n",
       "7      3040638            3.506663                469           7                  1.355700                 1.865443\n",
       "19     3050662            5.468750                 63           0                  2.114256                 0.250582\n",
       "22     3027657            2.075948                323           7                  0.802576                 1.284730\n",
       "25       17971           20.078125                  6           0                  7.762341                 0.023865"
      ]
     },
     "execution_count": 20,
     "metadata": {},
     "output_type": "execute_result"
    }
   ],
   "source": [
    "final.head()"
   ]
  },
  {
   "cell_type": "code",
   "execution_count": 21,
   "id": "9e7fbd38",
   "metadata": {
    "id": "9e7fbd38"
   },
   "outputs": [],
   "source": [
    "final.to_spark().coalesce(1).write.format('csv').mode(\"overwrite\").option('header', 'true').save('data/item_predictions')"
   ]
  },
  {
   "cell_type": "code",
   "execution_count": 22,
   "id": "43ce3f6a",
   "metadata": {
    "id": "43ce3f6a"
   },
   "outputs": [],
   "source": [
    "model.write().overwrite().save('models/kmeans')"
   ]
  },
  {
   "cell_type": "code",
   "execution_count": 23,
   "id": "bcd5cced",
   "metadata": {
    "id": "bcd5cced"
   },
   "outputs": [],
   "source": [
    "from pyspark.ml.clustering import KMeansModel\n",
    "model2 = KMeansModel.load('models/kmeans')"
   ]
  },
  {
   "cell_type": "code",
   "execution_count": null,
   "id": "0a5c7f8b",
   "metadata": {},
   "outputs": [],
   "source": []
  }
 ],
 "metadata": {
  "colab": {
   "name": "ClusterRecV2.ipynb",
   "provenance": []
  },
  "kernelspec": {
   "display_name": "Python 3 (ipykernel)",
   "language": "python",
   "name": "python3"
  },
  "language_info": {
   "codemirror_mode": {
    "name": "ipython",
    "version": 3
   },
   "file_extension": ".py",
   "mimetype": "text/x-python",
   "name": "python",
   "nbconvert_exporter": "python",
   "pygments_lexer": "ipython3",
   "version": "3.7.11"
  }
 },
 "nbformat": 4,
 "nbformat_minor": 5
}
