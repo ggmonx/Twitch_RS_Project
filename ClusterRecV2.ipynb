{
  "nbformat": 4,
  "nbformat_minor": 5,
  "metadata": {
    "kernelspec": {
      "display_name": "Python 3 (ipykernel)",
      "language": "python",
      "name": "python3"
    },
    "language_info": {
      "codemirror_mode": {
        "name": "ipython",
        "version": 3
      },
      "file_extension": ".py",
      "mimetype": "text/x-python",
      "name": "python",
      "nbconvert_exporter": "python",
      "pygments_lexer": "ipython3",
      "version": "3.7.11"
    },
    "colab": {
      "name": "ClusterRecV2.ipynb",
      "provenance": []
    }
  },
  "cells": [
    {
      "cell_type": "code",
      "metadata": {
        "id": "3acc9697"
      },
      "source": [
        "import os\n",
        "os.environ[\"PYARROW_IGNORE_TIMEZONE\"] = \"1\"\n",
        "#os.environ['ARROW_PRE_0_15_IPC_FORMAT'] = '1'\n",
        "\n",
        "from pyspark.pandas import read_csv\n",
        "import pyspark.pandas as ps\n",
        "# means is for items, df is for collab\n",
        "ps.set_option('compute.default_index_type', 'distributed')\n",
        "path ='data/item/means.csv'"
      ],
      "id": "3acc9697",
      "execution_count": 4,
      "outputs": []
    },
    {
      "cell_type": "code",
      "metadata": {
        "id": "bc62dfea"
      },
      "source": [
        "df = read_csv(path)"
      ],
      "id": "bc62dfea",
      "execution_count": 5,
      "outputs": []
    },
    {
      "cell_type": "code",
      "metadata": {
        "colab": {
          "base_uri": "https://localhost:8080/",
          "height": 204
        },
        "id": "3b5e322d",
        "outputId": "c48033dc-d8d7-42ac-a441-90325532a56e"
      },
      "source": [
        "df.head()"
      ],
      "id": "3b5e322d",
      "execution_count": 6,
      "outputs": [
        {
          "output_type": "execute_result",
          "data": {
            "text/html": [
              "<div>\n",
              "<style scoped>\n",
              "    .dataframe tbody tr th:only-of-type {\n",
              "        vertical-align: middle;\n",
              "    }\n",
              "\n",
              "    .dataframe tbody tr th {\n",
              "        vertical-align: top;\n",
              "    }\n",
              "\n",
              "    .dataframe thead th {\n",
              "        text-align: right;\n",
              "    }\n",
              "</style>\n",
              "<table border=\"1\" class=\"dataframe\">\n",
              "  <thead>\n",
              "    <tr style=\"text-align: right;\">\n",
              "      <th></th>\n",
              "      <th>streamerId</th>\n",
              "      <th>avgInteractionTime</th>\n",
              "      <th>interactionCounts</th>\n",
              "    </tr>\n",
              "  </thead>\n",
              "  <tbody>\n",
              "    <tr>\n",
              "      <th>0</th>\n",
              "      <td>1000006515845484158</td>\n",
              "      <td>6.553659</td>\n",
              "      <td>10</td>\n",
              "    </tr>\n",
              "    <tr>\n",
              "      <th>1</th>\n",
              "      <td>1000006515845484158</td>\n",
              "      <td>6.553659</td>\n",
              "      <td>10</td>\n",
              "    </tr>\n",
              "    <tr>\n",
              "      <th>2</th>\n",
              "      <td>1000006515845484158</td>\n",
              "      <td>6.553659</td>\n",
              "      <td>10</td>\n",
              "    </tr>\n",
              "    <tr>\n",
              "      <th>3</th>\n",
              "      <td>1000006515845484158</td>\n",
              "      <td>6.553659</td>\n",
              "      <td>10</td>\n",
              "    </tr>\n",
              "    <tr>\n",
              "      <th>4</th>\n",
              "      <td>1000006515845484158</td>\n",
              "      <td>6.553659</td>\n",
              "      <td>10</td>\n",
              "    </tr>\n",
              "  </tbody>\n",
              "</table>\n",
              "</div>"
            ],
            "text/plain": [
              "            streamerId  avgInteractionTime  interactionCounts\n",
              "0  1000006515845484158            6.553659                 10\n",
              "1  1000006515845484158            6.553659                 10\n",
              "2  1000006515845484158            6.553659                 10\n",
              "3  1000006515845484158            6.553659                 10\n",
              "4  1000006515845484158            6.553659                 10"
            ]
          },
          "metadata": {},
          "execution_count": 6
        }
      ]
    },
    {
      "cell_type": "code",
      "metadata": {
        "id": "4b767fb0"
      },
      "source": [
        "from pyspark.ml.feature import VectorAssembler\n",
        "spark_df =df.to_spark() "
      ],
      "id": "4b767fb0",
      "execution_count": 7,
      "outputs": []
    },
    {
      "cell_type": "code",
      "metadata": {
        "id": "25dffd34"
      },
      "source": [
        "assemble=VectorAssembler(inputCols=[\n",
        "'avgInteractionTime', 'interactionCounts'], outputCol='features')\n",
        "assembled_data=assemble.transform(spark_df)"
      ],
      "id": "25dffd34",
      "execution_count": 8,
      "outputs": []
    },
    {
      "cell_type": "code",
      "metadata": {
        "colab": {
          "base_uri": "https://localhost:8080/"
        },
        "id": "7418661a",
        "outputId": "011b14ef-ba37-4cb7-e541-8f99663d269b"
      },
      "source": [
        "assembled_data.show(3)"
      ],
      "id": "7418661a",
      "execution_count": 9,
      "outputs": [
        {
          "output_type": "stream",
          "name": "stdout",
          "text": [
            "+-------------------+------------------+-----------------+--------------------+\n",
            "|         streamerId|avgInteractionTime|interactionCounts|            features|\n",
            "+-------------------+------------------+-----------------+--------------------+\n",
            "|1000006515845484158| 6.553658536585365|               10|[6.55365853658536...|\n",
            "|1000006515845484158| 6.553658536585365|               10|[6.55365853658536...|\n",
            "|1000006515845484158| 6.553658536585365|               10|[6.55365853658536...|\n",
            "+-------------------+------------------+-----------------+--------------------+\n",
            "only showing top 3 rows\n",
            "\n"
          ]
        }
      ]
    },
    {
      "cell_type": "code",
      "metadata": {
        "id": "528426d8"
      },
      "source": [
        "from pyspark.ml.feature import StandardScaler\n",
        "scale=StandardScaler(inputCol='features',outputCol='standardized')\n",
        "data_scale=scale.fit(assembled_data)\n",
        "data_scale_output=data_scale.transform(assembled_data)"
      ],
      "id": "528426d8",
      "execution_count": 10,
      "outputs": []
    },
    {
      "cell_type": "code",
      "metadata": {
        "colab": {
          "base_uri": "https://localhost:8080/"
        },
        "id": "bd4127d3",
        "outputId": "8a6ce998-b074-4ef9-9220-1e5a30716f5e"
      },
      "source": [
        "import numpy as np\n",
        "from pyspark.ml.clustering import KMeans\n",
        "from pyspark.ml.evaluation import ClusteringEvaluator\n",
        "cost = []\n",
        "for k in range(2,15):\n",
        "    print(k)\n",
        "    kmeans = KMeans().setK(k).setSeed(38).setFeaturesCol(\"features\")\n",
        "    model = kmeans.fit(data_scale_output.select('streamerId', 'features').sample(False,0.1, seed=38))\n",
        "    predictions = model.transform(data_scale_output)\n",
        "    evaluator = ClusteringEvaluator()\n",
        "    silhouette = evaluator.evaluate(predictions)\n",
        "    print(\"Silhouette with squared euclidean distance = \" + str(silhouette))\n",
        "    cost.append(silhouette)"
      ],
      "id": "bd4127d3",
      "execution_count": 11,
      "outputs": [
        {
          "output_type": "stream",
          "name": "stdout",
          "text": [
            "2\n",
            "Silhouette with squared euclidean distance = 0.9753365285110952\n",
            "3\n",
            "Silhouette with squared euclidean distance = 0.90366623697643\n",
            "4\n",
            "Silhouette with squared euclidean distance = 0.8728519151782558\n",
            "5\n",
            "Silhouette with squared euclidean distance = 0.892808496776799\n",
            "6\n",
            "Silhouette with squared euclidean distance = 0.8942629101094388\n",
            "7\n",
            "Silhouette with squared euclidean distance = 0.8473945584980299\n",
            "8\n",
            "Silhouette with squared euclidean distance = 0.8355284290421812\n",
            "9\n",
            "Silhouette with squared euclidean distance = 0.8222009472440271\n",
            "10\n",
            "Silhouette with squared euclidean distance = 0.8164642506555277\n",
            "11\n",
            "Silhouette with squared euclidean distance = 0.8081509020425343\n",
            "12\n",
            "Silhouette with squared euclidean distance = 0.808086368906688\n",
            "13\n",
            "Silhouette with squared euclidean distance = 0.8040014668564625\n",
            "14\n",
            "Silhouette with squared euclidean distance = 0.8046611389269938\n"
          ]
        }
      ]
    },
    {
      "cell_type": "code",
      "metadata": {
        "colab": {
          "base_uri": "https://localhost:8080/",
          "height": 405
        },
        "id": "04ZCjCHv97_j",
        "outputId": "54942185-5167-4831-d3a1-40495ab7dbc4"
      },
      "source": [
        "#Visualizing the silhouette scores in a plot\n",
        "import matplotlib.pyplot as plt\n",
        "fig, ax = plt.subplots(1,1, figsize =(8,6))\n",
        "ax.plot(range(2,15),cost)\n",
        "ax.set_xlabel('k')\n",
        "ax.set_ylabel('cost')"
      ],
      "id": "04ZCjCHv97_j",
      "execution_count": 12,
      "outputs": [
        {
          "output_type": "execute_result",
          "data": {
            "text/plain": [
              "Text(0, 0.5, 'cost')"
            ]
          },
          "metadata": {},
          "execution_count": 12
        },
        {
          "output_type": "display_data",
          "data": {
            "image/png": "[encoded data removed]",
            "text/plain": [
              "<Figure size 576x432 with 1 Axes>"
            ]
          },
          "metadata": {
            "needs_background": "light"
          }
        }
      ]
    },
    {
      "cell_type": "code",
      "metadata": {
        "colab": {
          "base_uri": "https://localhost:8080/"
        },
        "id": "f9e2dfc2",
        "outputId": "6f9e6ccc-b064-4ddd-cc21-756ff432c55b"
      },
      "source": [
        "kmeans = KMeans().setK(7).setSeed(38).setFeaturesCol(\"features\") # use highest silhouette value\n",
        "model = kmeans.fit(data_scale_output.select('streamerId', 'features'))\n",
        "predictions = model.transform(data_scale_output)\n",
        "evaluator = ClusteringEvaluator()\n",
        "silhouette = evaluator.evaluate(predictions)\n",
        "print(f\"Silhouette with squared euclidean distance for k = {7}: \" + str(silhouette))"
      ],
      "id": "f9e2dfc2",
      "execution_count": 57,
      "outputs": [
        {
          "output_type": "stream",
          "name": "stdout",
          "text": [
            "Silhouette with squared euclidean distance for k = 7: 0.8476138993901048\n"
          ]
        }
      ]
    },
    {
      "cell_type": "code",
      "metadata": {
        "colab": {
          "base_uri": "https://localhost:8080/"
        },
        "id": "bdd1b1f8",
        "outputId": "8a1486e1-9711-466d-8313-0ddbce8b0ef2"
      },
      "source": [
        "centers = model.clusterCenters()\n",
        "print(\"Cluster Centers: \")\n",
        "for center in centers:\n",
        "    print(center)"
      ],
      "id": "bdd1b1f8",
      "execution_count": 58,
      "outputs": [
        {
          "output_type": "stream",
          "name": "stdout",
          "text": [
            "Cluster Centers: \n",
            "[   3.7752181  2893.67030356]\n",
            "[ 3.52288211 78.75841714]\n",
            "[2.75482951e+00 1.03000000e+04]\n",
            "[   3.82745023 1471.00072431]\n",
            "[  3.90116168 618.27026758]\n",
            "[3.03720308e+00 5.74500000e+03]\n",
            "[3.00017014e+00 9.10300000e+03]\n"
          ]
        }
      ]
    },
    {
      "cell_type": "code",
      "metadata": {
        "colab": {
          "base_uri": "https://localhost:8080/"
        },
        "id": "lo20P9F-pxB5",
        "outputId": "17a382fd-ebe1-4dc2-a53b-bc8b66d381b6"
      },
      "source": [
        "predictions.show(10, False)"
      ],
      "id": "lo20P9F-pxB5",
      "execution_count": 61,
      "outputs": [
        {
          "output_type": "stream",
          "name": "stdout",
          "text": [
            "+-------------------+------------------+-----------------+------------------------+----------------------------------------+----------+\n",
            "|streamerId         |avgInteractionTime|interactionCounts|features                |standardized                            |prediction|\n",
            "+-------------------+------------------+-----------------+------------------------+----------------------------------------+----------+\n",
            "|1000006515845484158|6.553658536585365 |10               |[6.553658536585365,10.0]|[3.542307794535726,0.005544908684989901]|1         |\n",
            "|1000006515845484158|6.553658536585365 |10               |[6.553658536585365,10.0]|[3.542307794535726,0.005544908684989901]|1         |\n",
            "|1000006515845484158|6.553658536585365 |10               |[6.553658536585365,10.0]|[3.542307794535726,0.005544908684989901]|1         |\n",
            "|1000006515845484158|6.553658536585365 |10               |[6.553658536585365,10.0]|[3.542307794535726,0.005544908684989901]|1         |\n",
            "|1000006515845484158|6.553658536585365 |10               |[6.553658536585365,10.0]|[3.542307794535726,0.005544908684989901]|1         |\n",
            "|1000006515845484158|6.553658536585365 |10               |[6.553658536585365,10.0]|[3.542307794535726,0.005544908684989901]|1         |\n",
            "|1000006515845484158|6.553658536585365 |10               |[6.553658536585365,10.0]|[3.542307794535726,0.005544908684989901]|1         |\n",
            "|1000006515845484158|6.553658536585365 |10               |[6.553658536585365,10.0]|[3.542307794535726,0.005544908684989901]|1         |\n",
            "|1000006515845484158|6.553658536585365 |10               |[6.553658536585365,10.0]|[3.542307794535726,0.005544908684989901]|1         |\n",
            "|1000006515845484158|6.553658536585365 |10               |[6.553658536585365,10.0]|[3.542307794535726,0.005544908684989901]|1         |\n",
            "+-------------------+------------------+-----------------+------------------------+----------------------------------------+----------+\n",
            "only showing top 10 rows\n",
            "\n"
          ]
        }
      ]
    },
    {
      "cell_type": "code",
      "metadata": {
        "id": "oXSmP-YMogkF"
      },
      "source": [
        "from pyspark.ml.functions import vector_to_array\n",
        "from pyspark.sql.functions import col\n",
        "predictions = predictions.withColumn(\"xs\", vector_to_array(\"standardized\"))\n",
        "predictions_pandas = predictions.to_pandas_on_spark()"
      ],
      "id": "oXSmP-YMogkF",
      "execution_count": 62,
      "outputs": []
    },
    {
      "cell_type": "code",
      "metadata": {
        "colab": {
          "base_uri": "https://localhost:8080/"
        },
        "id": "e86d4726",
        "outputId": "9bc0e19e-f4d7-451f-cc0b-e1342b02650a"
      },
      "source": [
        "predictions_pandas['prediction'].value_counts()"
      ],
      "id": "e86d4726",
      "execution_count": 63,
      "outputs": [
        {
          "output_type": "execute_result",
          "data": {
            "text/plain": [
              "1    436030\n",
              "4    101154\n",
              "3     55225\n",
              "0     34095\n",
              "2     10300\n",
              "6      9103\n",
              "5      5745\n",
              "Name: prediction, dtype: int64"
            ]
          },
          "metadata": {},
          "execution_count": 63
        }
      ]
    },
    {
      "cell_type": "code",
      "metadata": {
        "id": "TEC8m-E_EpC0"
      },
      "source": [
        "temp = ps.DataFrame(predictions_pandas['xs'].to_list(), columns=['avgInteractionTimeScaled','interactionCountsScaled'])"
      ],
      "id": "TEC8m-E_EpC0",
      "execution_count": 64,
      "outputs": []
    },
    {
      "cell_type": "code",
      "metadata": {
        "colab": {
          "base_uri": "https://localhost:8080/",
          "height": 204
        },
        "id": "1aaee5cb",
        "outputId": "574f012a-a392-45da-e128-35aac785488c"
      },
      "source": [
        "temp.head()"
      ],
      "id": "1aaee5cb",
      "execution_count": 65,
      "outputs": [
        {
          "output_type": "execute_result",
          "data": {
            "text/html": [
              "<div>\n",
              "<style scoped>\n",
              "    .dataframe tbody tr th:only-of-type {\n",
              "        vertical-align: middle;\n",
              "    }\n",
              "\n",
              "    .dataframe tbody tr th {\n",
              "        vertical-align: top;\n",
              "    }\n",
              "\n",
              "    .dataframe thead th {\n",
              "        text-align: right;\n",
              "    }\n",
              "</style>\n",
              "<table border=\"1\" class=\"dataframe\">\n",
              "  <thead>\n",
              "    <tr style=\"text-align: right;\">\n",
              "      <th></th>\n",
              "      <th>avgInteractionTimeScaled</th>\n",
              "      <th>interactionCountsScaled</th>\n",
              "    </tr>\n",
              "  </thead>\n",
              "  <tbody>\n",
              "    <tr>\n",
              "      <th>0</th>\n",
              "      <td>3.542308</td>\n",
              "      <td>0.005545</td>\n",
              "    </tr>\n",
              "    <tr>\n",
              "      <th>1</th>\n",
              "      <td>3.542308</td>\n",
              "      <td>0.005545</td>\n",
              "    </tr>\n",
              "    <tr>\n",
              "      <th>2</th>\n",
              "      <td>3.542308</td>\n",
              "      <td>0.005545</td>\n",
              "    </tr>\n",
              "    <tr>\n",
              "      <th>3</th>\n",
              "      <td>3.542308</td>\n",
              "      <td>0.005545</td>\n",
              "    </tr>\n",
              "    <tr>\n",
              "      <th>4</th>\n",
              "      <td>3.542308</td>\n",
              "      <td>0.005545</td>\n",
              "    </tr>\n",
              "  </tbody>\n",
              "</table>\n",
              "</div>"
            ],
            "text/plain": [
              "   avgInteractionTimeScaled  interactionCountsScaled\n",
              "0                  3.542308                 0.005545\n",
              "1                  3.542308                 0.005545\n",
              "2                  3.542308                 0.005545\n",
              "3                  3.542308                 0.005545\n",
              "4                  3.542308                 0.005545"
            ]
          },
          "metadata": {},
          "execution_count": 65
        }
      ]
    },
    {
      "cell_type": "code",
      "metadata": {
        "id": "3cc65ed8"
      },
      "source": [
        "final = predictions_pandas.join(temp, how='outer')"
      ],
      "id": "3cc65ed8",
      "execution_count": 66,
      "outputs": []
    },
    {
      "cell_type": "code",
      "metadata": {
        "id": "f660a917"
      },
      "source": [
        "final= final.drop(columns=['features','standardized','xs'])"
      ],
      "id": "f660a917",
      "execution_count": 67,
      "outputs": []
    },
    {
      "cell_type": "code",
      "metadata": {
        "colab": {
          "base_uri": "https://localhost:8080/",
          "height": 224
        },
        "id": "f1f66e60",
        "outputId": "b93a7572-701d-4333-c761-ebe3ae8aef63"
      },
      "source": [
        "final.head()"
      ],
      "id": "f1f66e60",
      "execution_count": 68,
      "outputs": [
        {
          "output_type": "execute_result",
          "data": {
            "text/html": [
              "<div>\n",
              "<style scoped>\n",
              "    .dataframe tbody tr th:only-of-type {\n",
              "        vertical-align: middle;\n",
              "    }\n",
              "\n",
              "    .dataframe tbody tr th {\n",
              "        vertical-align: top;\n",
              "    }\n",
              "\n",
              "    .dataframe thead th {\n",
              "        text-align: right;\n",
              "    }\n",
              "</style>\n",
              "<table border=\"1\" class=\"dataframe\">\n",
              "  <thead>\n",
              "    <tr style=\"text-align: right;\">\n",
              "      <th></th>\n",
              "      <th>streamerId</th>\n",
              "      <th>avgInteractionTime</th>\n",
              "      <th>interactionCounts</th>\n",
              "      <th>prediction</th>\n",
              "      <th>avgInteractionTimeScaled</th>\n",
              "      <th>interactionCountsScaled</th>\n",
              "    </tr>\n",
              "  </thead>\n",
              "  <tbody>\n",
              "    <tr>\n",
              "      <th>0</th>\n",
              "      <td>1000006515845484158</td>\n",
              "      <td>6.553659</td>\n",
              "      <td>10</td>\n",
              "      <td>1</td>\n",
              "      <td>3.542308</td>\n",
              "      <td>0.005545</td>\n",
              "    </tr>\n",
              "    <tr>\n",
              "      <th>1</th>\n",
              "      <td>1000006515845484158</td>\n",
              "      <td>6.553659</td>\n",
              "      <td>10</td>\n",
              "      <td>1</td>\n",
              "      <td>3.542308</td>\n",
              "      <td>0.005545</td>\n",
              "    </tr>\n",
              "    <tr>\n",
              "      <th>5</th>\n",
              "      <td>1000006515845484158</td>\n",
              "      <td>6.553659</td>\n",
              "      <td>10</td>\n",
              "      <td>1</td>\n",
              "      <td>3.542308</td>\n",
              "      <td>0.005545</td>\n",
              "    </tr>\n",
              "    <tr>\n",
              "      <th>6</th>\n",
              "      <td>1000006515845484158</td>\n",
              "      <td>6.553659</td>\n",
              "      <td>10</td>\n",
              "      <td>1</td>\n",
              "      <td>3.542308</td>\n",
              "      <td>0.005545</td>\n",
              "    </tr>\n",
              "    <tr>\n",
              "      <th>7</th>\n",
              "      <td>1000006515845484158</td>\n",
              "      <td>6.553659</td>\n",
              "      <td>10</td>\n",
              "      <td>1</td>\n",
              "      <td>3.542308</td>\n",
              "      <td>0.005545</td>\n",
              "    </tr>\n",
              "  </tbody>\n",
              "</table>\n",
              "</div>"
            ],
            "text/plain": [
              "            streamerId  avgInteractionTime  interactionCounts  prediction  avgInteractionTimeScaled  interactionCountsScaled\n",
              "0  1000006515845484158            6.553659                 10           1                  3.542308                 0.005545\n",
              "1  1000006515845484158            6.553659                 10           1                  3.542308                 0.005545\n",
              "5  1000006515845484158            6.553659                 10           1                  3.542308                 0.005545\n",
              "6  1000006515845484158            6.553659                 10           1                  3.542308                 0.005545\n",
              "7  1000006515845484158            6.553659                 10           1                  3.542308                 0.005545"
            ]
          },
          "metadata": {},
          "execution_count": 68
        }
      ]
    },
    {
      "cell_type": "code",
      "metadata": {
        "id": "9e7fbd38"
      },
      "source": [
        "final.to_spark().coalesce(1).write.format('csv').mode(\"overwrite\").option('header', 'true').save('data/item_predictions')"
      ],
      "id": "9e7fbd38",
      "execution_count": 77,
      "outputs": []
    },
    {
      "cell_type": "code",
      "metadata": {
        "id": "43ce3f6a"
      },
      "source": [
        "model.write().overwrite().save('models/kmeans')"
      ],
      "id": "43ce3f6a",
      "execution_count": 76,
      "outputs": []
    },
    {
      "cell_type": "code",
      "metadata": {
        "id": "bcd5cced"
      },
      "source": [
        "# from pyspark.ml.clustering import KMeansModel\n",
        "# model2 = KMeansModel.load('models/kmeans')"
      ],
      "id": "bcd5cced",
      "execution_count": null,
      "outputs": []
    }
  ]
}