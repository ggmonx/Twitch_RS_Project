{
 "cells": [
  {
   "cell_type": "code",
   "execution_count": 1,
   "id": "ac444be4",
   "metadata": {},
   "outputs": [],
   "source": [
    "import os\n",
    "os.environ[\"PYARROW_IGNORE_TIMEZONE\"] = \"1\"\n",
    "from pyspark.pandas import read_csv\n",
    "import pyspark.pandas as ps\n",
    "from pyspark import SparkContext, SparkConf\n",
    "# means is for items, df is for collab"
   ]
  },
  {
   "cell_type": "code",
   "execution_count": 2,
   "id": "6bfdb561",
   "metadata": {},
   "outputs": [
    {
     "data": {
      "text/plain": [
       "[('spark.driver.host', 'host.docker.internal'),\n",
       " ('spark.driver.port', '49263'),\n",
       " ('spark.executor.memory', '10g'),\n",
       " ('spark.executor.id', 'driver'),\n",
       " ('spark.app.name', 'pyspark-shell'),\n",
       " ('spark.driver.memory', '20g'),\n",
       " ('spark.rdd.compress', 'True'),\n",
       " ('spark.serializer.objectStreamReset', '100'),\n",
       " ('spark.master', 'local[*]'),\n",
       " ('spark.submit.pyFiles', ''),\n",
       " ('spark.submit.deployMode', 'client'),\n",
       " ('spark.app.startTime', '1637646121775'),\n",
       " ('spark.app.id', 'local-1637646122540'),\n",
       " ('spark.ui.showConsoleProgress', 'true')]"
      ]
     },
     "execution_count": 2,
     "metadata": {},
     "output_type": "execute_result"
    }
   ],
   "source": [
    "sc = SparkContext.getOrCreate()\n",
    "sc.setCheckpointDir('/alscp')\n",
    "sc.getConf().getAll()"
   ]
  },
  {
   "cell_type": "code",
   "execution_count": 3,
   "id": "0d9ed5df",
   "metadata": {},
   "outputs": [],
   "source": [
    "ps.set_option('compute.default_index_type', 'distributed')\n",
    "path ='data\\collab\\collab_filter.csv'\n",
    "df = read_csv(path)"
   ]
  },
  {
   "cell_type": "code",
   "execution_count": 4,
   "id": "eb3933b0",
   "metadata": {},
   "outputs": [
    {
     "data": {
      "text/html": [
       "<div>\n",
       "<style scoped>\n",
       "    .dataframe tbody tr th:only-of-type {\n",
       "        vertical-align: middle;\n",
       "    }\n",
       "\n",
       "    .dataframe tbody tr th {\n",
       "        vertical-align: top;\n",
       "    }\n",
       "\n",
       "    .dataframe thead th {\n",
       "        text-align: right;\n",
       "    }\n",
       "</style>\n",
       "<table border=\"1\" class=\"dataframe\">\n",
       "  <thead>\n",
       "    <tr style=\"text-align: right;\">\n",
       "      <th></th>\n",
       "      <th>streamerId</th>\n",
       "      <th>userId</th>\n",
       "      <th>interactionTime</th>\n",
       "    </tr>\n",
       "  </thead>\n",
       "  <tbody>\n",
       "    <tr>\n",
       "      <th>0</th>\n",
       "      <td>641416</td>\n",
       "      <td>86</td>\n",
       "      <td>1.000000</td>\n",
       "    </tr>\n",
       "    <tr>\n",
       "      <th>1</th>\n",
       "      <td>3050449</td>\n",
       "      <td>94</td>\n",
       "      <td>14.921875</td>\n",
       "    </tr>\n",
       "    <tr>\n",
       "      <th>2</th>\n",
       "      <td>2469</td>\n",
       "      <td>98</td>\n",
       "      <td>1.000000</td>\n",
       "    </tr>\n",
       "    <tr>\n",
       "      <th>3</th>\n",
       "      <td>3045251</td>\n",
       "      <td>99</td>\n",
       "      <td>5.125000</td>\n",
       "    </tr>\n",
       "    <tr>\n",
       "      <th>4</th>\n",
       "      <td>3045744</td>\n",
       "      <td>110</td>\n",
       "      <td>1.000000</td>\n",
       "    </tr>\n",
       "  </tbody>\n",
       "</table>\n",
       "</div>"
      ],
      "text/plain": [
       "   streamerId  userId  interactionTime\n",
       "0      641416      86         1.000000\n",
       "1     3050449      94        14.921875\n",
       "2        2469      98         1.000000\n",
       "3     3045251      99         5.125000\n",
       "4     3045744     110         1.000000"
      ]
     },
     "execution_count": 4,
     "metadata": {},
     "output_type": "execute_result"
    }
   ],
   "source": [
    "df.head()"
   ]
  },
  {
   "cell_type": "code",
   "execution_count": 5,
   "id": "e18aba61",
   "metadata": {},
   "outputs": [],
   "source": [
    "ratings = df.to_spark()"
   ]
  },
  {
   "cell_type": "code",
   "execution_count": 6,
   "id": "d038b4a5",
   "metadata": {},
   "outputs": [
    {
     "name": "stdout",
     "output_type": "stream",
     "text": [
      "+----------+------+------------------+\n",
      "|streamerId|userId|   interactionTime|\n",
      "+----------+------+------------------+\n",
      "|    641416|    86|               1.0|\n",
      "|   3050449|    94|         14.921875|\n",
      "|      2469|    98|               1.0|\n",
      "|   3045251|    99|             5.125|\n",
      "|   3045744|   110|               1.0|\n",
      "|   2856504|   124|3.6354166666666665|\n",
      "|   3051730|   175|           4.78125|\n",
      "|   1897415|   184|               1.0|\n",
      "|   1227172|   184|               1.0|\n",
      "|   3036965|   213|               1.0|\n",
      "|   2886534|   218|          7.703125|\n",
      "|   3014795|   222|           4.09375|\n",
      "|    534407|   240| 4.830357142857143|\n",
      "|      6948|   240|           2.03125|\n",
      "|   3038730|   257|               1.0|\n",
      "|   2911377|   266|           4.09375|\n",
      "|   2993536|   290|               1.0|\n",
      "|   3050222|   331|           2.71875|\n",
      "|   3045440|   366|               1.0|\n",
      "|   3050772|   371|               1.0|\n",
      "+----------+------+------------------+\n",
      "only showing top 20 rows\n",
      "\n"
     ]
    }
   ],
   "source": [
    "ratings.show()"
   ]
  },
  {
   "cell_type": "code",
   "execution_count": 7,
   "id": "a3a60ec5",
   "metadata": {},
   "outputs": [],
   "source": [
    "(training, test) = ratings.randomSplit([0.8,0.2], 38)"
   ]
  },
  {
   "cell_type": "code",
   "execution_count": 8,
   "id": "a9ba6ff0",
   "metadata": {},
   "outputs": [],
   "source": [
    "from pyspark.ml.evaluation import RegressionEvaluator\n",
    "from pyspark.ml.recommendation import ALS, ALSModel\n",
    "mapping = {'item_id':'streamerId','rating': 'interactionTime', 'user_id': 'userId'}"
   ]
  },
  {
   "cell_type": "code",
   "execution_count": 12,
   "id": "a5f13c6f",
   "metadata": {},
   "outputs": [],
   "source": [
    "from bayes_opt import BayesianOptimization\n",
    "pbounds = {'regParam': (0.001,1),\n",
    "            'rank': (1,30)}\n",
    "def findOptimalModel(regParam=0.3, rank=10):\n",
    "    rank = int(rank)\n",
    "    als = ALS(maxIter=40, regParam=regParam, rank=rank, nonnegative=True,\n",
    "              userCol=mapping['user_id'], itemCol=mapping[\"item_id\"], ratingCol=mapping[\"rating\"], coldStartStrategy='drop')\n",
    "    lrModel = als.fit(training)\n",
    "    predictions = lrModel.transform(test)\n",
    "    evaluator = RegressionEvaluator(metricName=\"rmse\", labelCol=mapping[\"rating\"],\n",
    "                                    predictionCol=\"prediction\")\n",
    "    rmse = evaluator.evaluate(predictions) \n",
    "    return -1 *rmse # bayes opt maximizes function\n",
    "\n",
    "def trainOptimalModel(regParam=0.3, rank=10):\n",
    "    rank = int(rank)\n",
    "    als = ALS(maxIter=40, regParam=regParam, rank=rank, nonnegative=True,\n",
    "              userCol=mapping['user_id'], itemCol=mapping[\"item_id\"], ratingCol=mapping[\"rating\"], coldStartStrategy='NaN')\n",
    "    lrModel = als.fit(training)\n",
    "    return lrModel"
   ]
  },
  {
   "cell_type": "code",
   "execution_count": 13,
   "id": "908f2570",
   "metadata": {},
   "outputs": [],
   "source": [
    "optimizer = BayesianOptimization(\n",
    "    f=findOptimalModel,\n",
    "    pbounds=pbounds,\n",
    "    verbose=2, # verbose = 1 prints only when a maximum is observed, verbose = 0 is silent\n",
    "    random_state=1\n",
    ")\n",
    "\n",
    "optimizer.probe( # default values for als\n",
    "    params={'regParam': .001,\n",
    "            'rank': 10.0},\n",
    "    lazy=True,\n",
    ")\n"
   ]
  },
  {
   "cell_type": "code",
   "execution_count": 14,
   "id": "cd63f67c",
   "metadata": {},
   "outputs": [
    {
     "name": "stdout",
     "output_type": "stream",
     "text": [
      "|   iter    |  target   |   rank    | regParam  |\n",
      "-------------------------------------------------\n",
      "| \u001b[0m 1       \u001b[0m | \u001b[0m-9.119   \u001b[0m | \u001b[0m 10.0    \u001b[0m | \u001b[0m 0.001   \u001b[0m |\n",
      "| \u001b[95m 2       \u001b[0m | \u001b[95m-3.175   \u001b[0m | \u001b[95m 13.09   \u001b[0m | \u001b[95m 0.7206  \u001b[0m |\n",
      "| \u001b[95m 3       \u001b[0m | \u001b[95m-3.165   \u001b[0m | \u001b[95m 1.003   \u001b[0m | \u001b[95m 0.303   \u001b[0m |\n",
      "| \u001b[0m 4       \u001b[0m | \u001b[0m-3.695   \u001b[0m | \u001b[0m 5.256   \u001b[0m | \u001b[0m 0.09325 \u001b[0m |\n",
      "| \u001b[0m 5       \u001b[0m | \u001b[0m-3.305   \u001b[0m | \u001b[0m 6.402   \u001b[0m | \u001b[0m 0.3462  \u001b[0m |\n",
      "| \u001b[0m 6       \u001b[0m | \u001b[0m-3.191   \u001b[0m | \u001b[0m 12.51   \u001b[0m | \u001b[0m 0.5393  \u001b[0m |\n",
      "| \u001b[0m 7       \u001b[0m | \u001b[0m-3.176   \u001b[0m | \u001b[0m 13.16   \u001b[0m | \u001b[0m 0.6855  \u001b[0m |\n",
      "| \u001b[0m 8       \u001b[0m | \u001b[0m-3.196   \u001b[0m | \u001b[0m 6.929   \u001b[0m | \u001b[0m 0.8782  \u001b[0m |\n",
      "| \u001b[95m 9       \u001b[0m | \u001b[95m-3.148   \u001b[0m | \u001b[95m 1.794   \u001b[0m | \u001b[95m 0.6708  \u001b[0m |\n",
      "| \u001b[0m 10      \u001b[0m | \u001b[0m-3.188   \u001b[0m | \u001b[0m 13.1    \u001b[0m | \u001b[0m 0.5591  \u001b[0m |\n",
      "| \u001b[0m 11      \u001b[0m | \u001b[0m-3.452   \u001b[0m | \u001b[0m 5.071   \u001b[0m | \u001b[0m 0.1989  \u001b[0m |\n",
      "| \u001b[0m 12      \u001b[0m | \u001b[0m-3.202   \u001b[0m | \u001b[0m 16.88   \u001b[0m | \u001b[0m 1.0     \u001b[0m |\n",
      "| \u001b[0m 13      \u001b[0m | \u001b[0m-7.503   \u001b[0m | \u001b[0m 20.16   \u001b[0m | \u001b[0m 0.001   \u001b[0m |\n",
      "| \u001b[0m 14      \u001b[0m | \u001b[0m-3.199   \u001b[0m | \u001b[0m 30.0    \u001b[0m | \u001b[0m 1.0     \u001b[0m |\n",
      "| \u001b[0m 15      \u001b[0m | \u001b[0m-6.467   \u001b[0m | \u001b[0m 27.12   \u001b[0m | \u001b[0m 0.001   \u001b[0m |\n",
      "| \u001b[0m 16      \u001b[0m | \u001b[0m-8.651   \u001b[0m | \u001b[0m 15.42   \u001b[0m | \u001b[0m 0.001   \u001b[0m |\n",
      "=================================================\n"
     ]
    }
   ],
   "source": [
    "optimizer.maximize(\n",
    "    init_points=10,\n",
    "    n_iter=5\n",
    ")"
   ]
  },
  {
   "cell_type": "code",
   "execution_count": 15,
   "id": "eef88949",
   "metadata": {},
   "outputs": [
    {
     "data": {
      "text/plain": [
       "{'target': -3.1478518599577314,\n",
       " 'params': {'rank': 1.7942402027398587, 'regParam': 0.6707970426682238}}"
      ]
     },
     "execution_count": 15,
     "metadata": {},
     "output_type": "execute_result"
    }
   ],
   "source": [
    "optimizer.max"
   ]
  },
  {
   "cell_type": "code",
   "execution_count": 16,
   "id": "9fd3fe10",
   "metadata": {},
   "outputs": [],
   "source": [
    "import matplotlib.pyplot as plt\n",
    "rmses=[]\n",
    "iterations= []\n",
    "for i, res in enumerate(optimizer.res):\n",
    "    iterations.append(i)\n",
    "    rmses.append(-1 * res['target'])\n"
   ]
  },
  {
   "cell_type": "code",
   "execution_count": 17,
   "id": "204ba2c8",
   "metadata": {},
   "outputs": [
    {
     "data": {
      "image/png": "[encoded data removed]",
      "text/plain": [
       "<Figure size 432x288 with 1 Axes>"
      ]
     },
     "metadata": {
      "needs_background": "light"
     },
     "output_type": "display_data"
    }
   ],
   "source": [
    "plt.plot(iterations, rmses)\n",
    "plt.ylabel('rmse scores')\n",
    "plt.xlabel('Iteration Number')\n",
    "plt.title('Bayesian Optimization for ALS')\n",
    "plt.show()"
   ]
  },
  {
   "cell_type": "code",
   "execution_count": null,
   "id": "6c0ace54",
   "metadata": {},
   "outputs": [],
   "source": [
    "model = trainOptimalModel(**optimizer.max['params'])"
   ]
  },
  {
   "cell_type": "code",
   "execution_count": null,
   "id": "0e4708ec",
   "metadata": {},
   "outputs": [],
   "source": [
    "predictions = model.transform(test) # NEED TO CONVERT NANS TO SOMETHING USEFUL!!!!!!!!!!!!!\n",
    "evaluator = RegressionEvaluator(metricName=\"rmse\", labelCol=mapping[\"rating\"],\n",
    "                                predictionCol=\"prediction\")\n",
    "\n",
    "rmse = evaluator.evaluate(predictions.dropna())\n",
    "print(\"Root-mean-square error = \" + str(rmse))\n",
    "\n",
    "# Save the model\n",
    "model.write().overwrite().save(\"models/als_explicit_collab\")\n",
    "print(\"Model successfully saved\")"
   ]
  },
  {
   "cell_type": "code",
   "execution_count": null,
   "id": "994fe0b0",
   "metadata": {},
   "outputs": [],
   "source": [
    "predictions.show() # NEED TO CONVERT NANS TO SOMETHING USEFUL!!!!!!!!!!!!!"
   ]
  },
  {
   "cell_type": "code",
   "execution_count": null,
   "id": "e531c176",
   "metadata": {},
   "outputs": [],
   "source": [
    "# test if model can be loaded\n",
    "kmeans = ALSModel.load(\"models/als_explicit_collab\")"
   ]
  },
  {
   "cell_type": "code",
   "execution_count": null,
   "id": "eefe7bdc",
   "metadata": {},
   "outputs": [],
   "source": [
    "predictions = kmeans.transform(ratings) # predict on everything"
   ]
  },
  {
   "cell_type": "code",
   "execution_count": null,
   "id": "ca315a1c",
   "metadata": {},
   "outputs": [],
   "source": [
    "predictions.show()"
   ]
  },
  {
   "cell_type": "code",
   "execution_count": null,
   "id": "129fba5b",
   "metadata": {},
   "outputs": [],
   "source": [
    "predictions.coalesce(1).write.format('csv').mode(\"overwrite\").option('header', 'true').save('data/collab_predictions')"
   ]
  }
 ],
 "metadata": {
  "kernelspec": {
   "display_name": "Python 3 (ipykernel)",
   "language": "python",
   "name": "python3"
  },
  "language_info": {
   "codemirror_mode": {
    "name": "ipython",
    "version": 3
   },
   "file_extension": ".py",
   "mimetype": "text/x-python",
   "name": "python",
   "nbconvert_exporter": "python",
   "pygments_lexer": "ipython3",
   "version": "3.7.11"
  }
 },
 "nbformat": 4,
 "nbformat_minor": 5
}
