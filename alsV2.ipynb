{
 "cells": [
  {
   "cell_type": "code",
   "execution_count": 1,
   "id": "ac444be4",
   "metadata": {},
   "outputs": [],
   "source": [
    "import os\n",
    "os.environ[\"PYARROW_IGNORE_TIMEZONE\"] = \"1\"\n",
    "from pyspark.pandas import read_csv\n",
    "import pyspark.pandas as ps\n",
    "# means is for items, df is for collab"
   ]
  },
  {
   "cell_type": "code",
   "execution_count": 2,
   "id": "0d9ed5df",
   "metadata": {},
   "outputs": [],
   "source": [
    "ps.set_option('compute.default_index_type', 'distributed')\n",
    "path ='data\\collab\\collab_filter.csv'\n",
    "df = read_csv(path)"
   ]
  },
  {
   "cell_type": "code",
   "execution_count": 3,
   "id": "eb3933b0",
   "metadata": {},
   "outputs": [
    {
     "data": {
      "text/html": [
       "<div>\n",
       "<style scoped>\n",
       "    .dataframe tbody tr th:only-of-type {\n",
       "        vertical-align: middle;\n",
       "    }\n",
       "\n",
       "    .dataframe tbody tr th {\n",
       "        vertical-align: top;\n",
       "    }\n",
       "\n",
       "    .dataframe thead th {\n",
       "        text-align: right;\n",
       "    }\n",
       "</style>\n",
       "<table border=\"1\" class=\"dataframe\">\n",
       "  <thead>\n",
       "    <tr style=\"text-align: right;\">\n",
       "      <th></th>\n",
       "      <th>userId</th>\n",
       "      <th>streamId</th>\n",
       "      <th>interactionTime</th>\n",
       "      <th>streamerId</th>\n",
       "    </tr>\n",
       "  </thead>\n",
       "  <tbody>\n",
       "    <tr>\n",
       "      <th>0</th>\n",
       "      <td>1</td>\n",
       "      <td>33842865744</td>\n",
       "      <td>2.03125</td>\n",
       "      <td>3047137</td>\n",
       "    </tr>\n",
       "    <tr>\n",
       "      <th>1</th>\n",
       "      <td>1</td>\n",
       "      <td>33846768288</td>\n",
       "      <td>3.06250</td>\n",
       "      <td>3038334</td>\n",
       "    </tr>\n",
       "    <tr>\n",
       "      <th>2</th>\n",
       "      <td>1</td>\n",
       "      <td>33886469056</td>\n",
       "      <td>1.00000</td>\n",
       "      <td>3047137</td>\n",
       "    </tr>\n",
       "    <tr>\n",
       "      <th>3</th>\n",
       "      <td>1</td>\n",
       "      <td>33887624992</td>\n",
       "      <td>2.03125</td>\n",
       "      <td>3046060</td>\n",
       "    </tr>\n",
       "    <tr>\n",
       "      <th>4</th>\n",
       "      <td>1</td>\n",
       "      <td>33890145056</td>\n",
       "      <td>3.06250</td>\n",
       "      <td>3050226</td>\n",
       "    </tr>\n",
       "  </tbody>\n",
       "</table>\n",
       "</div>"
      ],
      "text/plain": [
       "   userId     streamId  interactionTime  streamerId\n",
       "0       1  33842865744          2.03125     3047137\n",
       "1       1  33846768288          3.06250     3038334\n",
       "2       1  33886469056          1.00000     3047137\n",
       "3       1  33887624992          2.03125     3046060\n",
       "4       1  33890145056          3.06250     3050226"
      ]
     },
     "execution_count": 3,
     "metadata": {},
     "output_type": "execute_result"
    }
   ],
   "source": [
    "df.head()"
   ]
  },
  {
   "cell_type": "code",
   "execution_count": 4,
   "id": "e18aba61",
   "metadata": {},
   "outputs": [],
   "source": [
    "ratings = df.to_spark()"
   ]
  },
  {
   "cell_type": "code",
   "execution_count": 6,
   "id": "d038b4a5",
   "metadata": {},
   "outputs": [
    {
     "name": "stdout",
     "output_type": "stream",
     "text": [
      "+------+-----------+------------------+----------+\n",
      "|userId|   streamId|   interactionTime|streamerId|\n",
      "+------+-----------+------------------+----------+\n",
      "|     1|33842865744|           2.03125|   3047137|\n",
      "|     1|33846768288|            3.0625|   3038334|\n",
      "|     1|33886469056|               1.0|   3047137|\n",
      "|     1|33887624992|           2.03125|   3046060|\n",
      "|     1|33890145056|            3.0625|   3050226|\n",
      "|     1|33903958784|            3.0625|   3038141|\n",
      "|     1|33929318864|15.437500000000002|   3050209|\n",
      "|     1|33942837056|           2.03125|   3046060|\n",
      "|     1|33955351648|           2.03125|   3050209|\n",
      "|     1|34060922080|               1.0|   3047137|\n",
      "|     1|34062621584|           2.03125|   3038188|\n",
      "|     1|34077379792|           2.03125|   3047137|\n",
      "|     1|34078096176|               1.0|   3038868|\n",
      "|     1|34079135968|               1.0|   3050215|\n",
      "|     1|34082259232|               1.0|   3038868|\n",
      "|     1|34157036272|               1.0|   3047137|\n",
      "|     1|34169481232|               1.0|   3050209|\n",
      "|     1|34185325968|           4.09375|   3038188|\n",
      "|     1|34188146896|           2.03125|   3046060|\n",
      "|     1|34188931888|            3.0625|   3050220|\n",
      "+------+-----------+------------------+----------+\n",
      "only showing top 20 rows\n",
      "\n"
     ]
    }
   ],
   "source": [
    "ratings.show()"
   ]
  },
  {
   "cell_type": "code",
   "execution_count": 7,
   "id": "a3a60ec5",
   "metadata": {},
   "outputs": [],
   "source": [
    "(training, test) = ratings.randomSplit([0.8,0.2], 38)"
   ]
  },
  {
   "cell_type": "code",
   "execution_count": 9,
   "id": "a9ba6ff0",
   "metadata": {},
   "outputs": [],
   "source": [
    "from pyspark.ml.evaluation import RegressionEvaluator\n",
    "from pyspark.ml.recommendation import ALS, ALSModel\n",
    "iteration = 10\n",
    "mapping = {'item_id':'streamerId','rating': 'interactionTime', 'user_id': 'userId'}\n",
    "als = ALS(maxIter=iteration, regParam=.8, rank=15, nonnegative=True,\n",
    "          userCol=mapping['user_id'], itemCol=mapping[\"item_id\"], ratingCol=mapping[\"rating\"], coldStartStrategy='NaN')"
   ]
  },
  {
   "cell_type": "code",
   "execution_count": 10,
   "id": "6c0ace54",
   "metadata": {},
   "outputs": [],
   "source": [
    "model = als.fit(training)"
   ]
  },
  {
   "cell_type": "code",
   "execution_count": 15,
   "id": "0e4708ec",
   "metadata": {},
   "outputs": [
    {
     "name": "stdout",
     "output_type": "stream",
     "text": [
      "Root-mean-square error = 4.164839496155471\n",
      "Model successfully saved\n"
     ]
    }
   ],
   "source": [
    "predictions = model.transform(test) # NEED TO CONVERT NANS TO SOMETHING USEFUL!!!!!!!!!!!!!\n",
    "evaluator = RegressionEvaluator(metricName=\"rmse\", labelCol=mapping[\"rating\"],\n",
    "                                predictionCol=\"prediction\")\n",
    "\n",
    "rmse = evaluator.evaluate(predictions.dropna())\n",
    "print(\"Root-mean-square error = \" + str(rmse))\n",
    "\n",
    "# Save the model\n",
    "model.save(\"models/als_explicit_collab\")\n",
    "print(\"Model successfully saved\")"
   ]
  },
  {
   "cell_type": "code",
   "execution_count": 16,
   "id": "994fe0b0",
   "metadata": {},
   "outputs": [
    {
     "name": "stdout",
     "output_type": "stream",
     "text": [
      "+------+-----------+------------------+----------+----------+\n",
      "|userId|   streamId|   interactionTime|streamerId|prediction|\n",
      "+------+-----------+------------------+----------+----------+\n",
      "|     1|33846768288|            3.0625|   3038334|  1.135493|\n",
      "|     1|33929318864|15.437500000000002|   3050209| 1.6648835|\n",
      "|     1|34169481232|               1.0|   3050209| 1.6648835|\n",
      "|     2|33990610144|               1.0|   3049965|0.93534696|\n",
      "|     3|34275598832|               1.0|   1815230|0.67058045|\n",
      "|     3|33842237568|               1.0|        87|       NaN|\n",
      "|     1|34263962048|           2.03125|   3050222| 1.5576028|\n",
      "|     2|34126387600|           2.03125|   2496184| 0.7445727|\n",
      "|     3|33914081152|           2.03125|   2695851| 1.8658056|\n",
      "|     3|33927084576|            3.0625|   2695851| 1.8658056|\n",
      "|     3|34362468768|               1.0|   2695851| 1.8658056|\n",
      "|     2|34033405968|               1.0|   3049950| 1.6418666|\n",
      "|     2|34101551216|            3.0625|   3049950| 1.6418666|\n",
      "|     2|34113855072|               1.0|   3049950| 1.6418666|\n",
      "|     2|34231342752|               1.0|   3049950| 1.6418666|\n",
      "|     2|34294691376|              9.25|   3049950| 1.6418666|\n",
      "|     3|34378397120|            7.1875|   3050546| 0.9046886|\n",
      "|     1|34249946480|           2.03125|   3038868| 1.4088013|\n",
      "|     2|33848559952|               1.0|   3049933| 1.2038181|\n",
      "|     3|34320336432|               1.0|   3017071| 0.9868258|\n",
      "+------+-----------+------------------+----------+----------+\n",
      "only showing top 20 rows\n",
      "\n"
     ]
    }
   ],
   "source": [
    "predictions.show() # NEED TO CONVERT NANS TO SOMETHING USEFUL!!!!!!!!!!!!!"
   ]
  },
  {
   "cell_type": "code",
   "execution_count": 21,
   "id": "e531c176",
   "metadata": {},
   "outputs": [],
   "source": [
    "# test if model can be loaded\n",
    "kmeans = ALSModel.load(\"models/als_explicit_collab\")"
   ]
  },
  {
   "cell_type": "code",
   "execution_count": 22,
   "id": "eefe7bdc",
   "metadata": {},
   "outputs": [],
   "source": [
    "predictions = kmeans.transform(ratings) # predict on everything"
   ]
  },
  {
   "cell_type": "code",
   "execution_count": 23,
   "id": "ca315a1c",
   "metadata": {},
   "outputs": [
    {
     "name": "stdout",
     "output_type": "stream",
     "text": [
      "+------+-----------+------------------+----------+----------+\n",
      "|userId|   streamId|   interactionTime|streamerId|prediction|\n",
      "+------+-----------+------------------+----------+----------+\n",
      "|     1|33842865744|           2.03125|   3047137| 1.5231787|\n",
      "|     1|33846768288|            3.0625|   3038334|  1.135493|\n",
      "|     1|33886469056|               1.0|   3047137| 1.5231787|\n",
      "|     1|33887624992|           2.03125|   3046060| 1.4020773|\n",
      "|     1|33890145056|            3.0625|   3050226| 1.8726895|\n",
      "|     1|33903958784|            3.0625|   3038141| 1.1227242|\n",
      "|     1|33929318864|15.437500000000002|   3050209| 1.6648835|\n",
      "|     1|33942837056|           2.03125|   3046060| 1.4020773|\n",
      "|     1|33955351648|           2.03125|   3050209| 1.6648835|\n",
      "|     1|34060922080|               1.0|   3047137| 1.5231787|\n",
      "|     1|34062621584|           2.03125|   3038188| 1.8833702|\n",
      "|     1|34077379792|           2.03125|   3047137| 1.5231787|\n",
      "|     1|34078096176|               1.0|   3038868| 1.4088013|\n",
      "|     1|34079135968|               1.0|   3050215|  1.802751|\n",
      "|     1|34082259232|               1.0|   3038868| 1.4088013|\n",
      "|     1|34157036272|               1.0|   3047137| 1.5231787|\n",
      "|     1|34169481232|               1.0|   3050209| 1.6648835|\n",
      "|     1|34185325968|           4.09375|   3038188| 1.8833702|\n",
      "|     1|34188146896|           2.03125|   3046060| 1.4020773|\n",
      "|     1|34188931888|            3.0625|   3050220| 1.7211646|\n",
      "+------+-----------+------------------+----------+----------+\n",
      "only showing top 20 rows\n",
      "\n"
     ]
    }
   ],
   "source": [
    "predictions.show()"
   ]
  },
  {
   "cell_type": "code",
   "execution_count": 24,
   "id": "129fba5b",
   "metadata": {},
   "outputs": [],
   "source": [
    "predictions.coalesce(1).write.format('csv').option('header', 'true').save('data/collab_predictions')"
   ]
  },
  {
   "cell_type": "code",
   "execution_count": null,
   "id": "fa58bb5b",
   "metadata": {},
   "outputs": [],
   "source": []
  }
 ],
 "metadata": {
  "kernelspec": {
   "display_name": "Python 3 (ipykernel)",
   "language": "python",
   "name": "python3"
  },
  "language_info": {
   "codemirror_mode": {
    "name": "ipython",
    "version": 3
   },
   "file_extension": ".py",
   "mimetype": "text/x-python",
   "name": "python",
   "nbconvert_exporter": "python",
   "pygments_lexer": "ipython3",
   "version": "3.7.11"
  }
 },
 "nbformat": 4,
 "nbformat_minor": 5
}
