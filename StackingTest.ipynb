{
 "cells": [
  {
   "cell_type": "code",
   "execution_count": 1,
   "id": "c742f522",
   "metadata": {},
   "outputs": [
    {
     "data": {
      "text/plain": [
       "[('spark.driver.host', 'host.docker.internal'),\n",
       " ('spark.app.id', 'local-1637648487067'),\n",
       " ('spark.executor.memory', '10g'),\n",
       " ('spark.executor.id', 'driver'),\n",
       " ('spark.sql.analyzer.failAmbiguousSelfJoin', 'False'),\n",
       " ('spark.sql.warehouse.dir',\n",
       "  'file:/C:/Users/Gaston/Desktop/CMPE256/project/Twitch_RS_Project/spark-warehouse'),\n",
       " ('spark.app.startTime', '1637648486280'),\n",
       " ('spark.driver.memory', '20g'),\n",
       " ('spark.rdd.compress', 'True'),\n",
       " ('spark.app.name', 'pandas-on-Spark'),\n",
       " ('spark.serializer.objectStreamReset', '100'),\n",
       " ('spark.master', 'local[*]'),\n",
       " ('spark.driver.port', '53857'),\n",
       " ('spark.submit.pyFiles', ''),\n",
       " ('spark.submit.deployMode', 'client'),\n",
       " ('spark.ui.showConsoleProgress', 'true')]"
      ]
     },
     "execution_count": 1,
     "metadata": {},
     "output_type": "execute_result"
    }
   ],
   "source": [
    "from pyspark.ml.recommendation import ALS, ALSModel\n",
    "from pyspark.ml.clustering import KMeansModel\n",
    "import os\n",
    "os.environ[\"PYARROW_IGNORE_TIMEZONE\"] = \"1\"\n",
    "from pyspark.pandas import read_csv\n",
    "from pyspark import SparkContext, SparkConf\n",
    "import pyspark.pandas as ps\n",
    "ps.set_option('compute.default_index_type', 'distributed')\n",
    "sc = SparkContext.getOrCreate()\n",
    "sc.setCheckpointDir('/alscp')\n",
    "sc.getConf().getAll()"
   ]
  },
  {
   "cell_type": "code",
   "execution_count": 2,
   "id": "75355c69",
   "metadata": {},
   "outputs": [],
   "source": [
    "ALS_model = ALSModel.load(\"models/als_explicit_collab\")\n",
    "kmeans = KMeansModel.load('models/kmeans')"
   ]
  },
  {
   "cell_type": "code",
   "execution_count": 3,
   "id": "e6cd8faa",
   "metadata": {},
   "outputs": [],
   "source": [
    "path = 'data/merged_predictions/stacking_data.csv'"
   ]
  },
  {
   "cell_type": "code",
   "execution_count": 4,
   "id": "2c1792b1",
   "metadata": {},
   "outputs": [],
   "source": [
    "df = ps.read_csv(path)"
   ]
  },
  {
   "cell_type": "code",
   "execution_count": 5,
   "id": "41b14319",
   "metadata": {},
   "outputs": [],
   "source": [
    "df = df.fillna(-1) # replace predicted nans with -1"
   ]
  },
  {
   "cell_type": "code",
   "execution_count": 6,
   "id": "2e4f9ee5",
   "metadata": {},
   "outputs": [],
   "source": [
    "from pyspark.ml.regression import LinearRegression, LinearRegressionModel"
   ]
  },
  {
   "cell_type": "code",
   "execution_count": 7,
   "id": "b87d2dff",
   "metadata": {},
   "outputs": [
    {
     "data": {
      "text/html": [
       "<div>\n",
       "<style scoped>\n",
       "    .dataframe tbody tr th:only-of-type {\n",
       "        vertical-align: middle;\n",
       "    }\n",
       "\n",
       "    .dataframe tbody tr th {\n",
       "        vertical-align: top;\n",
       "    }\n",
       "\n",
       "    .dataframe thead th {\n",
       "        text-align: right;\n",
       "    }\n",
       "</style>\n",
       "<table border=\"1\" class=\"dataframe\">\n",
       "  <thead>\n",
       "    <tr style=\"text-align: right;\">\n",
       "      <th></th>\n",
       "      <th>streamerId</th>\n",
       "      <th>userId</th>\n",
       "      <th>interactionTime</th>\n",
       "      <th>collab_preds</th>\n",
       "      <th>avgInteractionTime</th>\n",
       "      <th>interactionCounts</th>\n",
       "      <th>item_preds</th>\n",
       "      <th>avgInteractionTimeScaled</th>\n",
       "      <th>interactionCountsScaled</th>\n",
       "    </tr>\n",
       "  </thead>\n",
       "  <tbody>\n",
       "    <tr>\n",
       "      <th>0</th>\n",
       "      <td>641416</td>\n",
       "      <td>86</td>\n",
       "      <td>1.000000</td>\n",
       "      <td>1.623493</td>\n",
       "      <td>4.683036</td>\n",
       "      <td>7</td>\n",
       "      <td>0</td>\n",
       "      <td>1.810494</td>\n",
       "      <td>0.027842</td>\n",
       "    </tr>\n",
       "    <tr>\n",
       "      <th>1</th>\n",
       "      <td>3050449</td>\n",
       "      <td>94</td>\n",
       "      <td>14.921875</td>\n",
       "      <td>2.215244</td>\n",
       "      <td>2.984256</td>\n",
       "      <td>1318</td>\n",
       "      <td>5</td>\n",
       "      <td>1.153734</td>\n",
       "      <td>5.242333</td>\n",
       "    </tr>\n",
       "    <tr>\n",
       "      <th>2</th>\n",
       "      <td>2469</td>\n",
       "      <td>98</td>\n",
       "      <td>1.000000</td>\n",
       "      <td>-1.000000</td>\n",
       "      <td>1.000000</td>\n",
       "      <td>1</td>\n",
       "      <td>0</td>\n",
       "      <td>0.386607</td>\n",
       "      <td>0.003977</td>\n",
       "    </tr>\n",
       "    <tr>\n",
       "      <th>3</th>\n",
       "      <td>3045251</td>\n",
       "      <td>99</td>\n",
       "      <td>5.125000</td>\n",
       "      <td>1.981570</td>\n",
       "      <td>3.011341</td>\n",
       "      <td>383</td>\n",
       "      <td>7</td>\n",
       "      <td>1.164205</td>\n",
       "      <td>1.523379</td>\n",
       "    </tr>\n",
       "    <tr>\n",
       "      <th>4</th>\n",
       "      <td>3045744</td>\n",
       "      <td>110</td>\n",
       "      <td>1.000000</td>\n",
       "      <td>0.675793</td>\n",
       "      <td>2.424613</td>\n",
       "      <td>194</td>\n",
       "      <td>7</td>\n",
       "      <td>0.937372</td>\n",
       "      <td>0.771633</td>\n",
       "    </tr>\n",
       "  </tbody>\n",
       "</table>\n",
       "</div>"
      ],
      "text/plain": [
       "   streamerId  userId  interactionTime  collab_preds  avgInteractionTime  interactionCounts  item_preds  avgInteractionTimeScaled  interactionCountsScaled\n",
       "0      641416      86         1.000000      1.623493            4.683036                  7           0                  1.810494                 0.027842\n",
       "1     3050449      94        14.921875      2.215244            2.984256               1318           5                  1.153734                 5.242333\n",
       "2        2469      98         1.000000     -1.000000            1.000000                  1           0                  0.386607                 0.003977\n",
       "3     3045251      99         5.125000      1.981570            3.011341                383           7                  1.164205                 1.523379\n",
       "4     3045744     110         1.000000      0.675793            2.424613                194           7                  0.937372                 0.771633"
      ]
     },
     "execution_count": 7,
     "metadata": {},
     "output_type": "execute_result"
    }
   ],
   "source": [
    "df.head()"
   ]
  },
  {
   "cell_type": "code",
   "execution_count": 8,
   "id": "a004e13c",
   "metadata": {},
   "outputs": [],
   "source": [
    "centroids = kmeans.clusterCenters()"
   ]
  },
  {
   "cell_type": "code",
   "execution_count": 9,
   "id": "4a504d9b",
   "metadata": {},
   "outputs": [
    {
     "data": {
      "text/plain": [
       "[array([2.74042171, 5.82940959]),\n",
       " array([2.6126197e+00, 4.2640000e+04]),\n",
       " array([3.54289647e+00, 3.56205556e+03]),\n",
       " array([3.28779769e+00, 1.31603333e+04]),\n",
       " array([3.44739713e+00, 6.62713514e+03]),\n",
       " array([   3.33713562, 1775.05050505]),\n",
       " array([2.79294734e+00, 2.73620000e+04]),\n",
       " array([  3.18987411, 230.62720403]),\n",
       " array([  3.12847051, 759.94425676])]"
      ]
     },
     "execution_count": 9,
     "metadata": {},
     "output_type": "execute_result"
    }
   ],
   "source": [
    "centroids"
   ]
  },
  {
   "cell_type": "code",
   "execution_count": 10,
   "id": "d0f5d589",
   "metadata": {},
   "outputs": [],
   "source": [
    "df['centroids_0'] = df['item_preds'].apply(lambda x: centroids[x][0])\n",
    "df['centroids_1'] = df['item_preds'].apply(lambda x: centroids[x][1])"
   ]
  },
  {
   "cell_type": "code",
   "execution_count": 11,
   "id": "a6f118a9",
   "metadata": {},
   "outputs": [
    {
     "data": {
      "text/html": [
       "<div>\n",
       "<style scoped>\n",
       "    .dataframe tbody tr th:only-of-type {\n",
       "        vertical-align: middle;\n",
       "    }\n",
       "\n",
       "    .dataframe tbody tr th {\n",
       "        vertical-align: top;\n",
       "    }\n",
       "\n",
       "    .dataframe thead th {\n",
       "        text-align: right;\n",
       "    }\n",
       "</style>\n",
       "<table border=\"1\" class=\"dataframe\">\n",
       "  <thead>\n",
       "    <tr style=\"text-align: right;\">\n",
       "      <th></th>\n",
       "      <th>streamerId</th>\n",
       "      <th>userId</th>\n",
       "      <th>interactionTime</th>\n",
       "      <th>collab_preds</th>\n",
       "      <th>avgInteractionTime</th>\n",
       "      <th>interactionCounts</th>\n",
       "      <th>item_preds</th>\n",
       "      <th>avgInteractionTimeScaled</th>\n",
       "      <th>interactionCountsScaled</th>\n",
       "      <th>centroids_0</th>\n",
       "      <th>centroids_1</th>\n",
       "    </tr>\n",
       "  </thead>\n",
       "  <tbody>\n",
       "    <tr>\n",
       "      <th>0</th>\n",
       "      <td>641416</td>\n",
       "      <td>86</td>\n",
       "      <td>1.000000</td>\n",
       "      <td>1.623493</td>\n",
       "      <td>4.683036</td>\n",
       "      <td>7</td>\n",
       "      <td>0</td>\n",
       "      <td>1.810494</td>\n",
       "      <td>0.027842</td>\n",
       "      <td>2.740422</td>\n",
       "      <td>5.829410</td>\n",
       "    </tr>\n",
       "    <tr>\n",
       "      <th>1</th>\n",
       "      <td>3050449</td>\n",
       "      <td>94</td>\n",
       "      <td>14.921875</td>\n",
       "      <td>2.215244</td>\n",
       "      <td>2.984256</td>\n",
       "      <td>1318</td>\n",
       "      <td>5</td>\n",
       "      <td>1.153734</td>\n",
       "      <td>5.242333</td>\n",
       "      <td>3.337136</td>\n",
       "      <td>1775.050505</td>\n",
       "    </tr>\n",
       "    <tr>\n",
       "      <th>2</th>\n",
       "      <td>2469</td>\n",
       "      <td>98</td>\n",
       "      <td>1.000000</td>\n",
       "      <td>-1.000000</td>\n",
       "      <td>1.000000</td>\n",
       "      <td>1</td>\n",
       "      <td>0</td>\n",
       "      <td>0.386607</td>\n",
       "      <td>0.003977</td>\n",
       "      <td>2.740422</td>\n",
       "      <td>5.829410</td>\n",
       "    </tr>\n",
       "    <tr>\n",
       "      <th>3</th>\n",
       "      <td>3045251</td>\n",
       "      <td>99</td>\n",
       "      <td>5.125000</td>\n",
       "      <td>1.981570</td>\n",
       "      <td>3.011341</td>\n",
       "      <td>383</td>\n",
       "      <td>7</td>\n",
       "      <td>1.164205</td>\n",
       "      <td>1.523379</td>\n",
       "      <td>3.189874</td>\n",
       "      <td>230.627204</td>\n",
       "    </tr>\n",
       "    <tr>\n",
       "      <th>4</th>\n",
       "      <td>3045744</td>\n",
       "      <td>110</td>\n",
       "      <td>1.000000</td>\n",
       "      <td>0.675793</td>\n",
       "      <td>2.424613</td>\n",
       "      <td>194</td>\n",
       "      <td>7</td>\n",
       "      <td>0.937372</td>\n",
       "      <td>0.771633</td>\n",
       "      <td>3.189874</td>\n",
       "      <td>230.627204</td>\n",
       "    </tr>\n",
       "  </tbody>\n",
       "</table>\n",
       "</div>"
      ],
      "text/plain": [
       "   streamerId  userId  interactionTime  collab_preds  avgInteractionTime  interactionCounts  item_preds  avgInteractionTimeScaled  interactionCountsScaled  centroids_0  centroids_1\n",
       "0      641416      86         1.000000      1.623493            4.683036                  7           0                  1.810494                 0.027842     2.740422     5.829410\n",
       "1     3050449      94        14.921875      2.215244            2.984256               1318           5                  1.153734                 5.242333     3.337136  1775.050505\n",
       "2        2469      98         1.000000     -1.000000            1.000000                  1           0                  0.386607                 0.003977     2.740422     5.829410\n",
       "3     3045251      99         5.125000      1.981570            3.011341                383           7                  1.164205                 1.523379     3.189874   230.627204\n",
       "4     3045744     110         1.000000      0.675793            2.424613                194           7                  0.937372                 0.771633     3.189874   230.627204"
      ]
     },
     "execution_count": 11,
     "metadata": {},
     "output_type": "execute_result"
    }
   ],
   "source": [
    "df.head()"
   ]
  },
  {
   "cell_type": "code",
   "execution_count": 12,
   "id": "d4ae2938",
   "metadata": {},
   "outputs": [],
   "source": [
    "spark_df = df.to_spark()\n",
    "#(training, test) = ratings.randomSplit([0.8,0.2], 38)"
   ]
  },
  {
   "cell_type": "code",
   "execution_count": 13,
   "id": "865c33a5",
   "metadata": {},
   "outputs": [],
   "source": [
    "from pyspark.ml.feature import VectorAssembler\n",
    "assemble=VectorAssembler(inputCols=[\n",
    "'collab_preds', 'centroids_0','centroids_1'], outputCol='features')\n",
    "assembled_data=assemble.transform(spark_df)"
   ]
  },
  {
   "cell_type": "code",
   "execution_count": 14,
   "id": "ec44056b",
   "metadata": {},
   "outputs": [
    {
     "data": {
      "text/plain": [
       "['streamerId',\n",
       " 'userId',\n",
       " 'interactionTime',\n",
       " 'collab_preds',\n",
       " 'avgInteractionTime',\n",
       " 'interactionCounts',\n",
       " 'item_preds',\n",
       " 'avgInteractionTimeScaled',\n",
       " 'interactionCountsScaled',\n",
       " 'centroids_0',\n",
       " 'centroids_1',\n",
       " 'features']"
      ]
     },
     "execution_count": 14,
     "metadata": {},
     "output_type": "execute_result"
    }
   ],
   "source": [
    "assembled_data.columns"
   ]
  },
  {
   "cell_type": "code",
   "execution_count": 15,
   "id": "8abae6e7",
   "metadata": {},
   "outputs": [],
   "source": [
    "(training, test)=assembled_data.randomSplit([0.8,0.2], 38)"
   ]
  },
  {
   "cell_type": "code",
   "execution_count": 16,
   "id": "09bd19a2",
   "metadata": {},
   "outputs": [],
   "source": [
    "from pyspark.ml.evaluation import RegressionEvaluator\n",
    "from bayes_opt import BayesianOptimization\n",
    "from bayes_opt import SequentialDomainReductionTransformer\n",
    "pbounds = {'regParam': (0,1),\n",
    "            'elasticNetParam': (0,1)}"
   ]
  },
  {
   "cell_type": "code",
   "execution_count": 17,
   "id": "72502495",
   "metadata": {},
   "outputs": [],
   "source": [
    "def findOptimalModel(regParam=0.3, elasticNetParam=0.8):\n",
    "    lr = LinearRegression(featuresCol='features',labelCol='interactionTime', regParam=0.3, elasticNetParam=0.8) \n",
    "    lrModel = lr.fit(training)\n",
    "    predictions = lrModel.transform(test)\n",
    "    evaluator = RegressionEvaluator(metricName=\"rmse\", labelCol='interactionTime',\n",
    "                                    predictionCol=\"prediction\")\n",
    "    rmse = evaluator.evaluate(predictions)\n",
    "    return -1 *rmse # bayes opt maximizes function\n",
    "\n",
    "def trainOptimalModel(regParam=0.3, elasticNetParam=0.8):\n",
    "    lr = LinearRegression(featuresCol='features',labelCol='interactionTime', regParam=0.3, elasticNetParam=0.8) \n",
    "    lrModel = lr.fit(training)\n",
    "    return lrModel\n",
    "    "
   ]
  },
  {
   "cell_type": "code",
   "execution_count": 18,
   "id": "272905f4",
   "metadata": {},
   "outputs": [],
   "source": [
    "optimizer = BayesianOptimization(\n",
    "    f=findOptimalModel,\n",
    "    pbounds=pbounds,\n",
    "    verbose=2, # verbose = 1 prints only when a maximum is observed, verbose = 0 is silent\n",
    "    random_state=1\n",
    ")"
   ]
  },
  {
   "cell_type": "code",
   "execution_count": 19,
   "id": "914128d3",
   "metadata": {},
   "outputs": [
    {
     "name": "stdout",
     "output_type": "stream",
     "text": [
      "|   iter    |  target   | elasti... | regParam  |\n",
      "-------------------------------------------------\n",
      "| \u001b[0m 1       \u001b[0m | \u001b[0m-2.669   \u001b[0m | \u001b[0m 0.0     \u001b[0m | \u001b[0m 0.0     \u001b[0m |\n",
      "| \u001b[0m 2       \u001b[0m | \u001b[0m-2.669   \u001b[0m | \u001b[0m 0.417   \u001b[0m | \u001b[0m 0.7203  \u001b[0m |\n",
      "| \u001b[95m 3       \u001b[0m | \u001b[95m-2.669   \u001b[0m | \u001b[95m 0.000114\u001b[0m | \u001b[95m 0.3023  \u001b[0m |\n",
      "| \u001b[0m 4       \u001b[0m | \u001b[0m-2.669   \u001b[0m | \u001b[0m 0.1468  \u001b[0m | \u001b[0m 0.09234 \u001b[0m |\n",
      "| \u001b[0m 5       \u001b[0m | \u001b[0m-2.669   \u001b[0m | \u001b[0m 0.1863  \u001b[0m | \u001b[0m 0.3456  \u001b[0m |\n",
      "| \u001b[0m 6       \u001b[0m | \u001b[0m-2.669   \u001b[0m | \u001b[0m 0.3968  \u001b[0m | \u001b[0m 0.5388  \u001b[0m |\n",
      "| \u001b[0m 7       \u001b[0m | \u001b[0m-2.669   \u001b[0m | \u001b[0m 0.09234 \u001b[0m | \u001b[0m 0.1863  \u001b[0m |\n",
      "| \u001b[0m 8       \u001b[0m | \u001b[0m-2.669   \u001b[0m | \u001b[0m 0.83    \u001b[0m | \u001b[0m 0.6601  \u001b[0m |\n",
      "| \u001b[0m 9       \u001b[0m | \u001b[0m-2.669   \u001b[0m | \u001b[0m 0.1493  \u001b[0m | \u001b[0m 0.6288  \u001b[0m |\n",
      "| \u001b[0m 10      \u001b[0m | \u001b[0m-2.669   \u001b[0m | \u001b[0m 0.08607 \u001b[0m | \u001b[0m 0.7587  \u001b[0m |\n",
      "| \u001b[0m 11      \u001b[0m | \u001b[0m-2.669   \u001b[0m | \u001b[0m 0.08189 \u001b[0m | \u001b[0m 0.3139  \u001b[0m |\n",
      "| \u001b[0m 12      \u001b[0m | \u001b[0m-2.669   \u001b[0m | \u001b[0m 0.0822  \u001b[0m | \u001b[0m 0.2479  \u001b[0m |\n",
      "| \u001b[0m 13      \u001b[0m | \u001b[0m-2.669   \u001b[0m | \u001b[0m 0.002172\u001b[0m | \u001b[0m 0.3038  \u001b[0m |\n",
      "| \u001b[0m 14      \u001b[0m | \u001b[0m-2.669   \u001b[0m | \u001b[0m 0.6099  \u001b[0m | \u001b[0m 0.3929  \u001b[0m |\n",
      "| \u001b[0m 15      \u001b[0m | \u001b[0m-2.669   \u001b[0m | \u001b[0m 0.5532  \u001b[0m | \u001b[0m 0.702   \u001b[0m |\n",
      "| \u001b[0m 16      \u001b[0m | \u001b[0m-2.669   \u001b[0m | \u001b[0m 0.1484  \u001b[0m | \u001b[0m 0.4067  \u001b[0m |\n",
      "| \u001b[0m 17      \u001b[0m | \u001b[0m-2.669   \u001b[0m | \u001b[0m 0.06681 \u001b[0m | \u001b[0m 0.5343  \u001b[0m |\n",
      "| \u001b[0m 18      \u001b[0m | \u001b[0m-2.669   \u001b[0m | \u001b[0m 0.3392  \u001b[0m | \u001b[0m 0.2749  \u001b[0m |\n",
      "| \u001b[0m 19      \u001b[0m | \u001b[0m-2.669   \u001b[0m | \u001b[0m 0.6104  \u001b[0m | \u001b[0m 0.2698  \u001b[0m |\n",
      "| \u001b[0m 20      \u001b[0m | \u001b[0m-2.669   \u001b[0m | \u001b[0m 0.9385  \u001b[0m | \u001b[0m 0.314   \u001b[0m |\n",
      "| \u001b[0m 21      \u001b[0m | \u001b[0m-2.669   \u001b[0m | \u001b[0m 0.9988  \u001b[0m | \u001b[0m 0.8911  \u001b[0m |\n",
      "| \u001b[0m 22      \u001b[0m | \u001b[0m-2.669   \u001b[0m | \u001b[0m 0.5192  \u001b[0m | \u001b[0m 0.9898  \u001b[0m |\n",
      "| \u001b[0m 23      \u001b[0m | \u001b[0m-2.669   \u001b[0m | \u001b[0m 0.3636  \u001b[0m | \u001b[0m 0.07447 \u001b[0m |\n",
      "| \u001b[0m 24      \u001b[0m | \u001b[0m-2.669   \u001b[0m | \u001b[0m 0.9424  \u001b[0m | \u001b[0m 0.001244\u001b[0m |\n",
      "| \u001b[0m 25      \u001b[0m | \u001b[0m-2.669   \u001b[0m | \u001b[0m 0.2195  \u001b[0m | \u001b[0m 0.8328  \u001b[0m |\n",
      "| \u001b[0m 26      \u001b[0m | \u001b[0m-2.669   \u001b[0m | \u001b[0m 0.261   \u001b[0m | \u001b[0m 0.1964  \u001b[0m |\n",
      "=================================================\n"
     ]
    }
   ],
   "source": [
    "optimizer.probe( # default values for linear regression\n",
    "    params={'regParam': 0,\n",
    "            'elasticNetParam': 0},\n",
    "    lazy=True,\n",
    ")\n",
    "optimizer.maximize(\n",
    "    init_points=5,\n",
    "    n_iter=20\n",
    ")"
   ]
  },
  {
   "cell_type": "code",
   "execution_count": 20,
   "id": "11f14697",
   "metadata": {},
   "outputs": [
    {
     "data": {
      "text/plain": [
       "{'target': -2.668517060098056,\n",
       " 'params': {'elasticNetParam': 0.00011437481734488664,\n",
       "  'regParam': 0.30233257263183977}}"
      ]
     },
     "execution_count": 20,
     "metadata": {},
     "output_type": "execute_result"
    }
   ],
   "source": [
    "optimizer.max"
   ]
  },
  {
   "cell_type": "code",
   "execution_count": 21,
   "id": "dfca14ee",
   "metadata": {},
   "outputs": [],
   "source": [
    "rmses=[]\n",
    "iterations= []\n",
    "for i, res in enumerate(optimizer.res):\n",
    "    iterations.append(i)\n",
    "    rmses.append(-1 * res['target'])"
   ]
  },
  {
   "cell_type": "code",
   "execution_count": 22,
   "id": "54481c5c",
   "metadata": {},
   "outputs": [],
   "source": [
    "import matplotlib.pyplot as plt"
   ]
  },
  {
   "cell_type": "code",
   "execution_count": 23,
   "id": "5768b8ce",
   "metadata": {},
   "outputs": [
    {
     "data": {
      "image/png": "[encoded data removed]",
      "text/plain": [
       "<Figure size 432x288 with 1 Axes>"
      ]
     },
     "metadata": {
      "needs_background": "light"
     },
     "output_type": "display_data"
    }
   ],
   "source": [
    "plt.plot(iterations, rmses)\n",
    "plt.ylabel('rmse values')\n",
    "plt.xlabel('iteration')\n",
    "plt.title('Bayesian Optimization for Linear Regression')\n",
    "plt.show()"
   ]
  },
  {
   "cell_type": "code",
   "execution_count": 24,
   "id": "9443aee8",
   "metadata": {},
   "outputs": [],
   "source": [
    "lrModel = trainOptimalModel(**optimizer.max['params'])"
   ]
  },
  {
   "cell_type": "code",
   "execution_count": 25,
   "id": "c93a5a3a",
   "metadata": {},
   "outputs": [
    {
     "name": "stdout",
     "output_type": "stream",
     "text": [
      "Root-mean-square error = 2.6685170600980563\n"
     ]
    }
   ],
   "source": [
    "predictions = lrModel.transform(test)\n",
    "evaluator = RegressionEvaluator(metricName=\"rmse\", labelCol='interactionTime',\n",
    "                                    predictionCol=\"prediction\")\n",
    "rmse = evaluator.evaluate(predictions)\n",
    "print(\"Root-mean-square error = \" + str(rmse))"
   ]
  },
  {
   "cell_type": "code",
   "execution_count": 26,
   "id": "573d2d82",
   "metadata": {},
   "outputs": [],
   "source": [
    "lrModel.write().overwrite().save('models/lin_reg')"
   ]
  },
  {
   "cell_type": "code",
   "execution_count": 27,
   "id": "1f9317af",
   "metadata": {},
   "outputs": [],
   "source": [
    "model2 = LinearRegressionModel.load('models/lin_reg')# test model"
   ]
  },
  {
   "cell_type": "code",
   "execution_count": 28,
   "id": "fde3981c",
   "metadata": {},
   "outputs": [],
   "source": [
    "predictions = lrModel.transform(assembled_data)"
   ]
  },
  {
   "cell_type": "code",
   "execution_count": 29,
   "id": "e7b98263",
   "metadata": {},
   "outputs": [],
   "source": [
    "predictions=predictions.drop('features')"
   ]
  },
  {
   "cell_type": "code",
   "execution_count": 30,
   "id": "18abed0a",
   "metadata": {},
   "outputs": [],
   "source": [
    "predictions.coalesce(1).write.format('csv').mode(\"overwrite\").option('header', 'true').save('data/final_lr_preds')"
   ]
  },
  {
   "cell_type": "code",
   "execution_count": null,
   "id": "920a190e",
   "metadata": {},
   "outputs": [],
   "source": []
  }
 ],
 "metadata": {
  "kernelspec": {
   "display_name": "Python 3 (ipykernel)",
   "language": "python",
   "name": "python3"
  },
  "language_info": {
   "codemirror_mode": {
    "name": "ipython",
    "version": 3
   },
   "file_extension": ".py",
   "mimetype": "text/x-python",
   "name": "python",
   "nbconvert_exporter": "python",
   "pygments_lexer": "ipython3",
   "version": "3.7.11"
  }
 },
 "nbformat": 4,
 "nbformat_minor": 5
}
