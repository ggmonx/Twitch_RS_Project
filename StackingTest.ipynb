{
 "cells": [
  {
   "cell_type": "code",
   "execution_count": 1,
   "id": "c742f522",
   "metadata": {},
   "outputs": [],
   "source": [
    "from pyspark.ml.recommendation import ALS, ALSModel\n",
    "from pyspark.ml.clustering import KMeansModel\n",
    "import os\n",
    "os.environ[\"PYARROW_IGNORE_TIMEZONE\"] = \"1\"\n",
    "from pyspark.pandas import read_csv\n",
    "import pyspark.pandas as ps\n",
    "ps.set_option('compute.default_index_type', 'distributed')"
   ]
  },
  {
   "cell_type": "code",
   "execution_count": 2,
   "id": "75355c69",
   "metadata": {},
   "outputs": [],
   "source": [
    "ALS_model = ALSModel.load(\"models/als_explicit_collab\")\n",
    "kmeans = KMeansModel.load('models/kmeans')"
   ]
  },
  {
   "cell_type": "code",
   "execution_count": 3,
   "id": "e6cd8faa",
   "metadata": {},
   "outputs": [],
   "source": [
    "path = 'data/merged_predictions/stacking_data.csv'"
   ]
  },
  {
   "cell_type": "code",
   "execution_count": 4,
   "id": "2c1792b1",
   "metadata": {},
   "outputs": [],
   "source": [
    "df = ps.read_csv(path)"
   ]
  },
  {
   "cell_type": "code",
   "execution_count": 5,
   "id": "41b14319",
   "metadata": {},
   "outputs": [],
   "source": [
    "df = df.fillna(-1) # replace predicted nans with -1"
   ]
  },
  {
   "cell_type": "code",
   "execution_count": 6,
   "id": "2e4f9ee5",
   "metadata": {},
   "outputs": [],
   "source": [
    "from pyspark.ml.regression import LinearRegression, LinearRegressionModel"
   ]
  },
  {
   "cell_type": "code",
   "execution_count": 7,
   "id": "b87d2dff",
   "metadata": {},
   "outputs": [
    {
     "data": {
      "text/html": [
       "<div>\n",
       "<style scoped>\n",
       "    .dataframe tbody tr th:only-of-type {\n",
       "        vertical-align: middle;\n",
       "    }\n",
       "\n",
       "    .dataframe tbody tr th {\n",
       "        vertical-align: top;\n",
       "    }\n",
       "\n",
       "    .dataframe thead th {\n",
       "        text-align: right;\n",
       "    }\n",
       "</style>\n",
       "<table border=\"1\" class=\"dataframe\">\n",
       "  <thead>\n",
       "    <tr style=\"text-align: right;\">\n",
       "      <th></th>\n",
       "      <th>userId</th>\n",
       "      <th>streamId</th>\n",
       "      <th>interactionTime</th>\n",
       "      <th>streamerId</th>\n",
       "      <th>collab_preds</th>\n",
       "      <th>avgInteractionTime</th>\n",
       "      <th>interactionCounts</th>\n",
       "      <th>item_preds</th>\n",
       "      <th>avgInteractionTimeScaled</th>\n",
       "      <th>interactionCountsScaled</th>\n",
       "    </tr>\n",
       "  </thead>\n",
       "  <tbody>\n",
       "    <tr>\n",
       "      <th>0</th>\n",
       "      <td>1</td>\n",
       "      <td>33842865744</td>\n",
       "      <td>2.03125</td>\n",
       "      <td>3047137</td>\n",
       "      <td>1.523179</td>\n",
       "      <td>2.605432</td>\n",
       "      <td>5706</td>\n",
       "      <td>4</td>\n",
       "      <td>1.007278</td>\n",
       "      <td>22.695565</td>\n",
       "    </tr>\n",
       "    <tr>\n",
       "      <th>1</th>\n",
       "      <td>1</td>\n",
       "      <td>33846768288</td>\n",
       "      <td>3.06250</td>\n",
       "      <td>3038334</td>\n",
       "      <td>1.135493</td>\n",
       "      <td>2.031250</td>\n",
       "      <td>225</td>\n",
       "      <td>7</td>\n",
       "      <td>0.785295</td>\n",
       "      <td>0.894936</td>\n",
       "    </tr>\n",
       "    <tr>\n",
       "      <th>2</th>\n",
       "      <td>1</td>\n",
       "      <td>33886469056</td>\n",
       "      <td>1.00000</td>\n",
       "      <td>3047137</td>\n",
       "      <td>1.523179</td>\n",
       "      <td>2.605432</td>\n",
       "      <td>5706</td>\n",
       "      <td>4</td>\n",
       "      <td>1.007278</td>\n",
       "      <td>22.695565</td>\n",
       "    </tr>\n",
       "    <tr>\n",
       "      <th>3</th>\n",
       "      <td>1</td>\n",
       "      <td>33887624992</td>\n",
       "      <td>2.03125</td>\n",
       "      <td>3046060</td>\n",
       "      <td>1.402077</td>\n",
       "      <td>2.402970</td>\n",
       "      <td>3859</td>\n",
       "      <td>2</td>\n",
       "      <td>0.929005</td>\n",
       "      <td>15.349139</td>\n",
       "    </tr>\n",
       "    <tr>\n",
       "      <th>4</th>\n",
       "      <td>1</td>\n",
       "      <td>33890145056</td>\n",
       "      <td>3.06250</td>\n",
       "      <td>3050226</td>\n",
       "      <td>1.872689</td>\n",
       "      <td>3.075806</td>\n",
       "      <td>1705</td>\n",
       "      <td>5</td>\n",
       "      <td>1.189128</td>\n",
       "      <td>6.781623</td>\n",
       "    </tr>\n",
       "  </tbody>\n",
       "</table>\n",
       "</div>"
      ],
      "text/plain": [
       "   userId     streamId  interactionTime  streamerId  collab_preds  avgInteractionTime  interactionCounts  item_preds  avgInteractionTimeScaled  interactionCountsScaled\n",
       "0       1  33842865744          2.03125     3047137      1.523179            2.605432               5706           4                  1.007278                22.695565\n",
       "1       1  33846768288          3.06250     3038334      1.135493            2.031250                225           7                  0.785295                 0.894936\n",
       "2       1  33886469056          1.00000     3047137      1.523179            2.605432               5706           4                  1.007278                22.695565\n",
       "3       1  33887624992          2.03125     3046060      1.402077            2.402970               3859           2                  0.929005                15.349139\n",
       "4       1  33890145056          3.06250     3050226      1.872689            3.075806               1705           5                  1.189128                 6.781623"
      ]
     },
     "execution_count": 7,
     "metadata": {},
     "output_type": "execute_result"
    }
   ],
   "source": [
    "df.head()"
   ]
  },
  {
   "cell_type": "code",
   "execution_count": 8,
   "id": "a004e13c",
   "metadata": {},
   "outputs": [],
   "source": [
    "centroids = kmeans.clusterCenters()"
   ]
  },
  {
   "cell_type": "code",
   "execution_count": 9,
   "id": "4a504d9b",
   "metadata": {},
   "outputs": [
    {
     "data": {
      "text/plain": [
       "[array([2.74042171, 5.82940959]),\n",
       " array([2.6126197e+00, 4.2640000e+04]),\n",
       " array([3.54289647e+00, 3.56205556e+03]),\n",
       " array([3.28779769e+00, 1.31603333e+04]),\n",
       " array([3.44739713e+00, 6.62713514e+03]),\n",
       " array([   3.33713562, 1775.05050505]),\n",
       " array([2.79294734e+00, 2.73620000e+04]),\n",
       " array([  3.18987411, 230.62720403]),\n",
       " array([  3.12847051, 759.94425676])]"
      ]
     },
     "execution_count": 9,
     "metadata": {},
     "output_type": "execute_result"
    }
   ],
   "source": [
    "centroids"
   ]
  },
  {
   "cell_type": "code",
   "execution_count": 10,
   "id": "d0f5d589",
   "metadata": {},
   "outputs": [],
   "source": [
    "df['centroids_0'] = df['item_preds'].apply(lambda x: centroids[x][0])\n",
    "df['centroids_1'] = df['item_preds'].apply(lambda x: centroids[x][1])"
   ]
  },
  {
   "cell_type": "code",
   "execution_count": 11,
   "id": "a6f118a9",
   "metadata": {},
   "outputs": [
    {
     "data": {
      "text/html": [
       "<div>\n",
       "<style scoped>\n",
       "    .dataframe tbody tr th:only-of-type {\n",
       "        vertical-align: middle;\n",
       "    }\n",
       "\n",
       "    .dataframe tbody tr th {\n",
       "        vertical-align: top;\n",
       "    }\n",
       "\n",
       "    .dataframe thead th {\n",
       "        text-align: right;\n",
       "    }\n",
       "</style>\n",
       "<table border=\"1\" class=\"dataframe\">\n",
       "  <thead>\n",
       "    <tr style=\"text-align: right;\">\n",
       "      <th></th>\n",
       "      <th>userId</th>\n",
       "      <th>streamId</th>\n",
       "      <th>interactionTime</th>\n",
       "      <th>streamerId</th>\n",
       "      <th>collab_preds</th>\n",
       "      <th>avgInteractionTime</th>\n",
       "      <th>interactionCounts</th>\n",
       "      <th>item_preds</th>\n",
       "      <th>avgInteractionTimeScaled</th>\n",
       "      <th>interactionCountsScaled</th>\n",
       "      <th>centroids_0</th>\n",
       "      <th>centroids_1</th>\n",
       "    </tr>\n",
       "  </thead>\n",
       "  <tbody>\n",
       "    <tr>\n",
       "      <th>0</th>\n",
       "      <td>1</td>\n",
       "      <td>33842865744</td>\n",
       "      <td>2.03125</td>\n",
       "      <td>3047137</td>\n",
       "      <td>1.523179</td>\n",
       "      <td>2.605432</td>\n",
       "      <td>5706</td>\n",
       "      <td>4</td>\n",
       "      <td>1.007278</td>\n",
       "      <td>22.695565</td>\n",
       "      <td>3.447397</td>\n",
       "      <td>6627.135135</td>\n",
       "    </tr>\n",
       "    <tr>\n",
       "      <th>1</th>\n",
       "      <td>1</td>\n",
       "      <td>33846768288</td>\n",
       "      <td>3.06250</td>\n",
       "      <td>3038334</td>\n",
       "      <td>1.135493</td>\n",
       "      <td>2.031250</td>\n",
       "      <td>225</td>\n",
       "      <td>7</td>\n",
       "      <td>0.785295</td>\n",
       "      <td>0.894936</td>\n",
       "      <td>3.189874</td>\n",
       "      <td>230.627204</td>\n",
       "    </tr>\n",
       "    <tr>\n",
       "      <th>2</th>\n",
       "      <td>1</td>\n",
       "      <td>33886469056</td>\n",
       "      <td>1.00000</td>\n",
       "      <td>3047137</td>\n",
       "      <td>1.523179</td>\n",
       "      <td>2.605432</td>\n",
       "      <td>5706</td>\n",
       "      <td>4</td>\n",
       "      <td>1.007278</td>\n",
       "      <td>22.695565</td>\n",
       "      <td>3.447397</td>\n",
       "      <td>6627.135135</td>\n",
       "    </tr>\n",
       "    <tr>\n",
       "      <th>3</th>\n",
       "      <td>1</td>\n",
       "      <td>33887624992</td>\n",
       "      <td>2.03125</td>\n",
       "      <td>3046060</td>\n",
       "      <td>1.402077</td>\n",
       "      <td>2.402970</td>\n",
       "      <td>3859</td>\n",
       "      <td>2</td>\n",
       "      <td>0.929005</td>\n",
       "      <td>15.349139</td>\n",
       "      <td>3.542896</td>\n",
       "      <td>3562.055556</td>\n",
       "    </tr>\n",
       "    <tr>\n",
       "      <th>4</th>\n",
       "      <td>1</td>\n",
       "      <td>33890145056</td>\n",
       "      <td>3.06250</td>\n",
       "      <td>3050226</td>\n",
       "      <td>1.872689</td>\n",
       "      <td>3.075806</td>\n",
       "      <td>1705</td>\n",
       "      <td>5</td>\n",
       "      <td>1.189128</td>\n",
       "      <td>6.781623</td>\n",
       "      <td>3.337136</td>\n",
       "      <td>1775.050505</td>\n",
       "    </tr>\n",
       "  </tbody>\n",
       "</table>\n",
       "</div>"
      ],
      "text/plain": [
       "   userId     streamId  interactionTime  streamerId  collab_preds  avgInteractionTime  interactionCounts  item_preds  avgInteractionTimeScaled  interactionCountsScaled  centroids_0  centroids_1\n",
       "0       1  33842865744          2.03125     3047137      1.523179            2.605432               5706           4                  1.007278                22.695565     3.447397  6627.135135\n",
       "1       1  33846768288          3.06250     3038334      1.135493            2.031250                225           7                  0.785295                 0.894936     3.189874   230.627204\n",
       "2       1  33886469056          1.00000     3047137      1.523179            2.605432               5706           4                  1.007278                22.695565     3.447397  6627.135135\n",
       "3       1  33887624992          2.03125     3046060      1.402077            2.402970               3859           2                  0.929005                15.349139     3.542896  3562.055556\n",
       "4       1  33890145056          3.06250     3050226      1.872689            3.075806               1705           5                  1.189128                 6.781623     3.337136  1775.050505"
      ]
     },
     "execution_count": 11,
     "metadata": {},
     "output_type": "execute_result"
    }
   ],
   "source": [
    "df.head()"
   ]
  },
  {
   "cell_type": "code",
   "execution_count": 12,
   "id": "d4ae2938",
   "metadata": {},
   "outputs": [],
   "source": [
    "spark_df = df.to_spark()\n",
    "#(training, test) = ratings.randomSplit([0.8,0.2], 38)"
   ]
  },
  {
   "cell_type": "code",
   "execution_count": 13,
   "id": "865c33a5",
   "metadata": {},
   "outputs": [],
   "source": [
    "from pyspark.ml.feature import VectorAssembler\n",
    "assemble=VectorAssembler(inputCols=[\n",
    "'collab_preds', 'centroids_0','centroids_1'], outputCol='features')\n",
    "assembled_data=assemble.transform(spark_df)"
   ]
  },
  {
   "cell_type": "code",
   "execution_count": 14,
   "id": "ec44056b",
   "metadata": {},
   "outputs": [
    {
     "data": {
      "text/plain": [
       "['userId',\n",
       " 'streamId',\n",
       " 'interactionTime',\n",
       " 'streamerId',\n",
       " 'collab_preds',\n",
       " 'avgInteractionTime',\n",
       " 'interactionCounts',\n",
       " 'item_preds',\n",
       " 'avgInteractionTimeScaled',\n",
       " 'interactionCountsScaled',\n",
       " 'centroids_0',\n",
       " 'centroids_1',\n",
       " 'features']"
      ]
     },
     "execution_count": 14,
     "metadata": {},
     "output_type": "execute_result"
    }
   ],
   "source": [
    "assembled_data.columns"
   ]
  },
  {
   "cell_type": "code",
   "execution_count": 15,
   "id": "8abae6e7",
   "metadata": {},
   "outputs": [],
   "source": [
    "(training, test)=assembled_data.randomSplit([0.8,0.2], 38)"
   ]
  },
  {
   "cell_type": "code",
   "execution_count": 26,
   "id": "09bd19a2",
   "metadata": {},
   "outputs": [],
   "source": [
    "lr = LinearRegression(featuresCol='features',labelCol='interactionTime', regParam=0.3, elasticNetParam=0.8) \n",
    "# no hyperparm tuning yet\n",
    "lrModel = lr.fit(training)"
   ]
  },
  {
   "cell_type": "code",
   "execution_count": 27,
   "id": "72502495",
   "metadata": {},
   "outputs": [
    {
     "name": "stdout",
     "output_type": "stream",
     "text": [
      "Root-mean-square error = 3.6991871662072335\n"
     ]
    }
   ],
   "source": [
    "from pyspark.ml.evaluation import RegressionEvaluator\n",
    "predictions = lrModel.transform(test)\n",
    "evaluator = RegressionEvaluator(metricName=\"rmse\", labelCol='interactionTime',\n",
    "                                predictionCol=\"prediction\")\n",
    "rmse = evaluator.evaluate(predictions)\n",
    "print(\"Root-mean-square error = \" + str(rmse))"
   ]
  },
  {
   "cell_type": "code",
   "execution_count": 18,
   "id": "573d2d82",
   "metadata": {},
   "outputs": [],
   "source": [
    "lrModel.write().overwrite().save('models/lin_reg')"
   ]
  },
  {
   "cell_type": "code",
   "execution_count": 19,
   "id": "1f9317af",
   "metadata": {},
   "outputs": [],
   "source": [
    "model2 = LinearRegressionModel.load('models/lin_reg')# test model"
   ]
  },
  {
   "cell_type": "code",
   "execution_count": 20,
   "id": "fde3981c",
   "metadata": {},
   "outputs": [],
   "source": [
    "predictions = lrModel.transform(assembled_data)"
   ]
  },
  {
   "cell_type": "code",
   "execution_count": 21,
   "id": "e7b98263",
   "metadata": {},
   "outputs": [],
   "source": [
    "predictions=predictions.drop('features')"
   ]
  },
  {
   "cell_type": "code",
   "execution_count": 22,
   "id": "18abed0a",
   "metadata": {},
   "outputs": [],
   "source": [
    "predictions.coalesce(1).write.format('csv').mode(\"overwrite\").option('header', 'true').save('data/final_lr_preds')"
   ]
  },
  {
   "cell_type": "code",
   "execution_count": 23,
   "id": "70a98ad9",
   "metadata": {},
   "outputs": [],
   "source": [
    "from pyspark.ml.regression import IsotonicRegression, IsotonicRegressionModel"
   ]
  },
  {
   "cell_type": "code",
   "execution_count": 24,
   "id": "34948ce6",
   "metadata": {},
   "outputs": [],
   "source": [
    "model = IsotonicRegression(labelCol='interactionTime').fit(training)"
   ]
  },
  {
   "cell_type": "code",
   "execution_count": 25,
   "id": "abd6b094",
   "metadata": {},
   "outputs": [
    {
     "name": "stdout",
     "output_type": "stream",
     "text": [
      "Root-mean-square error = 3.682140982215678\n"
     ]
    }
   ],
   "source": [
    "rmse_i=evaluator.evaluate(model.transform(test))\n",
    "print(\"Root-mean-square error = \" + str(rmse_i))"
   ]
  },
  {
   "cell_type": "code",
   "execution_count": null,
   "id": "17bf8cc2",
   "metadata": {},
   "outputs": [],
   "source": []
  }
 ],
 "metadata": {
  "kernelspec": {
   "display_name": "Python 3 (ipykernel)",
   "language": "python",
   "name": "python3"
  },
  "language_info": {
   "codemirror_mode": {
    "name": "ipython",
    "version": 3
   },
   "file_extension": ".py",
   "mimetype": "text/x-python",
   "name": "python",
   "nbconvert_exporter": "python",
   "pygments_lexer": "ipython3",
   "version": "3.7.11"
  }
 },
 "nbformat": 4,
 "nbformat_minor": 5
}
