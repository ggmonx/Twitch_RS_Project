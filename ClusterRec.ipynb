{
  "nbformat": 4,
  "nbformat_minor": 0,
  "metadata": {
    "colab": {
      "name": "ClusterRec.ipynb",
      "provenance": [],
      "collapsed_sections": []
    },
    "kernelspec": {
      "name": "python3",
      "display_name": "Python 3"
    },
    "language_info": {
      "name": "python"
    }
  },
  "cells": [
    {
      "cell_type": "code",
      "metadata": {
        "colab": {
          "base_uri": "https://localhost:8080/"
        },
        "id": "qz8oRdM4zebS",
        "outputId": "a29a2690-a5b0-4643-a20b-fd1ae497335d"
      },
      "source": [
        "!pip install pyarrow\n",
        "!pip install pyspark\n",
        "!pip install pandas"
      ],
      "execution_count": 2,
      "outputs": [
        {
          "output_type": "stream",
          "name": "stdout",
          "text": [
            "Requirement already satisfied: pyarrow in /usr/local/lib/python3.7/dist-packages (3.0.0)\n",
            "Requirement already satisfied: numpy>=1.16.6 in /usr/local/lib/python3.7/dist-packages (from pyarrow) (1.19.5)\n",
            "Requirement already satisfied: pyspark in /usr/local/lib/python3.7/dist-packages (3.2.0)\n",
            "Requirement already satisfied: py4j==0.10.9.2 in /usr/local/lib/python3.7/dist-packages (from pyspark) (0.10.9.2)\n",
            "Requirement already satisfied: pandas in /usr/local/lib/python3.7/dist-packages (1.1.5)\n",
            "Requirement already satisfied: pytz>=2017.2 in /usr/local/lib/python3.7/dist-packages (from pandas) (2018.9)\n",
            "Requirement already satisfied: numpy>=1.15.4 in /usr/local/lib/python3.7/dist-packages (from pandas) (1.19.5)\n",
            "Requirement already satisfied: python-dateutil>=2.7.3 in /usr/local/lib/python3.7/dist-packages (from pandas) (2.8.2)\n",
            "Requirement already satisfied: six>=1.5 in /usr/local/lib/python3.7/dist-packages (from python-dateutil>=2.7.3->pandas) (1.15.0)\n"
          ]
        }
      ]
    },
    {
      "cell_type": "code",
      "metadata": {
        "id": "Yp4D6FzYzfwJ"
      },
      "source": [
        "from pyspark.context import SparkContext\n",
        "from pyspark.sql.session import SparkSession\n",
        "sc = SparkContext('local')\n",
        "spark = SparkSession(sc)"
      ],
      "execution_count": 3,
      "outputs": []
    },
    {
      "cell_type": "code",
      "metadata": {
        "colab": {
          "base_uri": "https://localhost:8080/"
        },
        "id": "K38SxUUJzjpD",
        "outputId": "38f570ac-7502-410f-8635-c48b8fc31175"
      },
      "source": [
        "from pyspark import SparkContext\n",
        "from pyspark.sql import SQLContext\n",
        "import pandas as pd\n",
        "\n",
        "sql_sc = SQLContext(sc)\n",
        "pandas_df = pd.read_csv('100k_a.csv', names = ['userId','streamId', 'streamerName', 'timeStart', 'timeStop']) # if no header\n",
        "pandas_df.streamerName = pandas_df.streamerName.astype(str)\n",
        "s_df = sql_sc.createDataFrame(pandas_df)"
      ],
      "execution_count": 4,
      "outputs": [
        {
          "output_type": "stream",
          "name": "stderr",
          "text": [
            "/usr/local/lib/python3.7/dist-packages/pyspark/sql/context.py:79: FutureWarning: Deprecated in 3.0.0. Use SparkSession.builder.getOrCreate() instead.\n",
            "  FutureWarning\n"
          ]
        }
      ]
    },
    {
      "cell_type": "code",
      "metadata": {
        "colab": {
          "base_uri": "https://localhost:8080/"
        },
        "id": "an3ew_g3zupU",
        "outputId": "1e9c57a1-1fc3-470d-a08b-0b1014735a07"
      },
      "source": [
        "s_df.show()"
      ],
      "execution_count": 9,
      "outputs": [
        {
          "output_type": "stream",
          "name": "stdout",
          "text": [
            "+------+-----------+---------------+---------+--------+\n",
            "|userId|   streamId|   streamerName|timeStart|timeStop|\n",
            "+------+-----------+---------------+---------+--------+\n",
            "|     1|33842865744|       mithrain|      154|     156|\n",
            "|     1|33846768288|          alptv|      166|     169|\n",
            "|     1|33886469056|       mithrain|      587|     588|\n",
            "|     1|33887624992|           wtcn|      589|     591|\n",
            "|     1|33890145056|      jrokezftw|      591|     594|\n",
            "|     1|33903958784|    berkriptepe|      734|     737|\n",
            "|     1|33929318864|kendinemuzisyen|     1021|    1036|\n",
            "|     1|33942837056|           wtcn|     1165|    1167|\n",
            "|     1|33955351648|kendinemuzisyen|     1295|    1297|\n",
            "|     1|34060922080|       mithrain|     2458|    2459|\n",
            "|     1|34062621584|        unlostv|     2454|    2456|\n",
            "|     1|34077379792|       mithrain|     2601|    2603|\n",
            "|     1|34078096176|           zeon|     2603|    2604|\n",
            "|     1|34079135968|        elraenn|     2600|    2601|\n",
            "|     1|34082259232|           zeon|     2604|    2605|\n",
            "|     1|34157036272|       mithrain|     3459|    3460|\n",
            "|     1|34169481232|kendinemuzisyen|     3600|    3601|\n",
            "|     1|34185325968|        unlostv|     3739|    3743|\n",
            "|     1|34188146896|           wtcn|     3755|    3757|\n",
            "|     1|34188931888|        jahrein|     3757|    3760|\n",
            "+------+-----------+---------------+---------+--------+\n",
            "only showing top 20 rows\n",
            "\n"
          ]
        }
      ]
    },
    {
      "cell_type": "code",
      "metadata": {
        "id": "FZLJQCglz7Ee"
      },
      "source": [
        "import sys\n",
        "s_df = s_df.withColumn('interactionTime', ( s_df['timeStop'] - s_df['timeStart'] ) *10 )\n",
        "s_df = s_df.drop('timeStart', 'timeStop')\n",
        "tmax=s_df.select(\"interactionTime\").rdd.max()[0]\n",
        "tmin=s_df.select(\"interactionTime\").rdd.min()[0]"
      ],
      "execution_count": 5,
      "outputs": []
    },
    {
      "cell_type": "code",
      "metadata": {
        "id": "_jw1FNFD0UI_"
      },
      "source": [
        "s_df = s_df.withColumn('interactionTime', ( s_df['interactionTime'] - tmin)/ (tmax - tmin))\n",
        "s_df = s_df.withColumn('interactionTime', ( s_df['interactionTime'] *99) +1 )\n",
        "from pyspark.sql.functions import udf, col, lit\n",
        "udf_s = udf(lambda x: hash(x) & sys.maxsize)\n",
        "s_df = s_df.withColumn('streamerId', udf_s(col('streamerName')))\n",
        "s_df = s_df.drop('streamerName')"
      ],
      "execution_count": 6,
      "outputs": []
    },
    {
      "cell_type": "code",
      "metadata": {
        "colab": {
          "base_uri": "https://localhost:8080/"
        },
        "id": "nB098_UDsY2_",
        "outputId": "83f38f41-b28f-4f07-aa2e-68507384e54a"
      },
      "source": [
        "s_df.show()"
      ],
      "execution_count": 12,
      "outputs": [
        {
          "output_type": "stream",
          "name": "stdout",
          "text": [
            "+------+-----------+------------------+-------------------+\n",
            "|userId|   streamId|   interactionTime|         streamerId|\n",
            "+------+-----------+------------------+-------------------+\n",
            "|     1|33842865744|           2.03125|6237787267506800044|\n",
            "|     1|33846768288|            3.0625|8455602530264088426|\n",
            "|     1|33886469056|               1.0|6237787267506800044|\n",
            "|     1|33887624992|           2.03125|5324476659562100413|\n",
            "|     1|33890145056|            3.0625|6731343583494858722|\n",
            "|     1|33903958784|            3.0625|4995281249414468822|\n",
            "|     1|33929318864|15.437500000000002|2527439964060042775|\n",
            "|     1|33942837056|           2.03125|5324476659562100413|\n",
            "|     1|33955351648|           2.03125|2527439964060042775|\n",
            "|     1|34060922080|               1.0|6237787267506800044|\n",
            "|     1|34062621584|           2.03125|1360586551466601474|\n",
            "|     1|34077379792|           2.03125|6237787267506800044|\n",
            "|     1|34078096176|               1.0|4597330403337703764|\n",
            "|     1|34079135968|               1.0|4384610134787379661|\n",
            "|     1|34082259232|               1.0|4597330403337703764|\n",
            "|     1|34157036272|               1.0|6237787267506800044|\n",
            "|     1|34169481232|               1.0|2527439964060042775|\n",
            "|     1|34185325968|           4.09375|1360586551466601474|\n",
            "|     1|34188146896|           2.03125|5324476659562100413|\n",
            "|     1|34188931888|            3.0625|6230855713694092708|\n",
            "+------+-----------+------------------+-------------------+\n",
            "only showing top 20 rows\n",
            "\n"
          ]
        }
      ]
    },
    {
      "cell_type": "code",
      "metadata": {
        "id": "24boWmeG0Yqi"
      },
      "source": [
        "means = s_df.groupBy('streamerId').mean('interactionTime')\n",
        "means_j = s_df.join(means, \"streamerId\")\n",
        "means_j = means_j.drop('interactionTime')"
      ],
      "execution_count": 7,
      "outputs": []
    },
    {
      "cell_type": "code",
      "metadata": {
        "colab": {
          "base_uri": "https://localhost:8080/"
        },
        "id": "nwjGsNwFtX_I",
        "outputId": "f8ec1c09-d119-485e-b77f-25cbc704772a"
      },
      "source": [
        "means_j.show()"
      ],
      "execution_count": 14,
      "outputs": [
        {
          "output_type": "stream",
          "name": "stdout",
          "text": [
            "+-------------------+------+-----------+--------------------+\n",
            "|         streamerId|userId|   streamId|avg(interactionTime)|\n",
            "+-------------------+------+-----------+--------------------+\n",
            "|7816379048229323178|    10|33937796688|                 1.0|\n",
            "|2591307633944080486|    14|34216684384|   3.133972772277228|\n",
            "|6521280271403371604|    18|33992690592|           6.4140625|\n",
            "|  31729193875654826|    21|33826066208|           2.2890625|\n",
            "|  31729193875654826|    21|33841709136|           2.2890625|\n",
            "|  31729193875654826|    21|33886819392|           2.2890625|\n",
            "| 714142164227083335|    31|34070105856|   1.843116554054054|\n",
            "|4427644307642948912|    59|34039720720|   3.042655109489051|\n",
            "|4427644307642948912|    59|34339008464|   3.042655109489051|\n",
            "| 148372867682752476|    61|34087641984|   3.162468112244898|\n",
            "|4665382578818889225|   114|34193555568|  6.3462171052631575|\n",
            "|3476609577227435997|   116|34158140528|                 1.0|\n",
            "|4427644307642948912|   121|34298536080|   3.042655109489051|\n",
            "| 714142164227083335|   129|33953450944|   1.843116554054054|\n",
            "|1138907204034506065|   131|33922527904|  3.5208333333333335|\n",
            "|4427644307642948912|   139|34200824320|   3.042655109489051|\n",
            "|4427644307642948912|   139|34253892816|   3.042655109489051|\n",
            "|4427644307642948912|   139|34323393696|   3.042655109489051|\n",
            "|4427644307642948912|   139|34353625984|   3.042655109489051|\n",
            "|4427644307642948912|   139|34395852720|   3.042655109489051|\n",
            "+-------------------+------+-----------+--------------------+\n",
            "only showing top 20 rows\n",
            "\n"
          ]
        }
      ]
    },
    {
      "cell_type": "code",
      "metadata": {
        "id": "Nq22gAoC0mC0"
      },
      "source": [
        "means_j = means_j.withColumnRenamed(\"avg(interactionTime)\",\"avgInteractionTime\")"
      ],
      "execution_count": 8,
      "outputs": []
    },
    {
      "cell_type": "code",
      "metadata": {
        "id": "VENupOb60piR"
      },
      "source": [
        "temp1 = means_j.groupBy('streamerId').count()\n",
        "means_j2 = means_j.join(temp1, \"streamerId\")\n",
        "means_j2 = means_j2.withColumnRenamed(\"streamerId\",\"streamerId\")\n",
        "means_j2 = means_j2.withColumnRenamed(\"avgInteractionTime\",\"avgInteractionTime\")\n",
        "means_j2 = means_j2.withColumnRenamed(\"count\",\"interactionCounts\")"
      ],
      "execution_count": 9,
      "outputs": []
    },
    {
      "cell_type": "code",
      "metadata": {
        "id": "BE1xk7RHWUbT"
      },
      "source": [
        "from pyspark.sql.types import IntegerType\n",
        "from pyspark.sql.functions import col\n",
        "df_final = means_j2.withColumn(\"streamerId\", means_j2.streamerId.cast(\"bigint\"))"
      ],
      "execution_count": 10,
      "outputs": []
    },
    {
      "cell_type": "code",
      "metadata": {
        "colab": {
          "base_uri": "https://localhost:8080/"
        },
        "id": "WYRkT0FhYAVo",
        "outputId": "57f5f43c-bcbd-4ab0-9721-5404666c643c"
      },
      "source": [
        "df_final.show(3)"
      ],
      "execution_count": 25,
      "outputs": [
        {
          "output_type": "stream",
          "name": "stdout",
          "text": [
            "+-------------------+------+---------------+------------------+-----------------+\n",
            "|         streamerId|userId|       streamId|avgInteractionTime|interactionCounts|\n",
            "+-------------------+------+---------------+------------------+-----------------+\n",
            "|1000001876270782414| 24906| 3.424042792E10|1.7252747252747254|                3|\n",
            "|1000001876270782414| 26664| 3.424042792E10|1.7252747252747254|                3|\n",
            "|1000001876270782414| 36942|3.4202272448E10|1.7252747252747254|                3|\n",
            "+-------------------+------+---------------+------------------+-----------------+\n",
            "only showing top 3 rows\n",
            "\n"
          ]
        }
      ]
    },
    {
      "cell_type": "code",
      "metadata": {
        "id": "pNwTDyB9Y0Yf"
      },
      "source": [
        "df4 = df_final.na.drop(how='any')"
      ],
      "execution_count": 11,
      "outputs": []
    },
    {
      "cell_type": "code",
      "metadata": {
        "colab": {
          "base_uri": "https://localhost:8080/"
        },
        "id": "gxKRqfyXgU47",
        "outputId": "997e0934-eac5-48b7-b3e0-bc1e380a947d"
      },
      "source": [
        "from pyspark.sql.functions import isnan, when, count, col\n",
        "df4.select([count(when(isnan(c) | col(c).isNull(), c)).alias(c) for c in df4.columns]).show()\n"
      ],
      "execution_count": 27,
      "outputs": [
        {
          "output_type": "stream",
          "name": "stdout",
          "text": [
            "+----------+------+--------+------------------+-----------------+\n",
            "|streamerId|userId|streamId|avgInteractionTime|interactionCounts|\n",
            "+----------+------+--------+------------------+-----------------+\n",
            "|         0|     0|       0|                 0|                0|\n",
            "+----------+------+--------+------------------+-----------------+\n",
            "\n"
          ]
        }
      ]
    },
    {
      "cell_type": "code",
      "metadata": {
        "id": "5WtpvEMqWEk1"
      },
      "source": [
        "from pyspark.ml.feature import VectorAssembler\n",
        "df4.columns\n",
        "assemble=VectorAssembler(inputCols=[\n",
        "'avgInteractionTime', 'interactionCounts'], outputCol='features')\n",
        "assembled_data=assemble.transform(df4)\n"
      ],
      "execution_count": 12,
      "outputs": []
    },
    {
      "cell_type": "code",
      "metadata": {
        "colab": {
          "base_uri": "https://localhost:8080/"
        },
        "id": "d71XTBElXxL1",
        "outputId": "0ed97d36-fd7c-4ae6-89c8-5979f130cc14"
      },
      "source": [
        "assembled_data.show(3)"
      ],
      "execution_count": 30,
      "outputs": [
        {
          "output_type": "stream",
          "name": "stdout",
          "text": [
            "+-------------------+------+---------------+------------------+-----------------+--------------------+\n",
            "|         streamerId|userId|       streamId|avgInteractionTime|interactionCounts|            features|\n",
            "+-------------------+------+---------------+------------------+-----------------+--------------------+\n",
            "|1000001876270782414| 24906| 3.424042792E10|1.7252747252747254|                3|[1.72527472527472...|\n",
            "|1000001876270782414| 26664| 3.424042792E10|1.7252747252747254|                3|[1.72527472527472...|\n",
            "|1000001876270782414| 36942|3.4202272448E10|1.7252747252747254|                3|[1.72527472527472...|\n",
            "+-------------------+------+---------------+------------------+-----------------+--------------------+\n",
            "only showing top 3 rows\n",
            "\n"
          ]
        }
      ]
    },
    {
      "cell_type": "code",
      "metadata": {
        "id": "u_ezcBx7Xuof"
      },
      "source": [
        "from pyspark.ml.feature import StandardScaler\n",
        "scale=StandardScaler(inputCol='features',outputCol='standardized')\n",
        "data_scale=scale.fit(assembled_data)\n",
        "data_scale_output=data_scale.transform(assembled_data)\n"
      ],
      "execution_count": 13,
      "outputs": []
    },
    {
      "cell_type": "code",
      "metadata": {
        "id": "ljquSyNEnD94"
      },
      "source": [
        "## finding ideal k\n",
        "import numpy as np\n",
        "from pyspark.ml.clustering import KMeans\n",
        "from pyspark.ml.evaluation import ClusteringEvaluator\n",
        "cost = []\n",
        "for k in range(5,15):\n",
        "    print(k)\n",
        "    kmeans = KMeans().setK(k).setSeed(38).setFeaturesCol(\"features\")\n",
        "    model = kmeans.fit(data_scale_output.select('streamerId', 'features').sample(False,0.1, seed=38))\n",
        "    predictions = model.transform(data_scale_output)\n",
        "    evaluator = ClusteringEvaluator()\n",
        "    silhouette = evaluator.evaluate(predictions)\n",
        "    print(\"Silhouette with squared euclidean distance = \" + str(silhouette))\n",
        "    cost.append(silhouette)\n"
      ],
      "execution_count": null,
      "outputs": []
    },
    {
      "cell_type": "code",
      "metadata": {
        "id": "hZqWp8Pan4Kv"
      },
      "source": [
        "fig, ax = plt.subplots(1,1, figsize =(8,6))\n",
        "ax.plot(range(2,20),cost[2:20])\n",
        "ax.set_xlabel('k')\n",
        "ax.set_ylabel('cost')"
      ],
      "execution_count": null,
      "outputs": []
    },
    {
      "cell_type": "code",
      "metadata": {
        "colab": {
          "base_uri": "https://localhost:8080/"
        },
        "id": "ItSIKyZpoD66",
        "outputId": "d62515e9-82f6-463b-c94f-4c39689dd839"
      },
      "source": [
        "import numpy as np\n",
        "from pyspark.ml.clustering import KMeans\n",
        "from pyspark.ml.evaluation import ClusteringEvaluator\n",
        "kmeans = KMeans().setK(7).setSeed(38).setFeaturesCol(\"features\")\n",
        "model = kmeans.fit(data_scale_output)\n",
        "predictions = model.transform(data_scale_output)\n",
        "evaluator = ClusteringEvaluator()\n",
        "silhouette = evaluator.evaluate(predictions)\n",
        "print(\"Silhouette with squared euclidean distance = \" + str(silhouette))\n",
        "\n",
        "# Shows the result.\n",
        "centers = model.clusterCenters()\n",
        "print(\"Cluster Centers: \")\n",
        "for center in centers:\n",
        "    print(center)"
      ],
      "execution_count": 33,
      "outputs": [
        {
          "output_type": "stream",
          "name": "stdout",
          "text": [
            "Silhouette with squared euclidean distance = 0.846924832401368\n",
            "Cluster Centers: \n",
            "[   3.51319077 1221.51785308]\n",
            "[2.8016227e+00 1.9662000e+04]\n",
            "[3.38239093e+00 6.04040115e+03]\n",
            "[2.93889687e+00 1.25860000e+04]\n",
            "[   3.5814878  2973.14198271]\n",
            "[  3.23840208 151.43137761]\n",
            "[2.57995695e+00 2.20260000e+04]\n"
          ]
        }
      ]
    },
    {
      "cell_type": "code",
      "metadata": {
        "colab": {
          "base_uri": "https://localhost:8080/"
        },
        "id": "ngqbGFTAor4l",
        "outputId": "60ae8757-e794-4e03-9761-6e7d6376547d"
      },
      "source": [
        "transformed = model.transform(data_scale_output).select('streamerId', 'prediction')\n",
        "rows = transformed.collect()\n",
        "print(rows[:3])"
      ],
      "execution_count": 34,
      "outputs": [
        {
          "output_type": "stream",
          "name": "stdout",
          "text": [
            "[Row(streamerId=1000001876270782414, prediction=5), Row(streamerId=1000001876270782414, prediction=5), Row(streamerId=1000001876270782414, prediction=5)]\n"
          ]
        }
      ]
    },
    {
      "cell_type": "code",
      "metadata": {
        "colab": {
          "base_uri": "https://localhost:8080/"
        },
        "id": "EpCrEXwToIDH",
        "outputId": "9034cea4-97b0-4508-9259-50d92243676a"
      },
      "source": [
        "df_pred = sql_sc.createDataFrame(rows)\n",
        "df_pred.show()"
      ],
      "execution_count": 39,
      "outputs": [
        {
          "output_type": "stream",
          "name": "stdout",
          "text": [
            "+-------------------+----------+\n",
            "|         streamerId|prediction|\n",
            "+-------------------+----------+\n",
            "|1000001876270782414|         5|\n",
            "|1000001876270782414|         5|\n",
            "|1000001876270782414|         5|\n",
            "|1000006515845484158|         5|\n",
            "|1000006515845484158|         5|\n",
            "|1000006515845484158|         5|\n",
            "|1000006515845484158|         5|\n",
            "|1000006515845484158|         5|\n",
            "|1000006515845484158|         5|\n",
            "|1000006515845484158|         5|\n",
            "|1000006515845484158|         5|\n",
            "|1000006515845484158|         5|\n",
            "|1000006515845484158|         5|\n",
            "|1000006515845484158|         5|\n",
            "|1000006515845484158|         5|\n",
            "|1000006515845484158|         5|\n",
            "|1000050175817710242|         5|\n",
            "|1000146481990275304|         5|\n",
            "|1000198353319793682|         5|\n",
            "|1000230901956046874|         5|\n",
            "+-------------------+----------+\n",
            "only showing top 20 rows\n",
            "\n"
          ]
        }
      ]
    },
    {
      "cell_type": "code",
      "metadata": {
        "colab": {
          "base_uri": "https://localhost:8080/"
        },
        "id": "2dCZCerNpP7G",
        "outputId": "c37bbfbb-c9b6-4b0c-b1b7-3ff71efa63c8"
      },
      "source": [
        "df_pred = df_pred.join(df4, 'streamerId')\n",
        "df_pred.show()"
      ],
      "execution_count": 40,
      "outputs": [
        {
          "output_type": "stream",
          "name": "stdout",
          "text": [
            "+-------------+----------+------+---------------+------------------+-----------------+\n",
            "|   streamerId|prediction|userId|       streamId|avgInteractionTime|interactionCounts|\n",
            "+-------------+----------+------+---------------+------------------+-----------------+\n",
            "|9302555418486|         5|   870|3.4193827632E10|3.7974882260596545|               21|\n",
            "|9302555418486|         5|   870|3.4290796256E10|3.7974882260596545|               21|\n",
            "|9302555418486|         5|   870| 3.440009072E10|3.7974882260596545|               21|\n",
            "|9302555418486|         5|  2177|3.3964309952E10|3.7974882260596545|               21|\n",
            "|9302555418486|         5|  2177|3.4218731952E10|3.7974882260596545|               21|\n",
            "|9302555418486|         5|  3770|3.4318552656E10|3.7974882260596545|               21|\n",
            "|9302555418486|         5| 11463|3.4290796256E10|3.7974882260596545|               21|\n",
            "|9302555418486|         5| 12214|3.4072687808E10|3.7974882260596545|               21|\n",
            "|9302555418486|         5| 13497|3.4137983504E10|3.7974882260596545|               21|\n",
            "|9302555418486|         5| 21486|3.4101749248E10|3.7974882260596545|               21|\n",
            "|9302555418486|         5| 21486|3.4193827632E10|3.7974882260596545|               21|\n",
            "|9302555418486|         5| 24798|3.3978655616E10|3.7974882260596545|               21|\n",
            "|9302555418486|         5| 24798|3.4114215792E10|3.7974882260596545|               21|\n",
            "|9302555418486|         5| 24798|3.4318552656E10|3.7974882260596545|               21|\n",
            "|9302555418486|         5| 27238|3.4009767312E10|3.7974882260596545|               21|\n",
            "|9302555418486|         5| 27238|3.4114215792E10|3.7974882260596545|               21|\n",
            "|9302555418486|         5| 27238|3.4137983504E10|3.7974882260596545|               21|\n",
            "|9302555418486|         5| 30509|3.3925268272E10|3.7974882260596545|               21|\n",
            "|9302555418486|         5| 38279| 3.385289696E10|3.7974882260596545|               21|\n",
            "|9302555418486|         5| 41676|3.4231674016E10|3.7974882260596545|               21|\n",
            "+-------------+----------+------+---------------+------------------+-----------------+\n",
            "only showing top 20 rows\n",
            "\n"
          ]
        }
      ]
    },
    {
      "cell_type": "code",
      "metadata": {
        "colab": {
          "base_uri": "https://localhost:8080/"
        },
        "id": "ydHPywbdeI52",
        "outputId": "140db622-8de3-415e-fc56-b78c83515288"
      },
      "source": [
        "df_pred.dropDuplicates(['prediction']).show()# print(distinctValuesDF)"
      ],
      "execution_count": 46,
      "outputs": [
        {
          "output_type": "stream",
          "name": "stdout",
          "text": [
            "+-------------------+----------+------+---------------+------------------+-----------------+\n",
            "|         streamerId|prediction|userId|       streamId|avgInteractionTime|interactionCounts|\n",
            "+-------------------+----------+------+---------------+------------------+-----------------+\n",
            "|  72649768434621603|         0|    39|3.3964378096E10| 2.510989010989019|              792|\n",
            "|7115684022326661632|         6|     4|3.4151273824E10| 2.579956953969329|            22026|\n",
            "|      9302555418486|         5|   870|3.4193827632E10|3.7974882260596545|               21|\n",
            "|6430240312892404089|         1|     4|3.4000965936E10| 2.801622698326846|            19662|\n",
            "|5287268391938222983|         3|    17|3.4017822496E10|2.9388968730299596|            12586|\n",
            "|  90838763071849072|         2|     9|3.4077178544E10|2.0944940970870043|             4628|\n",
            "|  17315983023540529|         4|     9|3.4404608416E10|2.9285286882520993|             3471|\n",
            "+-------------------+----------+------+---------------+------------------+-----------------+\n",
            "\n"
          ]
        }
      ]
    },
    {
      "cell_type": "code",
      "metadata": {
        "id": "17_hYI8ngO9n"
      },
      "source": [
        "model.save('km_model')\n",
        "# model2 = KMeansModel.load(model_path)"
      ],
      "execution_count": 49,
      "outputs": []
    },
    {
      "cell_type": "code",
      "metadata": {
        "colab": {
          "base_uri": "https://localhost:8080/"
        },
        "id": "BO4Yz8xjiBT7",
        "outputId": "dfc26b29-5f4a-4ece-c728-6670d140a786"
      },
      "source": [
        "!zip -r /km_model.zip /content/km_model\n"
      ],
      "execution_count": 50,
      "outputs": [
        {
          "output_type": "stream",
          "name": "stdout",
          "text": [
            "  adding: content/km_model/ (stored 0%)\n",
            "  adding: content/km_model/data/ (stored 0%)\n",
            "  adding: content/km_model/data/part-00000-7921bda8-2caa-4a5f-8d1d-8f1f0785c80b-c000.snappy.parquet (deflated 49%)\n",
            "  adding: content/km_model/data/._SUCCESS.crc (stored 0%)\n",
            "  adding: content/km_model/data/.part-00000-7921bda8-2caa-4a5f-8d1d-8f1f0785c80b-c000.snappy.parquet.crc (stored 0%)\n",
            "  adding: content/km_model/data/_SUCCESS (stored 0%)\n",
            "  adding: content/km_model/metadata/ (stored 0%)\n",
            "  adding: content/km_model/metadata/._SUCCESS.crc (stored 0%)\n",
            "  adding: content/km_model/metadata/.part-00000.crc (stored 0%)\n",
            "  adding: content/km_model/metadata/part-00000 (deflated 34%)\n",
            "  adding: content/km_model/metadata/_SUCCESS (stored 0%)\n"
          ]
        }
      ]
    },
    {
      "cell_type": "code",
      "metadata": {
        "colab": {
          "base_uri": "https://localhost:8080/",
          "height": 17
        },
        "id": "a994Dt2ijiU2",
        "outputId": "e5c1771b-bdf4-498f-d054-9e4468f10aab"
      },
      "source": [
        "from google.colab import files\n",
        "files.download(\"/km_model.zip\")"
      ],
      "execution_count": 52,
      "outputs": [
        {
          "output_type": "display_data",
          "data": {
            "application/javascript": [
              "\n",
              "    async function download(id, filename, size) {\n",
              "      if (!google.colab.kernel.accessAllowed) {\n",
              "        return;\n",
              "      }\n",
              "      const div = document.createElement('div');\n",
              "      const label = document.createElement('label');\n",
              "      label.textContent = `Downloading \"${filename}\": `;\n",
              "      div.appendChild(label);\n",
              "      const progress = document.createElement('progress');\n",
              "      progress.max = size;\n",
              "      div.appendChild(progress);\n",
              "      document.body.appendChild(div);\n",
              "\n",
              "      const buffers = [];\n",
              "      let downloaded = 0;\n",
              "\n",
              "      const channel = await google.colab.kernel.comms.open(id);\n",
              "      // Send a message to notify the kernel that we're ready.\n",
              "      channel.send({})\n",
              "\n",
              "      for await (const message of channel.messages) {\n",
              "        // Send a message to notify the kernel that we're ready.\n",
              "        channel.send({})\n",
              "        if (message.buffers) {\n",
              "          for (const buffer of message.buffers) {\n",
              "            buffers.push(buffer);\n",
              "            downloaded += buffer.byteLength;\n",
              "            progress.value = downloaded;\n",
              "          }\n",
              "        }\n",
              "      }\n",
              "      const blob = new Blob(buffers, {type: 'application/binary'});\n",
              "      const a = document.createElement('a');\n",
              "      a.href = window.URL.createObjectURL(blob);\n",
              "      a.download = filename;\n",
              "      div.appendChild(a);\n",
              "      a.click();\n",
              "      div.remove();\n",
              "    }\n",
              "  "
            ],
            "text/plain": [
              "<IPython.core.display.Javascript object>"
            ]
          },
          "metadata": {}
        },
        {
          "output_type": "display_data",
          "data": {
            "application/javascript": [
              "download(\"download_a68ad277-6902-48f4-a048-0ebd19854d7a\", \"km_model.zip\", 3684)"
            ],
            "text/plain": [
              "<IPython.core.display.Javascript object>"
            ]
          },
          "metadata": {}
        }
      ]
    }
  ]
}