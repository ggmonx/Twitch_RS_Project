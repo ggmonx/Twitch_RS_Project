{
 "cells": [
  {
   "cell_type": "code",
   "execution_count": 1,
   "metadata": {
    "colab": {
     "base_uri": "https://localhost:8080/"
    },
    "id": "qz8oRdM4zebS",
    "outputId": "a29a2690-a5b0-4643-a20b-fd1ae497335d"
   },
   "outputs": [],
   "source": [
    "#!pip install pyarrow\n",
    "#!pip install pyspark\n",
    "#!pip install pandas"
   ]
  },
  {
   "cell_type": "code",
   "execution_count": 2,
   "metadata": {
    "id": "Yp4D6FzYzfwJ"
   },
   "outputs": [],
   "source": [
    "from pyspark.context import SparkContext\n",
    "from pyspark.sql.session import SparkSession\n",
    "sc = SparkContext('local')\n",
    "spark = SparkSession(sc)"
   ]
  },
  {
   "cell_type": "code",
   "execution_count": 3,
   "metadata": {
    "colab": {
     "base_uri": "https://localhost:8080/"
    },
    "id": "K38SxUUJzjpD",
    "outputId": "38f570ac-7502-410f-8635-c48b8fc31175"
   },
   "outputs": [
    {
     "name": "stderr",
     "output_type": "stream",
     "text": [
      "C:\\Users\\Gaston\\Anaconda3\\lib\\site-packages\\pyspark\\sql\\context.py:79: FutureWarning: Deprecated in 3.0.0. Use SparkSession.builder.getOrCreate() instead.\n",
      "  FutureWarning\n"
     ]
    }
   ],
   "source": [
    "from pyspark import SparkContext\n",
    "from pyspark.sql import SQLContext\n",
    "import pandas as pd\n",
    "big_data = False\n",
    "path ='data/100k_a.csv' if  not big_data else 'data/full_a.csv'\n",
    "sql_sc = SQLContext(sc)\n",
    "pandas_df = pd.read_csv(path, names = ['userId','streamId', 'streamerName', 'timeStart', 'timeStop']) # if no header\n",
    "pandas_df.streamerName = pandas_df.streamerName.astype(str)\n",
    "s_df = sql_sc.createDataFrame(pandas_df)"
   ]
  },
  {
   "cell_type": "code",
   "execution_count": 4,
   "metadata": {
    "colab": {
     "base_uri": "https://localhost:8080/"
    },
    "id": "an3ew_g3zupU",
    "outputId": "1e9c57a1-1fc3-470d-a08b-0b1014735a07"
   },
   "outputs": [
    {
     "name": "stdout",
     "output_type": "stream",
     "text": [
      "+------+-----------+---------------+---------+--------+\n",
      "|userId|   streamId|   streamerName|timeStart|timeStop|\n",
      "+------+-----------+---------------+---------+--------+\n",
      "|     1|33842865744|       mithrain|      154|     156|\n",
      "|     1|33846768288|          alptv|      166|     169|\n",
      "|     1|33886469056|       mithrain|      587|     588|\n",
      "|     1|33887624992|           wtcn|      589|     591|\n",
      "|     1|33890145056|      jrokezftw|      591|     594|\n",
      "|     1|33903958784|    berkriptepe|      734|     737|\n",
      "|     1|33929318864|kendinemuzisyen|     1021|    1036|\n",
      "|     1|33942837056|           wtcn|     1165|    1167|\n",
      "|     1|33955351648|kendinemuzisyen|     1295|    1297|\n",
      "|     1|34060922080|       mithrain|     2458|    2459|\n",
      "|     1|34062621584|        unlostv|     2454|    2456|\n",
      "|     1|34077379792|       mithrain|     2601|    2603|\n",
      "|     1|34078096176|           zeon|     2603|    2604|\n",
      "|     1|34079135968|        elraenn|     2600|    2601|\n",
      "|     1|34082259232|           zeon|     2604|    2605|\n",
      "|     1|34157036272|       mithrain|     3459|    3460|\n",
      "|     1|34169481232|kendinemuzisyen|     3600|    3601|\n",
      "|     1|34185325968|        unlostv|     3739|    3743|\n",
      "|     1|34188146896|           wtcn|     3755|    3757|\n",
      "|     1|34188931888|        jahrein|     3757|    3760|\n",
      "+------+-----------+---------------+---------+--------+\n",
      "only showing top 20 rows\n",
      "\n"
     ]
    }
   ],
   "source": [
    "s_df.show()"
   ]
  },
  {
   "cell_type": "code",
   "execution_count": 5,
   "metadata": {
    "id": "FZLJQCglz7Ee"
   },
   "outputs": [],
   "source": [
    "import sys\n",
    "s_df = s_df.withColumn('interactionTime', ( s_df['timeStop'] - s_df['timeStart'] ) *10 )\n",
    "s_df = s_df.drop('timeStart', 'timeStop')\n",
    "tmax=s_df.select(\"interactionTime\").rdd.max()[0]\n",
    "tmin=s_df.select(\"interactionTime\").rdd.min()[0]"
   ]
  },
  {
   "cell_type": "code",
   "execution_count": 6,
   "metadata": {
    "id": "_jw1FNFD0UI_"
   },
   "outputs": [],
   "source": [
    "s_df = s_df.withColumn('interactionTime', ( s_df['interactionTime'] - tmin)/ (tmax - tmin))\n",
    "s_df = s_df.withColumn('interactionTime', ( s_df['interactionTime'] *99) +1 )\n",
    "from pyspark.sql.functions import udf, col, lit\n",
    "udf_s = udf(lambda x: hash(x) & sys.maxsize)\n",
    "s_df = s_df.withColumn('streamerId', udf_s(col('streamerName')))\n",
    "s_df = s_df.drop('streamerName')"
   ]
  },
  {
   "cell_type": "code",
   "execution_count": 7,
   "metadata": {
    "colab": {
     "base_uri": "https://localhost:8080/"
    },
    "id": "nB098_UDsY2_",
    "outputId": "83f38f41-b28f-4f07-aa2e-68507384e54a"
   },
   "outputs": [
    {
     "name": "stdout",
     "output_type": "stream",
     "text": [
      "+------+-----------+------------------+-------------------+\n",
      "|userId|   streamId|   interactionTime|         streamerId|\n",
      "+------+-----------+------------------+-------------------+\n",
      "|     1|33842865744|           2.03125|6237787267506800044|\n",
      "|     1|33846768288|            3.0625|8455602530264088426|\n",
      "|     1|33886469056|               1.0|6237787267506800044|\n",
      "|     1|33887624992|           2.03125|5324476659562100413|\n",
      "|     1|33890145056|            3.0625|6731343583494858722|\n",
      "|     1|33903958784|            3.0625|4995281249414468822|\n",
      "|     1|33929318864|15.437500000000002|2527439964060042775|\n",
      "|     1|33942837056|           2.03125|5324476659562100413|\n",
      "|     1|33955351648|           2.03125|2527439964060042775|\n",
      "|     1|34060922080|               1.0|6237787267506800044|\n",
      "|     1|34062621584|           2.03125|1360586551466601474|\n",
      "|     1|34077379792|           2.03125|6237787267506800044|\n",
      "|     1|34078096176|               1.0|4597330403337703764|\n",
      "|     1|34079135968|               1.0|4384610134787379661|\n",
      "|     1|34082259232|               1.0|4597330403337703764|\n",
      "|     1|34157036272|               1.0|6237787267506800044|\n",
      "|     1|34169481232|               1.0|2527439964060042775|\n",
      "|     1|34185325968|           4.09375|1360586551466601474|\n",
      "|     1|34188146896|           2.03125|5324476659562100413|\n",
      "|     1|34188931888|            3.0625|6230855713694092708|\n",
      "+------+-----------+------------------+-------------------+\n",
      "only showing top 20 rows\n",
      "\n"
     ]
    }
   ],
   "source": [
    "s_df.show()"
   ]
  },
  {
   "cell_type": "code",
   "execution_count": 8,
   "metadata": {
    "id": "24boWmeG0Yqi"
   },
   "outputs": [],
   "source": [
    "means = s_df.groupBy('streamerId').mean('interactionTime')\n",
    "means_j = s_df.join(means, \"streamerId\")\n",
    "means_j = means_j.drop('interactionTime')"
   ]
  },
  {
   "cell_type": "code",
   "execution_count": 9,
   "metadata": {
    "colab": {
     "base_uri": "https://localhost:8080/"
    },
    "id": "nwjGsNwFtX_I",
    "outputId": "f8ec1c09-d119-485e-b77f-25cbc704772a"
   },
   "outputs": [
    {
     "name": "stdout",
     "output_type": "stream",
     "text": [
      "+-------------------+------+-----------+--------------------+\n",
      "|         streamerId|userId|   streamId|avg(interactionTime)|\n",
      "+-------------------+------+-----------+--------------------+\n",
      "|7816379048229323178|    10|33937796688|                 1.0|\n",
      "|2591307633944080486|    14|34216684384|   3.133972772277228|\n",
      "|6521280271403371604|    18|33992690592|           6.4140625|\n",
      "|  31729193875654826|    21|33826066208|           2.2890625|\n",
      "|  31729193875654826|    21|33841709136|           2.2890625|\n",
      "|  31729193875654826|    21|33886819392|           2.2890625|\n",
      "| 714142164227083335|    31|34070105856|   1.843116554054054|\n",
      "|4427644307642948912|    59|34039720720|   3.042655109489051|\n",
      "|4427644307642948912|    59|34339008464|   3.042655109489051|\n",
      "| 148372867682752476|    61|34087641984|   3.162468112244898|\n",
      "|4665382578818889225|   114|34193555568|  6.3462171052631575|\n",
      "|3476609577227435997|   116|34158140528|                 1.0|\n",
      "|4427644307642948912|   121|34298536080|   3.042655109489051|\n",
      "| 714142164227083335|   129|33953450944|   1.843116554054054|\n",
      "|1138907204034506065|   131|33922527904|  3.5208333333333335|\n",
      "|4427644307642948912|   139|34200824320|   3.042655109489051|\n",
      "|4427644307642948912|   139|34253892816|   3.042655109489051|\n",
      "|4427644307642948912|   139|34323393696|   3.042655109489051|\n",
      "|4427644307642948912|   139|34353625984|   3.042655109489051|\n",
      "|4427644307642948912|   139|34395852720|   3.042655109489051|\n",
      "+-------------------+------+-----------+--------------------+\n",
      "only showing top 20 rows\n",
      "\n"
     ]
    }
   ],
   "source": [
    "means_j.show()"
   ]
  },
  {
   "cell_type": "code",
   "execution_count": 10,
   "metadata": {
    "id": "Nq22gAoC0mC0"
   },
   "outputs": [],
   "source": [
    "means_j = means_j.withColumnRenamed(\"avg(interactionTime)\",\"avgInteractionTime\")"
   ]
  },
  {
   "cell_type": "code",
   "execution_count": 11,
   "metadata": {
    "id": "VENupOb60piR"
   },
   "outputs": [],
   "source": [
    "temp1 = means_j.groupBy('streamerId').count()\n",
    "means_j2 = means_j.join(temp1, \"streamerId\")\n",
    "means_j2 = means_j2.withColumnRenamed(\"streamerId\",\"streamerId\")\n",
    "means_j2 = means_j2.withColumnRenamed(\"avgInteractionTime\",\"avgInteractionTime\")\n",
    "means_j2 = means_j2.withColumnRenamed(\"count\",\"interactionCounts\")"
   ]
  },
  {
   "cell_type": "code",
   "execution_count": 12,
   "metadata": {
    "id": "BE1xk7RHWUbT"
   },
   "outputs": [],
   "source": [
    "from pyspark.sql.types import IntegerType\n",
    "from pyspark.sql.functions import col\n",
    "df_final = means_j2.withColumn(\"streamerId\", means_j2.streamerId.cast(\"bigint\"))"
   ]
  },
  {
   "cell_type": "code",
   "execution_count": 13,
   "metadata": {
    "colab": {
     "base_uri": "https://localhost:8080/"
    },
    "id": "WYRkT0FhYAVo",
    "outputId": "57f5f43c-bcbd-4ab0-9721-5404666c643c"
   },
   "outputs": [
    {
     "name": "stdout",
     "output_type": "stream",
     "text": [
      "+-------------------+------+-----------+------------------+-----------------+\n",
      "|         streamerId|userId|   streamId|avgInteractionTime|interactionCounts|\n",
      "+-------------------+------+-----------+------------------+-----------------+\n",
      "|1000001876270782414| 24906|34240427920|            1.6875|                3|\n",
      "|1000001876270782414| 26664|34240427920|            1.6875|                3|\n",
      "|1000001876270782414| 36942|34202272448|            1.6875|                3|\n",
      "+-------------------+------+-----------+------------------+-----------------+\n",
      "only showing top 3 rows\n",
      "\n"
     ]
    }
   ],
   "source": [
    "df_final.show(3)"
   ]
  },
  {
   "cell_type": "code",
   "execution_count": 14,
   "metadata": {
    "id": "pNwTDyB9Y0Yf"
   },
   "outputs": [],
   "source": [
    "df4 = df_final.na.drop(how='any')"
   ]
  },
  {
   "cell_type": "code",
   "execution_count": 15,
   "metadata": {
    "colab": {
     "base_uri": "https://localhost:8080/"
    },
    "id": "gxKRqfyXgU47",
    "outputId": "997e0934-eac5-48b7-b3e0-bc1e380a947d"
   },
   "outputs": [
    {
     "name": "stdout",
     "output_type": "stream",
     "text": [
      "+----------+------+--------+------------------+-----------------+\n",
      "|streamerId|userId|streamId|avgInteractionTime|interactionCounts|\n",
      "+----------+------+--------+------------------+-----------------+\n",
      "|         0|     0|       0|                 0|                0|\n",
      "+----------+------+--------+------------------+-----------------+\n",
      "\n"
     ]
    }
   ],
   "source": [
    "from pyspark.sql.functions import isnan, when, count, col\n",
    "df4.select([count(when(isnan(c) | col(c).isNull(), c)).alias(c) for c in df4.columns]).show()\n"
   ]
  },
  {
   "cell_type": "code",
   "execution_count": 16,
   "metadata": {
    "id": "5WtpvEMqWEk1"
   },
   "outputs": [],
   "source": [
    "from pyspark.ml.feature import VectorAssembler\n",
    "df4.columns\n",
    "assemble=VectorAssembler(inputCols=[\n",
    "'avgInteractionTime', 'interactionCounts'], outputCol='features')\n",
    "assembled_data=assemble.transform(df4)\n"
   ]
  },
  {
   "cell_type": "code",
   "execution_count": 17,
   "metadata": {
    "colab": {
     "base_uri": "https://localhost:8080/"
    },
    "id": "d71XTBElXxL1",
    "outputId": "0ed97d36-fd7c-4ae6-89c8-5979f130cc14"
   },
   "outputs": [
    {
     "name": "stdout",
     "output_type": "stream",
     "text": [
      "+-------------------+------+-----------+------------------+-----------------+------------+\n",
      "|         streamerId|userId|   streamId|avgInteractionTime|interactionCounts|    features|\n",
      "+-------------------+------+-----------+------------------+-----------------+------------+\n",
      "|1000001876270782414| 24906|34240427920|            1.6875|                3|[1.6875,3.0]|\n",
      "|1000001876270782414| 26664|34240427920|            1.6875|                3|[1.6875,3.0]|\n",
      "|1000001876270782414| 36942|34202272448|            1.6875|                3|[1.6875,3.0]|\n",
      "+-------------------+------+-----------+------------------+-----------------+------------+\n",
      "only showing top 3 rows\n",
      "\n"
     ]
    }
   ],
   "source": [
    "assembled_data.show(3)"
   ]
  },
  {
   "cell_type": "code",
   "execution_count": 18,
   "metadata": {
    "id": "u_ezcBx7Xuof"
   },
   "outputs": [],
   "source": [
    "from pyspark.ml.feature import StandardScaler\n",
    "scale=StandardScaler(inputCol='features',outputCol='standardized')\n",
    "data_scale=scale.fit(assembled_data)\n",
    "data_scale_output=data_scale.transform(assembled_data)\n"
   ]
  },
  {
   "cell_type": "code",
   "execution_count": 19,
   "metadata": {
    "id": "ljquSyNEnD94"
   },
   "outputs": [
    {
     "name": "stdout",
     "output_type": "stream",
     "text": [
      "5\n",
      "Silhouette with squared euclidean distance = 0.8086940269323563\n",
      "6\n",
      "Silhouette with squared euclidean distance = 0.8447657482936937\n",
      "7\n",
      "Silhouette with squared euclidean distance = 0.8469084967382502\n",
      "8\n",
      "Silhouette with squared euclidean distance = 0.8374600771116928\n",
      "9\n",
      "Silhouette with squared euclidean distance = 0.8167735951540936\n",
      "10\n"
     ]
    },
    {
     "ename": "KeyboardInterrupt",
     "evalue": "",
     "output_type": "error",
     "traceback": [
      "\u001b[1;31m---------------------------------------------------------------------------\u001b[0m",
      "\u001b[1;31mKeyboardInterrupt\u001b[0m                         Traceback (most recent call last)",
      "\u001b[1;32m~\\AppData\\Local\\Temp/ipykernel_17620/1751936308.py\u001b[0m in \u001b[0;36m<module>\u001b[1;34m\u001b[0m\n\u001b[0;32m     10\u001b[0m     \u001b[0mpredictions\u001b[0m \u001b[1;33m=\u001b[0m \u001b[0mmodel\u001b[0m\u001b[1;33m.\u001b[0m\u001b[0mtransform\u001b[0m\u001b[1;33m(\u001b[0m\u001b[0mdata_scale_output\u001b[0m\u001b[1;33m)\u001b[0m\u001b[1;33m\u001b[0m\u001b[1;33m\u001b[0m\u001b[0m\n\u001b[0;32m     11\u001b[0m     \u001b[0mevaluator\u001b[0m \u001b[1;33m=\u001b[0m \u001b[0mClusteringEvaluator\u001b[0m\u001b[1;33m(\u001b[0m\u001b[1;33m)\u001b[0m\u001b[1;33m\u001b[0m\u001b[1;33m\u001b[0m\u001b[0m\n\u001b[1;32m---> 12\u001b[1;33m     \u001b[0msilhouette\u001b[0m \u001b[1;33m=\u001b[0m \u001b[0mevaluator\u001b[0m\u001b[1;33m.\u001b[0m\u001b[0mevaluate\u001b[0m\u001b[1;33m(\u001b[0m\u001b[0mpredictions\u001b[0m\u001b[1;33m)\u001b[0m\u001b[1;33m\u001b[0m\u001b[1;33m\u001b[0m\u001b[0m\n\u001b[0m\u001b[0;32m     13\u001b[0m     \u001b[0mprint\u001b[0m\u001b[1;33m(\u001b[0m\u001b[1;34m\"Silhouette with squared euclidean distance = \"\u001b[0m \u001b[1;33m+\u001b[0m \u001b[0mstr\u001b[0m\u001b[1;33m(\u001b[0m\u001b[0msilhouette\u001b[0m\u001b[1;33m)\u001b[0m\u001b[1;33m)\u001b[0m\u001b[1;33m\u001b[0m\u001b[1;33m\u001b[0m\u001b[0m\n\u001b[0;32m     14\u001b[0m     \u001b[0mcost\u001b[0m\u001b[1;33m.\u001b[0m\u001b[0mappend\u001b[0m\u001b[1;33m(\u001b[0m\u001b[0msilhouette\u001b[0m\u001b[1;33m)\u001b[0m\u001b[1;33m\u001b[0m\u001b[1;33m\u001b[0m\u001b[0m\n",
      "\u001b[1;32m~\\Anaconda3\\lib\\site-packages\\pyspark\\ml\\evaluation.py\u001b[0m in \u001b[0;36mevaluate\u001b[1;34m(self, dataset, params)\u001b[0m\n\u001b[0;32m     82\u001b[0m                 \u001b[1;32mreturn\u001b[0m \u001b[0mself\u001b[0m\u001b[1;33m.\u001b[0m\u001b[0mcopy\u001b[0m\u001b[1;33m(\u001b[0m\u001b[0mparams\u001b[0m\u001b[1;33m)\u001b[0m\u001b[1;33m.\u001b[0m\u001b[0m_evaluate\u001b[0m\u001b[1;33m(\u001b[0m\u001b[0mdataset\u001b[0m\u001b[1;33m)\u001b[0m\u001b[1;33m\u001b[0m\u001b[1;33m\u001b[0m\u001b[0m\n\u001b[0;32m     83\u001b[0m             \u001b[1;32melse\u001b[0m\u001b[1;33m:\u001b[0m\u001b[1;33m\u001b[0m\u001b[1;33m\u001b[0m\u001b[0m\n\u001b[1;32m---> 84\u001b[1;33m                 \u001b[1;32mreturn\u001b[0m \u001b[0mself\u001b[0m\u001b[1;33m.\u001b[0m\u001b[0m_evaluate\u001b[0m\u001b[1;33m(\u001b[0m\u001b[0mdataset\u001b[0m\u001b[1;33m)\u001b[0m\u001b[1;33m\u001b[0m\u001b[1;33m\u001b[0m\u001b[0m\n\u001b[0m\u001b[0;32m     85\u001b[0m         \u001b[1;32melse\u001b[0m\u001b[1;33m:\u001b[0m\u001b[1;33m\u001b[0m\u001b[1;33m\u001b[0m\u001b[0m\n\u001b[0;32m     86\u001b[0m             \u001b[1;32mraise\u001b[0m \u001b[0mTypeError\u001b[0m\u001b[1;33m(\u001b[0m\u001b[1;34m\"Params must be a param map but got %s.\"\u001b[0m \u001b[1;33m%\u001b[0m \u001b[0mtype\u001b[0m\u001b[1;33m(\u001b[0m\u001b[0mparams\u001b[0m\u001b[1;33m)\u001b[0m\u001b[1;33m)\u001b[0m\u001b[1;33m\u001b[0m\u001b[1;33m\u001b[0m\u001b[0m\n",
      "\u001b[1;32m~\\Anaconda3\\lib\\site-packages\\pyspark\\ml\\evaluation.py\u001b[0m in \u001b[0;36m_evaluate\u001b[1;34m(self, dataset)\u001b[0m\n\u001b[0;32m    118\u001b[0m         \"\"\"\n\u001b[0;32m    119\u001b[0m         \u001b[0mself\u001b[0m\u001b[1;33m.\u001b[0m\u001b[0m_transfer_params_to_java\u001b[0m\u001b[1;33m(\u001b[0m\u001b[1;33m)\u001b[0m\u001b[1;33m\u001b[0m\u001b[1;33m\u001b[0m\u001b[0m\n\u001b[1;32m--> 120\u001b[1;33m         \u001b[1;32mreturn\u001b[0m \u001b[0mself\u001b[0m\u001b[1;33m.\u001b[0m\u001b[0m_java_obj\u001b[0m\u001b[1;33m.\u001b[0m\u001b[0mevaluate\u001b[0m\u001b[1;33m(\u001b[0m\u001b[0mdataset\u001b[0m\u001b[1;33m.\u001b[0m\u001b[0m_jdf\u001b[0m\u001b[1;33m)\u001b[0m\u001b[1;33m\u001b[0m\u001b[1;33m\u001b[0m\u001b[0m\n\u001b[0m\u001b[0;32m    121\u001b[0m \u001b[1;33m\u001b[0m\u001b[0m\n\u001b[0;32m    122\u001b[0m     \u001b[1;32mdef\u001b[0m \u001b[0misLargerBetter\u001b[0m\u001b[1;33m(\u001b[0m\u001b[0mself\u001b[0m\u001b[1;33m)\u001b[0m\u001b[1;33m:\u001b[0m\u001b[1;33m\u001b[0m\u001b[1;33m\u001b[0m\u001b[0m\n",
      "\u001b[1;32m~\\Anaconda3\\lib\\site-packages\\py4j\\java_gateway.py\u001b[0m in \u001b[0;36m__call__\u001b[1;34m(self, *args)\u001b[0m\n\u001b[0;32m   1306\u001b[0m             \u001b[0mproto\u001b[0m\u001b[1;33m.\u001b[0m\u001b[0mEND_COMMAND_PART\u001b[0m\u001b[1;33m\u001b[0m\u001b[1;33m\u001b[0m\u001b[0m\n\u001b[0;32m   1307\u001b[0m \u001b[1;33m\u001b[0m\u001b[0m\n\u001b[1;32m-> 1308\u001b[1;33m         \u001b[0manswer\u001b[0m \u001b[1;33m=\u001b[0m \u001b[0mself\u001b[0m\u001b[1;33m.\u001b[0m\u001b[0mgateway_client\u001b[0m\u001b[1;33m.\u001b[0m\u001b[0msend_command\u001b[0m\u001b[1;33m(\u001b[0m\u001b[0mcommand\u001b[0m\u001b[1;33m)\u001b[0m\u001b[1;33m\u001b[0m\u001b[1;33m\u001b[0m\u001b[0m\n\u001b[0m\u001b[0;32m   1309\u001b[0m         return_value = get_return_value(\n\u001b[0;32m   1310\u001b[0m             answer, self.gateway_client, self.target_id, self.name)\n",
      "\u001b[1;32m~\\Anaconda3\\lib\\site-packages\\py4j\\java_gateway.py\u001b[0m in \u001b[0;36msend_command\u001b[1;34m(self, command, retry, binary)\u001b[0m\n\u001b[0;32m   1036\u001b[0m         \u001b[0mconnection\u001b[0m \u001b[1;33m=\u001b[0m \u001b[0mself\u001b[0m\u001b[1;33m.\u001b[0m\u001b[0m_get_connection\u001b[0m\u001b[1;33m(\u001b[0m\u001b[1;33m)\u001b[0m\u001b[1;33m\u001b[0m\u001b[1;33m\u001b[0m\u001b[0m\n\u001b[0;32m   1037\u001b[0m         \u001b[1;32mtry\u001b[0m\u001b[1;33m:\u001b[0m\u001b[1;33m\u001b[0m\u001b[1;33m\u001b[0m\u001b[0m\n\u001b[1;32m-> 1038\u001b[1;33m             \u001b[0mresponse\u001b[0m \u001b[1;33m=\u001b[0m \u001b[0mconnection\u001b[0m\u001b[1;33m.\u001b[0m\u001b[0msend_command\u001b[0m\u001b[1;33m(\u001b[0m\u001b[0mcommand\u001b[0m\u001b[1;33m)\u001b[0m\u001b[1;33m\u001b[0m\u001b[1;33m\u001b[0m\u001b[0m\n\u001b[0m\u001b[0;32m   1039\u001b[0m             \u001b[1;32mif\u001b[0m \u001b[0mbinary\u001b[0m\u001b[1;33m:\u001b[0m\u001b[1;33m\u001b[0m\u001b[1;33m\u001b[0m\u001b[0m\n\u001b[0;32m   1040\u001b[0m                 \u001b[1;32mreturn\u001b[0m \u001b[0mresponse\u001b[0m\u001b[1;33m,\u001b[0m \u001b[0mself\u001b[0m\u001b[1;33m.\u001b[0m\u001b[0m_create_connection_guard\u001b[0m\u001b[1;33m(\u001b[0m\u001b[0mconnection\u001b[0m\u001b[1;33m)\u001b[0m\u001b[1;33m\u001b[0m\u001b[1;33m\u001b[0m\u001b[0m\n",
      "\u001b[1;32m~\\Anaconda3\\lib\\site-packages\\py4j\\clientserver.py\u001b[0m in \u001b[0;36msend_command\u001b[1;34m(self, command)\u001b[0m\n\u001b[0;32m    473\u001b[0m         \u001b[1;32mtry\u001b[0m\u001b[1;33m:\u001b[0m\u001b[1;33m\u001b[0m\u001b[1;33m\u001b[0m\u001b[0m\n\u001b[0;32m    474\u001b[0m             \u001b[1;32mwhile\u001b[0m \u001b[1;32mTrue\u001b[0m\u001b[1;33m:\u001b[0m\u001b[1;33m\u001b[0m\u001b[1;33m\u001b[0m\u001b[0m\n\u001b[1;32m--> 475\u001b[1;33m                 \u001b[0manswer\u001b[0m \u001b[1;33m=\u001b[0m \u001b[0msmart_decode\u001b[0m\u001b[1;33m(\u001b[0m\u001b[0mself\u001b[0m\u001b[1;33m.\u001b[0m\u001b[0mstream\u001b[0m\u001b[1;33m.\u001b[0m\u001b[0mreadline\u001b[0m\u001b[1;33m(\u001b[0m\u001b[1;33m)\u001b[0m\u001b[1;33m[\u001b[0m\u001b[1;33m:\u001b[0m\u001b[1;33m-\u001b[0m\u001b[1;36m1\u001b[0m\u001b[1;33m]\u001b[0m\u001b[1;33m)\u001b[0m\u001b[1;33m\u001b[0m\u001b[1;33m\u001b[0m\u001b[0m\n\u001b[0m\u001b[0;32m    476\u001b[0m                 \u001b[0mlogger\u001b[0m\u001b[1;33m.\u001b[0m\u001b[0mdebug\u001b[0m\u001b[1;33m(\u001b[0m\u001b[1;34m\"Answer received: {0}\"\u001b[0m\u001b[1;33m.\u001b[0m\u001b[0mformat\u001b[0m\u001b[1;33m(\u001b[0m\u001b[0manswer\u001b[0m\u001b[1;33m)\u001b[0m\u001b[1;33m)\u001b[0m\u001b[1;33m\u001b[0m\u001b[1;33m\u001b[0m\u001b[0m\n\u001b[0;32m    477\u001b[0m                 \u001b[1;31m# Happens when a the other end is dead. There might be an empty\u001b[0m\u001b[1;33m\u001b[0m\u001b[1;33m\u001b[0m\u001b[1;33m\u001b[0m\u001b[0m\n",
      "\u001b[1;32m~\\Anaconda3\\lib\\socket.py\u001b[0m in \u001b[0;36mreadinto\u001b[1;34m(self, b)\u001b[0m\n\u001b[0;32m    587\u001b[0m         \u001b[1;32mwhile\u001b[0m \u001b[1;32mTrue\u001b[0m\u001b[1;33m:\u001b[0m\u001b[1;33m\u001b[0m\u001b[1;33m\u001b[0m\u001b[0m\n\u001b[0;32m    588\u001b[0m             \u001b[1;32mtry\u001b[0m\u001b[1;33m:\u001b[0m\u001b[1;33m\u001b[0m\u001b[1;33m\u001b[0m\u001b[0m\n\u001b[1;32m--> 589\u001b[1;33m                 \u001b[1;32mreturn\u001b[0m \u001b[0mself\u001b[0m\u001b[1;33m.\u001b[0m\u001b[0m_sock\u001b[0m\u001b[1;33m.\u001b[0m\u001b[0mrecv_into\u001b[0m\u001b[1;33m(\u001b[0m\u001b[0mb\u001b[0m\u001b[1;33m)\u001b[0m\u001b[1;33m\u001b[0m\u001b[1;33m\u001b[0m\u001b[0m\n\u001b[0m\u001b[0;32m    590\u001b[0m             \u001b[1;32mexcept\u001b[0m \u001b[0mtimeout\u001b[0m\u001b[1;33m:\u001b[0m\u001b[1;33m\u001b[0m\u001b[1;33m\u001b[0m\u001b[0m\n\u001b[0;32m    591\u001b[0m                 \u001b[0mself\u001b[0m\u001b[1;33m.\u001b[0m\u001b[0m_timeout_occurred\u001b[0m \u001b[1;33m=\u001b[0m \u001b[1;32mTrue\u001b[0m\u001b[1;33m\u001b[0m\u001b[1;33m\u001b[0m\u001b[0m\n",
      "\u001b[1;31mKeyboardInterrupt\u001b[0m: "
     ]
    }
   ],
   "source": [
    "## finding ideal k\n",
    "import numpy as np\n",
    "from pyspark.ml.clustering import KMeans\n",
    "from pyspark.ml.evaluation import ClusteringEvaluator\n",
    "cost = []\n",
    "for k in range(5,15):\n",
    "    print(k)\n",
    "    kmeans = KMeans().setK(k).setSeed(38).setFeaturesCol(\"features\")\n",
    "    model = kmeans.fit(data_scale_output.select('streamerId', 'features').sample(False,0.1, seed=38))\n",
    "    predictions = model.transform(data_scale_output)\n",
    "    evaluator = ClusteringEvaluator()\n",
    "    silhouette = evaluator.evaluate(predictions)\n",
    "    print(\"Silhouette with squared euclidean distance = \" + str(silhouette))\n",
    "    cost.append(silhouette)\n"
   ]
  },
  {
   "cell_type": "code",
   "execution_count": null,
   "metadata": {
    "id": "hZqWp8Pan4Kv"
   },
   "outputs": [],
   "source": [
    "fig, ax = plt.subplots(1,1, figsize =(8,6))\n",
    "ax.plot(range(2,20),cost[2:20])\n",
    "ax.set_xlabel('k')\n",
    "ax.set_ylabel('cost')"
   ]
  },
  {
   "cell_type": "code",
   "execution_count": null,
   "metadata": {
    "colab": {
     "base_uri": "https://localhost:8080/"
    },
    "id": "ItSIKyZpoD66",
    "outputId": "d62515e9-82f6-463b-c94f-4c39689dd839"
   },
   "outputs": [],
   "source": [
    "import numpy as np\n",
    "from pyspark.ml.clustering import KMeans\n",
    "from pyspark.ml.evaluation import ClusteringEvaluator\n",
    "kmeans = KMeans().setK(7).setSeed(38).setFeaturesCol(\"features\")\n",
    "model = kmeans.fit(data_scale_output)\n",
    "predictions = model.transform(data_scale_output)\n",
    "evaluator = ClusteringEvaluator()\n",
    "silhouette = evaluator.evaluate(predictions)\n",
    "print(\"Silhouette with squared euclidean distance = \" + str(silhouette))\n",
    "\n",
    "# Shows the result.\n",
    "centers = model.clusterCenters()\n",
    "print(\"Cluster Centers: \")\n",
    "for center in centers:\n",
    "    print(center)"
   ]
  },
  {
   "cell_type": "code",
   "execution_count": null,
   "metadata": {
    "colab": {
     "base_uri": "https://localhost:8080/"
    },
    "id": "ngqbGFTAor4l",
    "outputId": "60ae8757-e794-4e03-9761-6e7d6376547d"
   },
   "outputs": [],
   "source": [
    "transformed = model.transform(data_scale_output).select('streamerId', 'prediction')\n",
    "rows = transformed.collect()\n",
    "print(rows[:3])"
   ]
  },
  {
   "cell_type": "code",
   "execution_count": null,
   "metadata": {
    "colab": {
     "base_uri": "https://localhost:8080/"
    },
    "id": "EpCrEXwToIDH",
    "outputId": "9034cea4-97b0-4508-9259-50d92243676a"
   },
   "outputs": [],
   "source": [
    "df_pred = sql_sc.createDataFrame(rows)\n",
    "df_pred.show()"
   ]
  },
  {
   "cell_type": "code",
   "execution_count": null,
   "metadata": {
    "colab": {
     "base_uri": "https://localhost:8080/"
    },
    "id": "2dCZCerNpP7G",
    "outputId": "c37bbfbb-c9b6-4b0c-b1b7-3ff71efa63c8"
   },
   "outputs": [],
   "source": [
    "df_pred = df_pred.join(df4, 'streamerId')\n",
    "df_pred.show()"
   ]
  },
  {
   "cell_type": "code",
   "execution_count": null,
   "metadata": {
    "colab": {
     "base_uri": "https://localhost:8080/"
    },
    "id": "ydHPywbdeI52",
    "outputId": "140db622-8de3-415e-fc56-b78c83515288"
   },
   "outputs": [],
   "source": [
    "df_pred.dropDuplicates(['prediction']).show()# print(distinctValuesDF)"
   ]
  },
  {
   "cell_type": "code",
   "execution_count": null,
   "metadata": {
    "id": "17_hYI8ngO9n"
   },
   "outputs": [],
   "source": [
    "model.save('models/km_model')\n",
    "# model2 = KMeansModel.load(model_path)"
   ]
  },
  {
   "cell_type": "code",
   "execution_count": null,
   "metadata": {
    "colab": {
     "base_uri": "https://localhost:8080/"
    },
    "id": "BO4Yz8xjiBT7",
    "outputId": "dfc26b29-5f4a-4ece-c728-6670d140a786"
   },
   "outputs": [],
   "source": [
    "#!zip -r /km_model.zip /content/km_model\n"
   ]
  },
  {
   "cell_type": "code",
   "execution_count": null,
   "metadata": {
    "colab": {
     "base_uri": "https://localhost:8080/",
     "height": 17
    },
    "id": "a994Dt2ijiU2",
    "outputId": "e5c1771b-bdf4-498f-d054-9e4468f10aab"
   },
   "outputs": [],
   "source": [
    "#from google.colab import files\n",
    "#files.download(\"/km_model.zip\")"
   ]
  }
 ],
 "metadata": {
  "colab": {
   "collapsed_sections": [],
   "name": "ClusterRec.ipynb",
   "provenance": []
  },
  "kernelspec": {
   "display_name": "Python 3 (ipykernel)",
   "language": "python",
   "name": "python3"
  },
  "language_info": {
   "codemirror_mode": {
    "name": "ipython",
    "version": 3
   },
   "file_extension": ".py",
   "mimetype": "text/x-python",
   "name": "python",
   "nbconvert_exporter": "python",
   "pygments_lexer": "ipython3",
   "version": "3.7.11"
  }
 },
 "nbformat": 4,
 "nbformat_minor": 1
}
