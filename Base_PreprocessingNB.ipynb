{
 "cells": [
  {
   "cell_type": "code",
   "execution_count": 1,
   "id": "00b5d636",
   "metadata": {},
   "outputs": [],
   "source": [
    "import os\n",
    "os.environ[\"PYARROW_IGNORE_TIMEZONE\"] = \"1\"\n",
    "#os.environ['ARROW_PRE_0_15_IPC_FORMAT'] = '1'\n",
    "from pyspark.pandas import read_csv\n",
    "import pyspark.pandas as ps\n",
    "# means is for items, df is for collab"
   ]
  },
  {
   "cell_type": "code",
   "execution_count": 2,
   "id": "1238275b",
   "metadata": {},
   "outputs": [],
   "source": [
    "ps.set_option('compute.default_index_type', 'distributed')\n",
    "big_data = False\n",
    "path ='data/100k_a.csv' if  not big_data else 'data/full_a.csv'\n",
    "df = read_csv(path, names=['userId','streamId','streamerName','timeStart','timeStop'])"
   ]
  },
  {
   "cell_type": "code",
   "execution_count": 3,
   "id": "26ef69db",
   "metadata": {},
   "outputs": [
    {
     "data": {
      "text/html": [
       "<div>\n",
       "<style scoped>\n",
       "    .dataframe tbody tr th:only-of-type {\n",
       "        vertical-align: middle;\n",
       "    }\n",
       "\n",
       "    .dataframe tbody tr th {\n",
       "        vertical-align: top;\n",
       "    }\n",
       "\n",
       "    .dataframe thead th {\n",
       "        text-align: right;\n",
       "    }\n",
       "</style>\n",
       "<table border=\"1\" class=\"dataframe\">\n",
       "  <thead>\n",
       "    <tr style=\"text-align: right;\">\n",
       "      <th></th>\n",
       "      <th>userId</th>\n",
       "      <th>streamId</th>\n",
       "      <th>streamerName</th>\n",
       "      <th>timeStart</th>\n",
       "      <th>timeStop</th>\n",
       "    </tr>\n",
       "  </thead>\n",
       "  <tbody>\n",
       "    <tr>\n",
       "      <th>0</th>\n",
       "      <td>1</td>\n",
       "      <td>33842865744</td>\n",
       "      <td>mithrain</td>\n",
       "      <td>154</td>\n",
       "      <td>156</td>\n",
       "    </tr>\n",
       "    <tr>\n",
       "      <th>1</th>\n",
       "      <td>1</td>\n",
       "      <td>33846768288</td>\n",
       "      <td>alptv</td>\n",
       "      <td>166</td>\n",
       "      <td>169</td>\n",
       "    </tr>\n",
       "    <tr>\n",
       "      <th>2</th>\n",
       "      <td>1</td>\n",
       "      <td>33886469056</td>\n",
       "      <td>mithrain</td>\n",
       "      <td>587</td>\n",
       "      <td>588</td>\n",
       "    </tr>\n",
       "    <tr>\n",
       "      <th>3</th>\n",
       "      <td>1</td>\n",
       "      <td>33887624992</td>\n",
       "      <td>wtcn</td>\n",
       "      <td>589</td>\n",
       "      <td>591</td>\n",
       "    </tr>\n",
       "    <tr>\n",
       "      <th>4</th>\n",
       "      <td>1</td>\n",
       "      <td>33890145056</td>\n",
       "      <td>jrokezftw</td>\n",
       "      <td>591</td>\n",
       "      <td>594</td>\n",
       "    </tr>\n",
       "  </tbody>\n",
       "</table>\n",
       "</div>"
      ],
      "text/plain": [
       "   userId     streamId streamerName  timeStart  timeStop\n",
       "0       1  33842865744     mithrain        154       156\n",
       "1       1  33846768288        alptv        166       169\n",
       "2       1  33886469056     mithrain        587       588\n",
       "3       1  33887624992         wtcn        589       591\n",
       "4       1  33890145056    jrokezftw        591       594"
      ]
     },
     "execution_count": 3,
     "metadata": {},
     "output_type": "execute_result"
    }
   ],
   "source": [
    "df.head()"
   ]
  },
  {
   "cell_type": "code",
   "execution_count": 4,
   "id": "c1ed5323",
   "metadata": {
    "scrolled": true
   },
   "outputs": [],
   "source": [
    "df['interactionTime']=(df['timeStop'] - df['timeStart'])*10 # units are 10 min"
   ]
  },
  {
   "cell_type": "code",
   "execution_count": 5,
   "id": "de9a3f8c",
   "metadata": {},
   "outputs": [
    {
     "data": {
      "text/html": [
       "<div>\n",
       "<style scoped>\n",
       "    .dataframe tbody tr th:only-of-type {\n",
       "        vertical-align: middle;\n",
       "    }\n",
       "\n",
       "    .dataframe tbody tr th {\n",
       "        vertical-align: top;\n",
       "    }\n",
       "\n",
       "    .dataframe thead th {\n",
       "        text-align: right;\n",
       "    }\n",
       "</style>\n",
       "<table border=\"1\" class=\"dataframe\">\n",
       "  <thead>\n",
       "    <tr style=\"text-align: right;\">\n",
       "      <th></th>\n",
       "      <th>userId</th>\n",
       "      <th>streamId</th>\n",
       "      <th>streamerName</th>\n",
       "      <th>timeStart</th>\n",
       "      <th>timeStop</th>\n",
       "      <th>interactionTime</th>\n",
       "    </tr>\n",
       "  </thead>\n",
       "  <tbody>\n",
       "    <tr>\n",
       "      <th>0</th>\n",
       "      <td>1</td>\n",
       "      <td>33842865744</td>\n",
       "      <td>mithrain</td>\n",
       "      <td>154</td>\n",
       "      <td>156</td>\n",
       "      <td>20</td>\n",
       "    </tr>\n",
       "    <tr>\n",
       "      <th>1</th>\n",
       "      <td>1</td>\n",
       "      <td>33846768288</td>\n",
       "      <td>alptv</td>\n",
       "      <td>166</td>\n",
       "      <td>169</td>\n",
       "      <td>30</td>\n",
       "    </tr>\n",
       "    <tr>\n",
       "      <th>2</th>\n",
       "      <td>1</td>\n",
       "      <td>33886469056</td>\n",
       "      <td>mithrain</td>\n",
       "      <td>587</td>\n",
       "      <td>588</td>\n",
       "      <td>10</td>\n",
       "    </tr>\n",
       "    <tr>\n",
       "      <th>3</th>\n",
       "      <td>1</td>\n",
       "      <td>33887624992</td>\n",
       "      <td>wtcn</td>\n",
       "      <td>589</td>\n",
       "      <td>591</td>\n",
       "      <td>20</td>\n",
       "    </tr>\n",
       "    <tr>\n",
       "      <th>4</th>\n",
       "      <td>1</td>\n",
       "      <td>33890145056</td>\n",
       "      <td>jrokezftw</td>\n",
       "      <td>591</td>\n",
       "      <td>594</td>\n",
       "      <td>30</td>\n",
       "    </tr>\n",
       "  </tbody>\n",
       "</table>\n",
       "</div>"
      ],
      "text/plain": [
       "   userId     streamId streamerName  timeStart  timeStop  interactionTime\n",
       "0       1  33842865744     mithrain        154       156               20\n",
       "1       1  33846768288        alptv        166       169               30\n",
       "2       1  33886469056     mithrain        587       588               10\n",
       "3       1  33887624992         wtcn        589       591               20\n",
       "4       1  33890145056    jrokezftw        591       594               30"
      ]
     },
     "execution_count": 5,
     "metadata": {},
     "output_type": "execute_result"
    }
   ],
   "source": [
    "df.head()"
   ]
  },
  {
   "cell_type": "code",
   "execution_count": 6,
   "id": "7b5be022",
   "metadata": {},
   "outputs": [],
   "source": [
    "df= df.drop(columns=['timeStart','timeStop'])"
   ]
  },
  {
   "cell_type": "code",
   "execution_count": 7,
   "id": "5d66623d",
   "metadata": {},
   "outputs": [],
   "source": [
    "tmax=df['interactionTime'].max()"
   ]
  },
  {
   "cell_type": "code",
   "execution_count": 8,
   "id": "2dfe0889",
   "metadata": {},
   "outputs": [],
   "source": [
    "tmin=df['interactionTime'].min()"
   ]
  },
  {
   "cell_type": "code",
   "execution_count": 9,
   "id": "de1461b9",
   "metadata": {},
   "outputs": [],
   "source": [
    "df['interactionTime']= (df['interactionTime']- tmin)/(tmax-tmin)"
   ]
  },
  {
   "cell_type": "code",
   "execution_count": 10,
   "id": "5c41e1ef",
   "metadata": {},
   "outputs": [
    {
     "data": {
      "text/html": [
       "<div>\n",
       "<style scoped>\n",
       "    .dataframe tbody tr th:only-of-type {\n",
       "        vertical-align: middle;\n",
       "    }\n",
       "\n",
       "    .dataframe tbody tr th {\n",
       "        vertical-align: top;\n",
       "    }\n",
       "\n",
       "    .dataframe thead th {\n",
       "        text-align: right;\n",
       "    }\n",
       "</style>\n",
       "<table border=\"1\" class=\"dataframe\">\n",
       "  <thead>\n",
       "    <tr style=\"text-align: right;\">\n",
       "      <th></th>\n",
       "      <th>userId</th>\n",
       "      <th>streamId</th>\n",
       "      <th>streamerName</th>\n",
       "      <th>interactionTime</th>\n",
       "    </tr>\n",
       "  </thead>\n",
       "  <tbody>\n",
       "    <tr>\n",
       "      <th>0</th>\n",
       "      <td>1</td>\n",
       "      <td>33842865744</td>\n",
       "      <td>mithrain</td>\n",
       "      <td>0.010417</td>\n",
       "    </tr>\n",
       "    <tr>\n",
       "      <th>1</th>\n",
       "      <td>1</td>\n",
       "      <td>33846768288</td>\n",
       "      <td>alptv</td>\n",
       "      <td>0.020833</td>\n",
       "    </tr>\n",
       "    <tr>\n",
       "      <th>2</th>\n",
       "      <td>1</td>\n",
       "      <td>33886469056</td>\n",
       "      <td>mithrain</td>\n",
       "      <td>0.000000</td>\n",
       "    </tr>\n",
       "    <tr>\n",
       "      <th>3</th>\n",
       "      <td>1</td>\n",
       "      <td>33887624992</td>\n",
       "      <td>wtcn</td>\n",
       "      <td>0.010417</td>\n",
       "    </tr>\n",
       "    <tr>\n",
       "      <th>4</th>\n",
       "      <td>1</td>\n",
       "      <td>33890145056</td>\n",
       "      <td>jrokezftw</td>\n",
       "      <td>0.020833</td>\n",
       "    </tr>\n",
       "  </tbody>\n",
       "</table>\n",
       "</div>"
      ],
      "text/plain": [
       "   userId     streamId streamerName  interactionTime\n",
       "0       1  33842865744     mithrain         0.010417\n",
       "1       1  33846768288        alptv         0.020833\n",
       "2       1  33886469056     mithrain         0.000000\n",
       "3       1  33887624992         wtcn         0.010417\n",
       "4       1  33890145056    jrokezftw         0.020833"
      ]
     },
     "execution_count": 10,
     "metadata": {},
     "output_type": "execute_result"
    }
   ],
   "source": [
    "df.head()"
   ]
  },
  {
   "cell_type": "code",
   "execution_count": 11,
   "id": "67a92c1e",
   "metadata": {},
   "outputs": [],
   "source": [
    "# goal is to scale to 1-100 for implict rating/confidence\n",
    "# MAYBE INVESTIGATE DIFFERENT SCALING IN FUTURE\n",
    "df['interactionTime'] = (df['interactionTime'] * 99) +1"
   ]
  },
  {
   "cell_type": "code",
   "execution_count": 12,
   "id": "523eea6f",
   "metadata": {},
   "outputs": [
    {
     "data": {
      "text/html": [
       "<div>\n",
       "<style scoped>\n",
       "    .dataframe tbody tr th:only-of-type {\n",
       "        vertical-align: middle;\n",
       "    }\n",
       "\n",
       "    .dataframe tbody tr th {\n",
       "        vertical-align: top;\n",
       "    }\n",
       "\n",
       "    .dataframe thead th {\n",
       "        text-align: right;\n",
       "    }\n",
       "</style>\n",
       "<table border=\"1\" class=\"dataframe\">\n",
       "  <thead>\n",
       "    <tr style=\"text-align: right;\">\n",
       "      <th></th>\n",
       "      <th>userId</th>\n",
       "      <th>streamId</th>\n",
       "      <th>streamerName</th>\n",
       "      <th>interactionTime</th>\n",
       "    </tr>\n",
       "  </thead>\n",
       "  <tbody>\n",
       "    <tr>\n",
       "      <th>0</th>\n",
       "      <td>1</td>\n",
       "      <td>33842865744</td>\n",
       "      <td>mithrain</td>\n",
       "      <td>2.03125</td>\n",
       "    </tr>\n",
       "    <tr>\n",
       "      <th>1</th>\n",
       "      <td>1</td>\n",
       "      <td>33846768288</td>\n",
       "      <td>alptv</td>\n",
       "      <td>3.06250</td>\n",
       "    </tr>\n",
       "    <tr>\n",
       "      <th>2</th>\n",
       "      <td>1</td>\n",
       "      <td>33886469056</td>\n",
       "      <td>mithrain</td>\n",
       "      <td>1.00000</td>\n",
       "    </tr>\n",
       "    <tr>\n",
       "      <th>3</th>\n",
       "      <td>1</td>\n",
       "      <td>33887624992</td>\n",
       "      <td>wtcn</td>\n",
       "      <td>2.03125</td>\n",
       "    </tr>\n",
       "    <tr>\n",
       "      <th>4</th>\n",
       "      <td>1</td>\n",
       "      <td>33890145056</td>\n",
       "      <td>jrokezftw</td>\n",
       "      <td>3.06250</td>\n",
       "    </tr>\n",
       "  </tbody>\n",
       "</table>\n",
       "</div>"
      ],
      "text/plain": [
       "   userId     streamId streamerName  interactionTime\n",
       "0       1  33842865744     mithrain          2.03125\n",
       "1       1  33846768288        alptv          3.06250\n",
       "2       1  33886469056     mithrain          1.00000\n",
       "3       1  33887624992         wtcn          2.03125\n",
       "4       1  33890145056    jrokezftw          3.06250"
      ]
     },
     "execution_count": 12,
     "metadata": {},
     "output_type": "execute_result"
    }
   ],
   "source": [
    "df.head()"
   ]
  },
  {
   "cell_type": "code",
   "execution_count": 13,
   "id": "07b4a0ab",
   "metadata": {},
   "outputs": [],
   "source": [
    "import sys\n",
    "df['streamerId']=df['streamerName'].apply(lambda x: hash(x) & sys.maxsize) # prevent negative numbers"
   ]
  },
  {
   "cell_type": "code",
   "execution_count": 14,
   "id": "c63d0922",
   "metadata": {},
   "outputs": [
    {
     "data": {
      "text/html": [
       "<div>\n",
       "<style scoped>\n",
       "    .dataframe tbody tr th:only-of-type {\n",
       "        vertical-align: middle;\n",
       "    }\n",
       "\n",
       "    .dataframe tbody tr th {\n",
       "        vertical-align: top;\n",
       "    }\n",
       "\n",
       "    .dataframe thead th {\n",
       "        text-align: right;\n",
       "    }\n",
       "</style>\n",
       "<table border=\"1\" class=\"dataframe\">\n",
       "  <thead>\n",
       "    <tr style=\"text-align: right;\">\n",
       "      <th></th>\n",
       "      <th>userId</th>\n",
       "      <th>streamId</th>\n",
       "      <th>streamerName</th>\n",
       "      <th>interactionTime</th>\n",
       "      <th>streamerId</th>\n",
       "    </tr>\n",
       "  </thead>\n",
       "  <tbody>\n",
       "    <tr>\n",
       "      <th>0</th>\n",
       "      <td>1</td>\n",
       "      <td>33842865744</td>\n",
       "      <td>mithrain</td>\n",
       "      <td>2.03125</td>\n",
       "      <td>6237787267506800044</td>\n",
       "    </tr>\n",
       "    <tr>\n",
       "      <th>1</th>\n",
       "      <td>1</td>\n",
       "      <td>33846768288</td>\n",
       "      <td>alptv</td>\n",
       "      <td>3.06250</td>\n",
       "      <td>8455602530264088426</td>\n",
       "    </tr>\n",
       "    <tr>\n",
       "      <th>2</th>\n",
       "      <td>1</td>\n",
       "      <td>33886469056</td>\n",
       "      <td>mithrain</td>\n",
       "      <td>1.00000</td>\n",
       "      <td>6237787267506800044</td>\n",
       "    </tr>\n",
       "    <tr>\n",
       "      <th>3</th>\n",
       "      <td>1</td>\n",
       "      <td>33887624992</td>\n",
       "      <td>wtcn</td>\n",
       "      <td>2.03125</td>\n",
       "      <td>5324476659562100413</td>\n",
       "    </tr>\n",
       "    <tr>\n",
       "      <th>4</th>\n",
       "      <td>1</td>\n",
       "      <td>33890145056</td>\n",
       "      <td>jrokezftw</td>\n",
       "      <td>3.06250</td>\n",
       "      <td>6731343583494858722</td>\n",
       "    </tr>\n",
       "  </tbody>\n",
       "</table>\n",
       "</div>"
      ],
      "text/plain": [
       "   userId     streamId streamerName  interactionTime           streamerId\n",
       "0       1  33842865744     mithrain          2.03125  6237787267506800044\n",
       "1       1  33846768288        alptv          3.06250  8455602530264088426\n",
       "2       1  33886469056     mithrain          1.00000  6237787267506800044\n",
       "3       1  33887624992         wtcn          2.03125  5324476659562100413\n",
       "4       1  33890145056    jrokezftw          3.06250  6731343583494858722"
      ]
     },
     "execution_count": 14,
     "metadata": {},
     "output_type": "execute_result"
    }
   ],
   "source": [
    "df.head()"
   ]
  },
  {
   "cell_type": "code",
   "execution_count": 15,
   "id": "8a2677f2",
   "metadata": {},
   "outputs": [
    {
     "data": {
      "text/plain": [
       "True"
      ]
     },
     "execution_count": 15,
     "metadata": {},
     "output_type": "execute_result"
    }
   ],
   "source": [
    "len(df['streamerId'].unique()) == len(df['streamerName'].unique())"
   ]
  },
  {
   "cell_type": "code",
   "execution_count": 16,
   "id": "0490d131",
   "metadata": {},
   "outputs": [],
   "source": [
    "df = df.drop(columns=['streamerName'])"
   ]
  },
  {
   "cell_type": "code",
   "execution_count": 17,
   "id": "0ab2036d",
   "metadata": {},
   "outputs": [
    {
     "data": {
      "text/html": [
       "<div>\n",
       "<style scoped>\n",
       "    .dataframe tbody tr th:only-of-type {\n",
       "        vertical-align: middle;\n",
       "    }\n",
       "\n",
       "    .dataframe tbody tr th {\n",
       "        vertical-align: top;\n",
       "    }\n",
       "\n",
       "    .dataframe thead th {\n",
       "        text-align: right;\n",
       "    }\n",
       "</style>\n",
       "<table border=\"1\" class=\"dataframe\">\n",
       "  <thead>\n",
       "    <tr style=\"text-align: right;\">\n",
       "      <th></th>\n",
       "      <th>userId</th>\n",
       "      <th>streamId</th>\n",
       "      <th>interactionTime</th>\n",
       "      <th>streamerId</th>\n",
       "    </tr>\n",
       "  </thead>\n",
       "  <tbody>\n",
       "    <tr>\n",
       "      <th>0</th>\n",
       "      <td>1</td>\n",
       "      <td>33842865744</td>\n",
       "      <td>2.03125</td>\n",
       "      <td>6237787267506800044</td>\n",
       "    </tr>\n",
       "    <tr>\n",
       "      <th>1</th>\n",
       "      <td>1</td>\n",
       "      <td>33846768288</td>\n",
       "      <td>3.06250</td>\n",
       "      <td>8455602530264088426</td>\n",
       "    </tr>\n",
       "    <tr>\n",
       "      <th>2</th>\n",
       "      <td>1</td>\n",
       "      <td>33886469056</td>\n",
       "      <td>1.00000</td>\n",
       "      <td>6237787267506800044</td>\n",
       "    </tr>\n",
       "    <tr>\n",
       "      <th>3</th>\n",
       "      <td>1</td>\n",
       "      <td>33887624992</td>\n",
       "      <td>2.03125</td>\n",
       "      <td>5324476659562100413</td>\n",
       "    </tr>\n",
       "    <tr>\n",
       "      <th>4</th>\n",
       "      <td>1</td>\n",
       "      <td>33890145056</td>\n",
       "      <td>3.06250</td>\n",
       "      <td>6731343583494858722</td>\n",
       "    </tr>\n",
       "  </tbody>\n",
       "</table>\n",
       "</div>"
      ],
      "text/plain": [
       "   userId     streamId  interactionTime           streamerId\n",
       "0       1  33842865744          2.03125  6237787267506800044\n",
       "1       1  33846768288          3.06250  8455602530264088426\n",
       "2       1  33886469056          1.00000  6237787267506800044\n",
       "3       1  33887624992          2.03125  5324476659562100413\n",
       "4       1  33890145056          3.06250  6731343583494858722"
      ]
     },
     "execution_count": 17,
     "metadata": {},
     "output_type": "execute_result"
    }
   ],
   "source": [
    "df.head()"
   ]
  },
  {
   "cell_type": "code",
   "execution_count": 18,
   "id": "cff715ba",
   "metadata": {},
   "outputs": [],
   "source": [
    "means=df.groupby(['streamerId'],as_index=False)['interactionTime'].mean()\n",
    "means=means.rename(columns={'streamerId':'streamerId','interactionTime':'avgInteractionTime'})"
   ]
  },
  {
   "cell_type": "code",
   "execution_count": 19,
   "id": "042aaa58",
   "metadata": {},
   "outputs": [
    {
     "data": {
      "text/html": [
       "<div>\n",
       "<style scoped>\n",
       "    .dataframe tbody tr th:only-of-type {\n",
       "        vertical-align: middle;\n",
       "    }\n",
       "\n",
       "    .dataframe tbody tr th {\n",
       "        vertical-align: top;\n",
       "    }\n",
       "\n",
       "    .dataframe thead th {\n",
       "        text-align: right;\n",
       "    }\n",
       "</style>\n",
       "<table border=\"1\" class=\"dataframe\">\n",
       "  <thead>\n",
       "    <tr style=\"text-align: right;\">\n",
       "      <th></th>\n",
       "      <th>streamerId</th>\n",
       "      <th>avgInteractionTime</th>\n",
       "    </tr>\n",
       "  </thead>\n",
       "  <tbody>\n",
       "    <tr>\n",
       "      <th>0</th>\n",
       "      <td>5652140647009628783</td>\n",
       "      <td>2.324660</td>\n",
       "    </tr>\n",
       "    <tr>\n",
       "      <th>1</th>\n",
       "      <td>392638289472592052</td>\n",
       "      <td>2.250000</td>\n",
       "    </tr>\n",
       "    <tr>\n",
       "      <th>2</th>\n",
       "      <td>6900454007790282002</td>\n",
       "      <td>2.938563</td>\n",
       "    </tr>\n",
       "    <tr>\n",
       "      <th>3</th>\n",
       "      <td>2406168726911974914</td>\n",
       "      <td>6.981250</td>\n",
       "    </tr>\n",
       "    <tr>\n",
       "      <th>4</th>\n",
       "      <td>2271347389753034915</td>\n",
       "      <td>2.630040</td>\n",
       "    </tr>\n",
       "  </tbody>\n",
       "</table>\n",
       "</div>"
      ],
      "text/plain": [
       "            streamerId  avgInteractionTime\n",
       "0  5652140647009628783            2.324660\n",
       "1   392638289472592052            2.250000\n",
       "2  6900454007790282002            2.938563\n",
       "3  2406168726911974914            6.981250\n",
       "4  2271347389753034915            2.630040"
      ]
     },
     "execution_count": 19,
     "metadata": {},
     "output_type": "execute_result"
    }
   ],
   "source": [
    "means.head()"
   ]
  },
  {
   "cell_type": "code",
   "execution_count": 20,
   "id": "351072f0",
   "metadata": {},
   "outputs": [
    {
     "data": {
      "text/plain": [
       "45144"
      ]
     },
     "execution_count": 20,
     "metadata": {},
     "output_type": "execute_result"
    }
   ],
   "source": [
    "numStreams = df.groupby(['streamerId'],as_index=False).size()\n",
    "numStreams.max()"
   ]
  },
  {
   "cell_type": "code",
   "execution_count": 21,
   "id": "ac7cc4ec",
   "metadata": {},
   "outputs": [],
   "source": [
    "means=means.join(numStreams,on='streamerId')"
   ]
  },
  {
   "cell_type": "code",
   "execution_count": 22,
   "id": "757bd7a3",
   "metadata": {},
   "outputs": [
    {
     "data": {
      "text/html": [
       "<div>\n",
       "<style scoped>\n",
       "    .dataframe tbody tr th:only-of-type {\n",
       "        vertical-align: middle;\n",
       "    }\n",
       "\n",
       "    .dataframe tbody tr th {\n",
       "        vertical-align: top;\n",
       "    }\n",
       "\n",
       "    .dataframe thead th {\n",
       "        text-align: right;\n",
       "    }\n",
       "</style>\n",
       "<table border=\"1\" class=\"dataframe\">\n",
       "  <thead>\n",
       "    <tr style=\"text-align: right;\">\n",
       "      <th></th>\n",
       "      <th>streamerId</th>\n",
       "      <th>avgInteractionTime</th>\n",
       "      <th>interactionCounts</th>\n",
       "    </tr>\n",
       "  </thead>\n",
       "  <tbody>\n",
       "    <tr>\n",
       "      <th>0</th>\n",
       "      <td>5652140647009628783</td>\n",
       "      <td>2.324660</td>\n",
       "      <td>239</td>\n",
       "    </tr>\n",
       "    <tr>\n",
       "      <th>1</th>\n",
       "      <td>392638289472592052</td>\n",
       "      <td>2.250000</td>\n",
       "      <td>33</td>\n",
       "    </tr>\n",
       "    <tr>\n",
       "      <th>2</th>\n",
       "      <td>6900454007790282002</td>\n",
       "      <td>2.938563</td>\n",
       "      <td>1323</td>\n",
       "    </tr>\n",
       "    <tr>\n",
       "      <th>3</th>\n",
       "      <td>2406168726911974914</td>\n",
       "      <td>6.981250</td>\n",
       "      <td>10</td>\n",
       "    </tr>\n",
       "    <tr>\n",
       "      <th>4</th>\n",
       "      <td>2271347389753034915</td>\n",
       "      <td>2.630040</td>\n",
       "      <td>93</td>\n",
       "    </tr>\n",
       "  </tbody>\n",
       "</table>\n",
       "</div>"
      ],
      "text/plain": [
       "            streamerId  avgInteractionTime  interactionCounts\n",
       "0  5652140647009628783            2.324660                239\n",
       "1   392638289472592052            2.250000                 33\n",
       "2  6900454007790282002            2.938563               1323\n",
       "3  2406168726911974914            6.981250                 10\n",
       "4  2271347389753034915            2.630040                 93"
      ]
     },
     "execution_count": 22,
     "metadata": {},
     "output_type": "execute_result"
    }
   ],
   "source": [
    "means= means.rename(columns={'streamerId':'streamerId','avgInteractionTime':'avgInteractionTime', 0:'interactionCounts'})\n",
    "means.head()"
   ]
  },
  {
   "cell_type": "markdown",
   "id": "5178c8f4",
   "metadata": {},
   "source": [
    "### better for smaller in memory data\n",
    "### df.to_pandas().to_csv('data/test.csv')"
   ]
  },
  {
   "cell_type": "code",
   "execution_count": 23,
   "id": "89d3e8eb",
   "metadata": {},
   "outputs": [],
   "source": [
    "# used to ensure no oom error with pandas\n",
    "df.to_spark().coalesce(1).write.format('csv').option('header', 'true').save('data/collab')"
   ]
  },
  {
   "cell_type": "code",
   "execution_count": 24,
   "id": "f68e2268",
   "metadata": {},
   "outputs": [],
   "source": [
    "means.to_spark().coalesce(1).write.format('csv').option('header', 'true').save('data/item')"
   ]
  },
  {
   "cell_type": "code",
   "execution_count": null,
   "id": "5f432eaa",
   "metadata": {},
   "outputs": [],
   "source": []
  }
 ],
 "metadata": {
  "kernelspec": {
   "display_name": "Python 3 (ipykernel)",
   "language": "python",
   "name": "python3"
  },
  "language_info": {
   "codemirror_mode": {
    "name": "ipython",
    "version": 3
   },
   "file_extension": ".py",
   "mimetype": "text/x-python",
   "name": "python",
   "nbconvert_exporter": "python",
   "pygments_lexer": "ipython3",
   "version": "3.7.11"
  }
 },
 "nbformat": 4,
 "nbformat_minor": 5
}
