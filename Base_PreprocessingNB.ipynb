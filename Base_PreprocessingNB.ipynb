{
 "cells": [
  {
   "cell_type": "code",
   "execution_count": 3,
   "id": "00b5d636",
   "metadata": {},
   "outputs": [],
   "source": [
    "import os\n",
    "os.environ[\"PYARROW_IGNORE_TIMEZONE\"] = \"1\"\n",
    "os.environ['ARROW_PRE_0_15_IPC_FORMAT'] = '1'\n",
    "from pyspark.pandas import read_csv\n",
    "import pyspark.pandas as ps\n",
    "# use tqdm for lambdas so we can see progress"
   ]
  },
  {
   "cell_type": "code",
   "execution_count": 14,
   "id": "1238275b",
   "metadata": {},
   "outputs": [],
   "source": [
    "ps.set_option('compute.default_index_type', 'distributed')\n",
    "big_data = False\n",
    "path ='data/100k_a.csv' if  not big_data else 'data/full_a.csv'\n",
    "df = read_csv(path, names=['userId','streamId','streamerName','timeStart','timeStop'])"
   ]
  },
  {
   "cell_type": "code",
   "execution_count": 5,
   "id": "26ef69db",
   "metadata": {},
   "outputs": [
    {
     "data": {
      "text/html": [
       "<div>\n",
       "<style scoped>\n",
       "    .dataframe tbody tr th:only-of-type {\n",
       "        vertical-align: middle;\n",
       "    }\n",
       "\n",
       "    .dataframe tbody tr th {\n",
       "        vertical-align: top;\n",
       "    }\n",
       "\n",
       "    .dataframe thead th {\n",
       "        text-align: right;\n",
       "    }\n",
       "</style>\n",
       "<table border=\"1\" class=\"dataframe\">\n",
       "  <thead>\n",
       "    <tr style=\"text-align: right;\">\n",
       "      <th></th>\n",
       "      <th>userId</th>\n",
       "      <th>streamId</th>\n",
       "      <th>streamerName</th>\n",
       "      <th>timeStart</th>\n",
       "      <th>timeStop</th>\n",
       "    </tr>\n",
       "  </thead>\n",
       "  <tbody>\n",
       "    <tr>\n",
       "      <th>0</th>\n",
       "      <td>1</td>\n",
       "      <td>33827518864</td>\n",
       "      <td>lirik</td>\n",
       "      <td>25</td>\n",
       "      <td>26</td>\n",
       "    </tr>\n",
       "    <tr>\n",
       "      <th>1</th>\n",
       "      <td>1</td>\n",
       "      <td>33870289680</td>\n",
       "      <td>giantwaffle</td>\n",
       "      <td>457</td>\n",
       "      <td>460</td>\n",
       "    </tr>\n",
       "    <tr>\n",
       "      <th>2</th>\n",
       "      <td>1</td>\n",
       "      <td>33876317008</td>\n",
       "      <td>blacklisted86</td>\n",
       "      <td>471</td>\n",
       "      <td>472</td>\n",
       "    </tr>\n",
       "    <tr>\n",
       "      <th>3</th>\n",
       "      <td>1</td>\n",
       "      <td>33882713200</td>\n",
       "      <td>cohhcarnage</td>\n",
       "      <td>544</td>\n",
       "      <td>550</td>\n",
       "    </tr>\n",
       "    <tr>\n",
       "      <th>4</th>\n",
       "      <td>1</td>\n",
       "      <td>33885628720</td>\n",
       "      <td>lirik</td>\n",
       "      <td>586</td>\n",
       "      <td>588</td>\n",
       "    </tr>\n",
       "  </tbody>\n",
       "</table>\n",
       "</div>"
      ],
      "text/plain": [
       "   userId     streamId   streamerName  timeStart  timeStop\n",
       "0       1  33827518864          lirik         25        26\n",
       "1       1  33870289680    giantwaffle        457       460\n",
       "2       1  33876317008  blacklisted86        471       472\n",
       "3       1  33882713200    cohhcarnage        544       550\n",
       "4       1  33885628720          lirik        586       588"
      ]
     },
     "execution_count": 5,
     "metadata": {},
     "output_type": "execute_result"
    }
   ],
   "source": [
    "df.head()"
   ]
  },
  {
   "cell_type": "code",
   "execution_count": 4,
   "id": "c1ed5323",
   "metadata": {
    "scrolled": true
   },
   "outputs": [],
   "source": [
    "df['interactionTime']=(df['timeStop'] - df['timeStart'])*10 # units are 10 min"
   ]
  },
  {
   "cell_type": "code",
   "execution_count": 5,
   "id": "de9a3f8c",
   "metadata": {},
   "outputs": [
    {
     "data": {
      "text/html": [
       "<div>\n",
       "<style scoped>\n",
       "    .dataframe tbody tr th:only-of-type {\n",
       "        vertical-align: middle;\n",
       "    }\n",
       "\n",
       "    .dataframe tbody tr th {\n",
       "        vertical-align: top;\n",
       "    }\n",
       "\n",
       "    .dataframe thead th {\n",
       "        text-align: right;\n",
       "    }\n",
       "</style>\n",
       "<table border=\"1\" class=\"dataframe\">\n",
       "  <thead>\n",
       "    <tr style=\"text-align: right;\">\n",
       "      <th></th>\n",
       "      <th>userId</th>\n",
       "      <th>streamId</th>\n",
       "      <th>streamerName</th>\n",
       "      <th>timeStart</th>\n",
       "      <th>timeStop</th>\n",
       "      <th>interactionTime</th>\n",
       "    </tr>\n",
       "  </thead>\n",
       "  <tbody>\n",
       "    <tr>\n",
       "      <th>0</th>\n",
       "      <td>1</td>\n",
       "      <td>33827518864</td>\n",
       "      <td>lirik</td>\n",
       "      <td>25</td>\n",
       "      <td>26</td>\n",
       "      <td>10</td>\n",
       "    </tr>\n",
       "    <tr>\n",
       "      <th>1</th>\n",
       "      <td>1</td>\n",
       "      <td>33870289680</td>\n",
       "      <td>giantwaffle</td>\n",
       "      <td>457</td>\n",
       "      <td>460</td>\n",
       "      <td>30</td>\n",
       "    </tr>\n",
       "    <tr>\n",
       "      <th>2</th>\n",
       "      <td>1</td>\n",
       "      <td>33876317008</td>\n",
       "      <td>blacklisted86</td>\n",
       "      <td>471</td>\n",
       "      <td>472</td>\n",
       "      <td>10</td>\n",
       "    </tr>\n",
       "    <tr>\n",
       "      <th>3</th>\n",
       "      <td>1</td>\n",
       "      <td>33882713200</td>\n",
       "      <td>cohhcarnage</td>\n",
       "      <td>544</td>\n",
       "      <td>550</td>\n",
       "      <td>60</td>\n",
       "    </tr>\n",
       "    <tr>\n",
       "      <th>4</th>\n",
       "      <td>1</td>\n",
       "      <td>33885628720</td>\n",
       "      <td>lirik</td>\n",
       "      <td>586</td>\n",
       "      <td>588</td>\n",
       "      <td>20</td>\n",
       "    </tr>\n",
       "  </tbody>\n",
       "</table>\n",
       "</div>"
      ],
      "text/plain": [
       "   userId     streamId   streamerName  timeStart  timeStop  interactionTime\n",
       "0       1  33827518864          lirik         25        26               10\n",
       "1       1  33870289680    giantwaffle        457       460               30\n",
       "2       1  33876317008  blacklisted86        471       472               10\n",
       "3       1  33882713200    cohhcarnage        544       550               60\n",
       "4       1  33885628720          lirik        586       588               20"
      ]
     },
     "execution_count": 5,
     "metadata": {},
     "output_type": "execute_result"
    }
   ],
   "source": [
    "df.head()"
   ]
  },
  {
   "cell_type": "code",
   "execution_count": 6,
   "id": "7b5be022",
   "metadata": {},
   "outputs": [],
   "source": [
    "df= df.drop(columns=['timeStart','timeStop'])"
   ]
  },
  {
   "cell_type": "code",
   "execution_count": 7,
   "id": "5d66623d",
   "metadata": {},
   "outputs": [],
   "source": [
    "tmax=df['interactionTime'].max()"
   ]
  },
  {
   "cell_type": "code",
   "execution_count": 8,
   "id": "2dfe0889",
   "metadata": {},
   "outputs": [],
   "source": [
    "tmin=df['interactionTime'].min()"
   ]
  },
  {
   "cell_type": "code",
   "execution_count": 9,
   "id": "de1461b9",
   "metadata": {},
   "outputs": [],
   "source": [
    "df['interactionTime']= (df['interactionTime']- tmin)/(tmax-tmin)"
   ]
  },
  {
   "cell_type": "code",
   "execution_count": 10,
   "id": "5c41e1ef",
   "metadata": {},
   "outputs": [
    {
     "data": {
      "text/html": [
       "<div>\n",
       "<style scoped>\n",
       "    .dataframe tbody tr th:only-of-type {\n",
       "        vertical-align: middle;\n",
       "    }\n",
       "\n",
       "    .dataframe tbody tr th {\n",
       "        vertical-align: top;\n",
       "    }\n",
       "\n",
       "    .dataframe thead th {\n",
       "        text-align: right;\n",
       "    }\n",
       "</style>\n",
       "<table border=\"1\" class=\"dataframe\">\n",
       "  <thead>\n",
       "    <tr style=\"text-align: right;\">\n",
       "      <th></th>\n",
       "      <th>userId</th>\n",
       "      <th>streamId</th>\n",
       "      <th>streamerName</th>\n",
       "      <th>interactionTime</th>\n",
       "    </tr>\n",
       "  </thead>\n",
       "  <tbody>\n",
       "    <tr>\n",
       "      <th>0</th>\n",
       "      <td>1</td>\n",
       "      <td>33827518864</td>\n",
       "      <td>lirik</td>\n",
       "      <td>0.000000</td>\n",
       "    </tr>\n",
       "    <tr>\n",
       "      <th>1</th>\n",
       "      <td>1</td>\n",
       "      <td>33870289680</td>\n",
       "      <td>giantwaffle</td>\n",
       "      <td>0.011050</td>\n",
       "    </tr>\n",
       "    <tr>\n",
       "      <th>2</th>\n",
       "      <td>1</td>\n",
       "      <td>33876317008</td>\n",
       "      <td>blacklisted86</td>\n",
       "      <td>0.000000</td>\n",
       "    </tr>\n",
       "    <tr>\n",
       "      <th>3</th>\n",
       "      <td>1</td>\n",
       "      <td>33882713200</td>\n",
       "      <td>cohhcarnage</td>\n",
       "      <td>0.027624</td>\n",
       "    </tr>\n",
       "    <tr>\n",
       "      <th>4</th>\n",
       "      <td>1</td>\n",
       "      <td>33885628720</td>\n",
       "      <td>lirik</td>\n",
       "      <td>0.005525</td>\n",
       "    </tr>\n",
       "  </tbody>\n",
       "</table>\n",
       "</div>"
      ],
      "text/plain": [
       "   userId     streamId   streamerName  interactionTime\n",
       "0       1  33827518864          lirik         0.000000\n",
       "1       1  33870289680    giantwaffle         0.011050\n",
       "2       1  33876317008  blacklisted86         0.000000\n",
       "3       1  33882713200    cohhcarnage         0.027624\n",
       "4       1  33885628720          lirik         0.005525"
      ]
     },
     "execution_count": 10,
     "metadata": {},
     "output_type": "execute_result"
    }
   ],
   "source": [
    "df.head()"
   ]
  },
  {
   "cell_type": "code",
   "execution_count": 11,
   "id": "67a92c1e",
   "metadata": {},
   "outputs": [],
   "source": [
    "# goal is to scale to 1-100 for implict rating/confidence\n",
    "# MAYBE INVESTIGATE DIFFERENT SCALING IN FUTURE\n",
    "df['interactionTime'] = (df['interactionTime'] * 99) +1"
   ]
  },
  {
   "cell_type": "code",
   "execution_count": 12,
   "id": "523eea6f",
   "metadata": {},
   "outputs": [
    {
     "data": {
      "text/html": [
       "<div>\n",
       "<style scoped>\n",
       "    .dataframe tbody tr th:only-of-type {\n",
       "        vertical-align: middle;\n",
       "    }\n",
       "\n",
       "    .dataframe tbody tr th {\n",
       "        vertical-align: top;\n",
       "    }\n",
       "\n",
       "    .dataframe thead th {\n",
       "        text-align: right;\n",
       "    }\n",
       "</style>\n",
       "<table border=\"1\" class=\"dataframe\">\n",
       "  <thead>\n",
       "    <tr style=\"text-align: right;\">\n",
       "      <th></th>\n",
       "      <th>userId</th>\n",
       "      <th>streamId</th>\n",
       "      <th>streamerName</th>\n",
       "      <th>interactionTime</th>\n",
       "    </tr>\n",
       "  </thead>\n",
       "  <tbody>\n",
       "    <tr>\n",
       "      <th>0</th>\n",
       "      <td>1</td>\n",
       "      <td>33827518864</td>\n",
       "      <td>lirik</td>\n",
       "      <td>1.000000</td>\n",
       "    </tr>\n",
       "    <tr>\n",
       "      <th>1</th>\n",
       "      <td>1</td>\n",
       "      <td>33870289680</td>\n",
       "      <td>giantwaffle</td>\n",
       "      <td>2.093923</td>\n",
       "    </tr>\n",
       "    <tr>\n",
       "      <th>2</th>\n",
       "      <td>1</td>\n",
       "      <td>33876317008</td>\n",
       "      <td>blacklisted86</td>\n",
       "      <td>1.000000</td>\n",
       "    </tr>\n",
       "    <tr>\n",
       "      <th>3</th>\n",
       "      <td>1</td>\n",
       "      <td>33882713200</td>\n",
       "      <td>cohhcarnage</td>\n",
       "      <td>3.734807</td>\n",
       "    </tr>\n",
       "    <tr>\n",
       "      <th>4</th>\n",
       "      <td>1</td>\n",
       "      <td>33885628720</td>\n",
       "      <td>lirik</td>\n",
       "      <td>1.546961</td>\n",
       "    </tr>\n",
       "  </tbody>\n",
       "</table>\n",
       "</div>"
      ],
      "text/plain": [
       "   userId     streamId   streamerName  interactionTime\n",
       "0       1  33827518864          lirik         1.000000\n",
       "1       1  33870289680    giantwaffle         2.093923\n",
       "2       1  33876317008  blacklisted86         1.000000\n",
       "3       1  33882713200    cohhcarnage         3.734807\n",
       "4       1  33885628720          lirik         1.546961"
      ]
     },
     "execution_count": 12,
     "metadata": {},
     "output_type": "execute_result"
    }
   ],
   "source": [
    "df.head()"
   ]
  },
  {
   "cell_type": "code",
   "execution_count": 13,
   "id": "07b4a0ab",
   "metadata": {},
   "outputs": [],
   "source": [
    "import sys\n",
    "df['streamerId']=df['streamerName'].apply(lambda x: hash(x) & sys.maxsize) # prevent negative numbers"
   ]
  },
  {
   "cell_type": "code",
   "execution_count": 14,
   "id": "c63d0922",
   "metadata": {},
   "outputs": [
    {
     "data": {
      "text/html": [
       "<div>\n",
       "<style scoped>\n",
       "    .dataframe tbody tr th:only-of-type {\n",
       "        vertical-align: middle;\n",
       "    }\n",
       "\n",
       "    .dataframe tbody tr th {\n",
       "        vertical-align: top;\n",
       "    }\n",
       "\n",
       "    .dataframe thead th {\n",
       "        text-align: right;\n",
       "    }\n",
       "</style>\n",
       "<table border=\"1\" class=\"dataframe\">\n",
       "  <thead>\n",
       "    <tr style=\"text-align: right;\">\n",
       "      <th></th>\n",
       "      <th>userId</th>\n",
       "      <th>streamId</th>\n",
       "      <th>streamerName</th>\n",
       "      <th>interactionTime</th>\n",
       "      <th>streamerId</th>\n",
       "    </tr>\n",
       "  </thead>\n",
       "  <tbody>\n",
       "    <tr>\n",
       "      <th>0</th>\n",
       "      <td>1</td>\n",
       "      <td>33827518864</td>\n",
       "      <td>lirik</td>\n",
       "      <td>1.000000</td>\n",
       "      <td>5572103535684908044</td>\n",
       "    </tr>\n",
       "    <tr>\n",
       "      <th>1</th>\n",
       "      <td>1</td>\n",
       "      <td>33870289680</td>\n",
       "      <td>giantwaffle</td>\n",
       "      <td>2.093923</td>\n",
       "      <td>5677988202902416945</td>\n",
       "    </tr>\n",
       "    <tr>\n",
       "      <th>2</th>\n",
       "      <td>1</td>\n",
       "      <td>33876317008</td>\n",
       "      <td>blacklisted86</td>\n",
       "      <td>1.000000</td>\n",
       "      <td>4648292131931301687</td>\n",
       "    </tr>\n",
       "    <tr>\n",
       "      <th>3</th>\n",
       "      <td>1</td>\n",
       "      <td>33882713200</td>\n",
       "      <td>cohhcarnage</td>\n",
       "      <td>3.734807</td>\n",
       "      <td>1581951335071538364</td>\n",
       "    </tr>\n",
       "    <tr>\n",
       "      <th>4</th>\n",
       "      <td>1</td>\n",
       "      <td>33885628720</td>\n",
       "      <td>lirik</td>\n",
       "      <td>1.546961</td>\n",
       "      <td>5572103535684908044</td>\n",
       "    </tr>\n",
       "  </tbody>\n",
       "</table>\n",
       "</div>"
      ],
      "text/plain": [
       "   userId     streamId   streamerName  interactionTime           streamerId\n",
       "0       1  33827518864          lirik         1.000000  5572103535684908044\n",
       "1       1  33870289680    giantwaffle         2.093923  5677988202902416945\n",
       "2       1  33876317008  blacklisted86         1.000000  4648292131931301687\n",
       "3       1  33882713200    cohhcarnage         3.734807  1581951335071538364\n",
       "4       1  33885628720          lirik         1.546961  5572103535684908044"
      ]
     },
     "execution_count": 14,
     "metadata": {},
     "output_type": "execute_result"
    }
   ],
   "source": [
    "df.head()"
   ]
  },
  {
   "cell_type": "code",
   "execution_count": 15,
   "id": "8a2677f2",
   "metadata": {},
   "outputs": [
    {
     "data": {
      "text/plain": [
       "True"
      ]
     },
     "execution_count": 15,
     "metadata": {},
     "output_type": "execute_result"
    }
   ],
   "source": [
    "len(df['streamerId'].unique()) == len(df['streamerName'].unique())"
   ]
  },
  {
   "cell_type": "code",
   "execution_count": 16,
   "id": "0490d131",
   "metadata": {},
   "outputs": [],
   "source": [
    "df = df.drop(columns=['streamerName'])"
   ]
  },
  {
   "cell_type": "code",
   "execution_count": 17,
   "id": "0ab2036d",
   "metadata": {},
   "outputs": [
    {
     "data": {
      "text/html": [
       "<div>\n",
       "<style scoped>\n",
       "    .dataframe tbody tr th:only-of-type {\n",
       "        vertical-align: middle;\n",
       "    }\n",
       "\n",
       "    .dataframe tbody tr th {\n",
       "        vertical-align: top;\n",
       "    }\n",
       "\n",
       "    .dataframe thead th {\n",
       "        text-align: right;\n",
       "    }\n",
       "</style>\n",
       "<table border=\"1\" class=\"dataframe\">\n",
       "  <thead>\n",
       "    <tr style=\"text-align: right;\">\n",
       "      <th></th>\n",
       "      <th>userId</th>\n",
       "      <th>streamId</th>\n",
       "      <th>interactionTime</th>\n",
       "      <th>streamerId</th>\n",
       "    </tr>\n",
       "  </thead>\n",
       "  <tbody>\n",
       "    <tr>\n",
       "      <th>0</th>\n",
       "      <td>1</td>\n",
       "      <td>33827518864</td>\n",
       "      <td>1.000000</td>\n",
       "      <td>5572103535684908044</td>\n",
       "    </tr>\n",
       "    <tr>\n",
       "      <th>1</th>\n",
       "      <td>1</td>\n",
       "      <td>33870289680</td>\n",
       "      <td>2.093923</td>\n",
       "      <td>5677988202902416945</td>\n",
       "    </tr>\n",
       "    <tr>\n",
       "      <th>2</th>\n",
       "      <td>1</td>\n",
       "      <td>33876317008</td>\n",
       "      <td>1.000000</td>\n",
       "      <td>4648292131931301687</td>\n",
       "    </tr>\n",
       "    <tr>\n",
       "      <th>3</th>\n",
       "      <td>1</td>\n",
       "      <td>33882713200</td>\n",
       "      <td>3.734807</td>\n",
       "      <td>1581951335071538364</td>\n",
       "    </tr>\n",
       "    <tr>\n",
       "      <th>4</th>\n",
       "      <td>1</td>\n",
       "      <td>33885628720</td>\n",
       "      <td>1.546961</td>\n",
       "      <td>5572103535684908044</td>\n",
       "    </tr>\n",
       "  </tbody>\n",
       "</table>\n",
       "</div>"
      ],
      "text/plain": [
       "   userId     streamId  interactionTime           streamerId\n",
       "0       1  33827518864         1.000000  5572103535684908044\n",
       "1       1  33870289680         2.093923  5677988202902416945\n",
       "2       1  33876317008         1.000000  4648292131931301687\n",
       "3       1  33882713200         3.734807  1581951335071538364\n",
       "4       1  33885628720         1.546961  5572103535684908044"
      ]
     },
     "execution_count": 17,
     "metadata": {},
     "output_type": "execute_result"
    }
   ],
   "source": [
    "df.head()"
   ]
  },
  {
   "cell_type": "code",
   "execution_count": 9,
   "id": "f7572faf",
   "metadata": {},
   "outputs": [],
   "source": [
    "# better for smaller in memory data\n",
    "#df.to_pandas().to_csv('data/test.csv')"
   ]
  },
  {
   "cell_type": "code",
   "execution_count": 8,
   "id": "89d3e8eb",
   "metadata": {},
   "outputs": [],
   "source": [
    "# used to ensure no oom error with pandas\n",
    "df.to_spark().coalesce(1).write.format('csv').option('header', 'true').save('data/output')"
   ]
  },
  {
   "cell_type": "code",
   "execution_count": 11,
   "id": "8d7f7de2",
   "metadata": {},
   "outputs": [],
   "source": [
    "df2= ps.read_csv('data/mytest/part-00000-920b9e00-7728-40f1-9733-1865cb319370-c000.csv')"
   ]
  },
  {
   "cell_type": "code",
   "execution_count": null,
   "id": "eb14a499",
   "metadata": {},
   "outputs": [],
   "source": []
  }
 ],
 "metadata": {
  "kernelspec": {
   "display_name": "Python 3 (ipykernel)",
   "language": "python",
   "name": "python3"
  },
  "language_info": {
   "codemirror_mode": {
    "name": "ipython",
    "version": 3
   },
   "file_extension": ".py",
   "mimetype": "text/x-python",
   "name": "python",
   "nbconvert_exporter": "python",
   "pygments_lexer": "ipython3",
   "version": "3.7.11"
  }
 },
 "nbformat": 4,
 "nbformat_minor": 5
}
