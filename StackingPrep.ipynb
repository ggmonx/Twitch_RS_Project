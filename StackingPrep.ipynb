{
 "cells": [
  {
   "cell_type": "code",
   "execution_count": 3,
   "id": "1ca78f48",
   "metadata": {},
   "outputs": [],
   "source": [
    "from pyspark.ml.recommendation import ALS, ALSModel\n",
    "from pyspark.ml.clustering import KMeansModel\n",
    "import os\n",
    "os.environ[\"PYARROW_IGNORE_TIMEZONE\"] = \"1\"\n",
    "from pyspark.pandas import read_csv\n",
    "import pyspark.pandas as ps\n",
    "ps.set_option('compute.default_index_type', 'distributed')"
   ]
  },
  {
   "cell_type": "code",
   "execution_count": 9,
   "id": "78adcc61",
   "metadata": {},
   "outputs": [],
   "source": [
    "ALS_model = ALSModel.load(\"models/als_explicit_collab\")"
   ]
  },
  {
   "cell_type": "code",
   "execution_count": 10,
   "id": "3de8def7",
   "metadata": {},
   "outputs": [],
   "source": [
    "kmeans = KMeansModel.load('models/kmeans')"
   ]
  },
  {
   "cell_type": "code",
   "execution_count": null,
   "id": "1f7e78b8",
   "metadata": {},
   "outputs": [],
   "source": []
  }
 ],
 "metadata": {
  "kernelspec": {
   "display_name": "Python 3 (ipykernel)",
   "language": "python",
   "name": "python3"
  },
  "language_info": {
   "codemirror_mode": {
    "name": "ipython",
    "version": 3
   },
   "file_extension": ".py",
   "mimetype": "text/x-python",
   "name": "python",
   "nbconvert_exporter": "python",
   "pygments_lexer": "ipython3",
   "version": "3.7.11"
  }
 },
 "nbformat": 4,
 "nbformat_minor": 5
}
