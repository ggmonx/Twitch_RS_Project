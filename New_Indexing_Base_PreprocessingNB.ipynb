{
  "nbformat": 4,
  "nbformat_minor": 5,
  "metadata": {
    "kernelspec": {
      "display_name": "Python 3",
      "language": "python",
      "name": "python3"
    },
    "language_info": {
      "codemirror_mode": {
        "name": "ipython",
        "version": 3
      },
      "file_extension": ".py",
      "mimetype": "text/x-python",
      "name": "python",
      "nbconvert_exporter": "python",
      "pygments_lexer": "ipython3",
      "version": "3.8.3"
    },
    "colab": {
      "name": "New_Indexing_Base_PreprocessingNB.ipynb",
      "provenance": [],
      "collapsed_sections": []
    }
  },
  "cells": [
    {
      "cell_type": "code",
      "metadata": {
        "colab": {
          "base_uri": "https://localhost:8080/"
        },
        "id": "jBQKkyX1HOap",
        "outputId": "a6283e49-ed50-40a1-9737-b66f6da2762f"
      },
      "source": [
        "!pip install pyarrow\n",
        "!pip install pyspark\n",
        "!pip install pandas"
      ],
      "id": "jBQKkyX1HOap",
      "execution_count": 1,
      "outputs": [
        {
          "output_type": "stream",
          "name": "stdout",
          "text": [
            "Requirement already satisfied: pyarrow in /usr/local/lib/python3.7/dist-packages (3.0.0)\n",
            "Requirement already satisfied: numpy>=1.16.6 in /usr/local/lib/python3.7/dist-packages (from pyarrow) (1.19.5)\n",
            "Collecting pyspark\n",
            "  Downloading pyspark-3.2.0.tar.gz (281.3 MB)\n",
            "\u001b[K     |████████████████████████████████| 281.3 MB 25 kB/s \n",
            "\u001b[?25hCollecting py4j==0.10.9.2\n",
            "  Downloading py4j-0.10.9.2-py2.py3-none-any.whl (198 kB)\n",
            "\u001b[K     |████████████████████████████████| 198 kB 45.7 MB/s \n",
            "\u001b[?25hBuilding wheels for collected packages: pyspark\n",
            "  Building wheel for pyspark (setup.py) ... \u001b[?25l\u001b[?25hdone\n",
            "  Created wheel for pyspark: filename=pyspark-3.2.0-py2.py3-none-any.whl size=281805912 sha256=bab9778fece046fd20d7a604c48b00bf49c03b32af87604c00383cc70c43e841\n",
            "  Stored in directory: /root/.cache/pip/wheels/0b/de/d2/9be5d59d7331c6c2a7c1b6d1a4f463ce107332b1ecd4e80718\n",
            "Successfully built pyspark\n",
            "Installing collected packages: py4j, pyspark\n",
            "Successfully installed py4j-0.10.9.2 pyspark-3.2.0\n",
            "Requirement already satisfied: pandas in /usr/local/lib/python3.7/dist-packages (1.1.5)\n",
            "Requirement already satisfied: pytz>=2017.2 in /usr/local/lib/python3.7/dist-packages (from pandas) (2018.9)\n",
            "Requirement already satisfied: numpy>=1.15.4 in /usr/local/lib/python3.7/dist-packages (from pandas) (1.19.5)\n",
            "Requirement already satisfied: python-dateutil>=2.7.3 in /usr/local/lib/python3.7/dist-packages (from pandas) (2.8.2)\n",
            "Requirement already satisfied: six>=1.5 in /usr/local/lib/python3.7/dist-packages (from python-dateutil>=2.7.3->pandas) (1.15.0)\n"
          ]
        }
      ]
    },
    {
      "cell_type": "code",
      "metadata": {
        "id": "021YbMyCHM6O"
      },
      "source": [
        "import os\n",
        "os.environ[\"PYARROW_IGNORE_TIMEZONE\"] = \"1\"\n",
        "#os.environ['ARROW_PRE_0_15_IPC_FORMAT'] = '1'\n",
        "\n",
        "from pyspark.pandas import read_csv\n",
        "import pyspark.pandas as ps\n",
        "import pandas as pd\n",
        "# means is for items, df is for collab"
      ],
      "id": "021YbMyCHM6O",
      "execution_count": 2,
      "outputs": []
    },
    {
      "cell_type": "code",
      "metadata": {
        "id": "1KsvX17BHM6Q"
      },
      "source": [
        "ps.set_option('compute.default_index_type', 'distributed')\n",
        "big_data = False\n",
        "path ='100k_a.csv' if  not big_data else 'full_a.csv'\n",
        "df = read_csv(path, names=['userId','streamId','streamerName','timeStart','timeStop'])"
      ],
      "id": "1KsvX17BHM6Q",
      "execution_count": 3,
      "outputs": []
    },
    {
      "cell_type": "code",
      "metadata": {
        "id": "JI0bj_OYHM6R"
      },
      "source": [
        "df.head()"
      ],
      "id": "JI0bj_OYHM6R",
      "execution_count": null,
      "outputs": []
    },
    {
      "cell_type": "code",
      "metadata": {
        "scrolled": true,
        "id": "4DrAXofFHM6R"
      },
      "source": [
        "df['interactionTime']=(df['timeStop'] - df['timeStart'])*10 # units are 10 min"
      ],
      "id": "4DrAXofFHM6R",
      "execution_count": 4,
      "outputs": []
    },
    {
      "cell_type": "code",
      "metadata": {
        "id": "MT9PEHikHM6R"
      },
      "source": [
        "df.head()"
      ],
      "id": "MT9PEHikHM6R",
      "execution_count": null,
      "outputs": []
    },
    {
      "cell_type": "code",
      "metadata": {
        "id": "GskvZIZIHM6R"
      },
      "source": [
        "df= df.drop(columns=['timeStart','timeStop'])"
      ],
      "id": "GskvZIZIHM6R",
      "execution_count": 5,
      "outputs": []
    },
    {
      "cell_type": "code",
      "metadata": {
        "id": "k46w7c5DHM6S"
      },
      "source": [
        "tmax=df['interactionTime'].max()"
      ],
      "id": "k46w7c5DHM6S",
      "execution_count": 6,
      "outputs": []
    },
    {
      "cell_type": "code",
      "metadata": {
        "id": "GNppqn0QHM6S"
      },
      "source": [
        "tmin=df['interactionTime'].min()"
      ],
      "id": "GNppqn0QHM6S",
      "execution_count": 7,
      "outputs": []
    },
    {
      "cell_type": "code",
      "metadata": {
        "id": "pd3_2X6yHM6S"
      },
      "source": [
        "df['interactionTime']= (df['interactionTime']- tmin)/(tmax-tmin)"
      ],
      "id": "pd3_2X6yHM6S",
      "execution_count": 8,
      "outputs": []
    },
    {
      "cell_type": "code",
      "metadata": {
        "id": "AlTL65iTHM6T",
        "colab": {
          "base_uri": "https://localhost:8080/",
          "height": 205
        },
        "outputId": "ee6eab9c-c92f-4e91-9241-128a3dc117b1"
      },
      "source": [
        "df.head()"
      ],
      "id": "AlTL65iTHM6T",
      "execution_count": 9,
      "outputs": [
        {
          "output_type": "execute_result",
          "data": {
            "text/html": [
              "<div>\n",
              "<style scoped>\n",
              "    .dataframe tbody tr th:only-of-type {\n",
              "        vertical-align: middle;\n",
              "    }\n",
              "\n",
              "    .dataframe tbody tr th {\n",
              "        vertical-align: top;\n",
              "    }\n",
              "\n",
              "    .dataframe thead th {\n",
              "        text-align: right;\n",
              "    }\n",
              "</style>\n",
              "<table border=\"1\" class=\"dataframe\">\n",
              "  <thead>\n",
              "    <tr style=\"text-align: right;\">\n",
              "      <th></th>\n",
              "      <th>userId</th>\n",
              "      <th>streamId</th>\n",
              "      <th>streamerName</th>\n",
              "      <th>interactionTime</th>\n",
              "    </tr>\n",
              "  </thead>\n",
              "  <tbody>\n",
              "    <tr>\n",
              "      <th>0</th>\n",
              "      <td>1</td>\n",
              "      <td>33842865744</td>\n",
              "      <td>mithrain</td>\n",
              "      <td>0.012195</td>\n",
              "    </tr>\n",
              "    <tr>\n",
              "      <th>1</th>\n",
              "      <td>1</td>\n",
              "      <td>33846768288</td>\n",
              "      <td>alptv</td>\n",
              "      <td>0.024390</td>\n",
              "    </tr>\n",
              "    <tr>\n",
              "      <th>2</th>\n",
              "      <td>1</td>\n",
              "      <td>33886469056</td>\n",
              "      <td>mithrain</td>\n",
              "      <td>0.000000</td>\n",
              "    </tr>\n",
              "    <tr>\n",
              "      <th>3</th>\n",
              "      <td>1</td>\n",
              "      <td>33887624992</td>\n",
              "      <td>wtcn</td>\n",
              "      <td>0.012195</td>\n",
              "    </tr>\n",
              "    <tr>\n",
              "      <th>4</th>\n",
              "      <td>1</td>\n",
              "      <td>33890145056</td>\n",
              "      <td>jrokezftw</td>\n",
              "      <td>0.024390</td>\n",
              "    </tr>\n",
              "  </tbody>\n",
              "</table>\n",
              "</div>"
            ],
            "text/plain": [
              "   userId     streamId streamerName  interactionTime\n",
              "0       1  33842865744     mithrain         0.012195\n",
              "1       1  33846768288        alptv         0.024390\n",
              "2       1  33886469056     mithrain         0.000000\n",
              "3       1  33887624992         wtcn         0.012195\n",
              "4       1  33890145056    jrokezftw         0.024390"
            ]
          },
          "metadata": {},
          "execution_count": 9
        }
      ]
    },
    {
      "cell_type": "code",
      "metadata": {
        "id": "BV4srhwKHM6T"
      },
      "source": [
        "# goal is to scale to 1-100 for implict rating/confidence\n",
        "# MAYBE INVESTIGATE DIFFERENT SCALING IN FUTURE\n",
        "df['interactionTime'] = (df['interactionTime'] * 99) +1"
      ],
      "id": "BV4srhwKHM6T",
      "execution_count": 10,
      "outputs": []
    },
    {
      "cell_type": "code",
      "metadata": {
        "id": "jPRWqPkGHM6T"
      },
      "source": [
        "df.head()"
      ],
      "id": "jPRWqPkGHM6T",
      "execution_count": null,
      "outputs": []
    },
    {
      "cell_type": "code",
      "metadata": {
        "id": "XorAdqYj1gA4"
      },
      "source": [
        "# Create dictionary for streamer names\n",
        "streamer_dict = {k: v for v, k in enumerate(df['streamerName'].to_numpy())}\n",
        "streamer_dict"
      ],
      "id": "XorAdqYj1gA4",
      "execution_count": null,
      "outputs": []
    },
    {
      "cell_type": "code",
      "metadata": {
        "id": "y3cKI-ui1ECQ"
      },
      "source": [
        "# Mapping function for streamer name to their respective ID\n",
        "def tuple_to_value(x):\n",
        "  return streamer_dict.get(x)"
      ],
      "id": "y3cKI-ui1ECQ",
      "execution_count": 19,
      "outputs": []
    },
    {
      "cell_type": "code",
      "metadata": {
        "id": "RqfnbuBVHM6T"
      },
      "source": [
        "# Create streamerID column based on dictionary mapping\n",
        "df['streamerId']=df['streamerName'].apply(lambda x: tuple_to_value(x)) # map streamerId"
      ],
      "id": "RqfnbuBVHM6T",
      "execution_count": 20,
      "outputs": []
    },
    {
      "cell_type": "code",
      "metadata": {
        "colab": {
          "base_uri": "https://localhost:8080/",
          "height": 205
        },
        "id": "wCWCemouHM6U",
        "outputId": "bdda4a37-9fb0-4732-fa0f-b4880c7fae66"
      },
      "source": [
        "df.head()"
      ],
      "id": "wCWCemouHM6U",
      "execution_count": 21,
      "outputs": [
        {
          "output_type": "execute_result",
          "data": {
            "text/html": [
              "<div>\n",
              "<style scoped>\n",
              "    .dataframe tbody tr th:only-of-type {\n",
              "        vertical-align: middle;\n",
              "    }\n",
              "\n",
              "    .dataframe tbody tr th {\n",
              "        vertical-align: top;\n",
              "    }\n",
              "\n",
              "    .dataframe thead th {\n",
              "        text-align: right;\n",
              "    }\n",
              "</style>\n",
              "<table border=\"1\" class=\"dataframe\">\n",
              "  <thead>\n",
              "    <tr style=\"text-align: right;\">\n",
              "      <th></th>\n",
              "      <th>userId</th>\n",
              "      <th>streamId</th>\n",
              "      <th>streamerName</th>\n",
              "      <th>interactionTime</th>\n",
              "      <th>streamerId</th>\n",
              "    </tr>\n",
              "  </thead>\n",
              "  <tbody>\n",
              "    <tr>\n",
              "      <th>0</th>\n",
              "      <td>1</td>\n",
              "      <td>33842865744</td>\n",
              "      <td>mithrain</td>\n",
              "      <td>2.207317</td>\n",
              "      <td>862716</td>\n",
              "    </tr>\n",
              "    <tr>\n",
              "      <th>1</th>\n",
              "      <td>1</td>\n",
              "      <td>33846768288</td>\n",
              "      <td>alptv</td>\n",
              "      <td>3.414634</td>\n",
              "      <td>854262</td>\n",
              "    </tr>\n",
              "    <tr>\n",
              "      <th>2</th>\n",
              "      <td>1</td>\n",
              "      <td>33886469056</td>\n",
              "      <td>mithrain</td>\n",
              "      <td>1.000000</td>\n",
              "      <td>862716</td>\n",
              "    </tr>\n",
              "    <tr>\n",
              "      <th>3</th>\n",
              "      <td>1</td>\n",
              "      <td>33887624992</td>\n",
              "      <td>wtcn</td>\n",
              "      <td>2.207317</td>\n",
              "      <td>862770</td>\n",
              "    </tr>\n",
              "    <tr>\n",
              "      <th>4</th>\n",
              "      <td>1</td>\n",
              "      <td>33890145056</td>\n",
              "      <td>jrokezftw</td>\n",
              "      <td>3.414634</td>\n",
              "      <td>862769</td>\n",
              "    </tr>\n",
              "  </tbody>\n",
              "</table>\n",
              "</div>"
            ],
            "text/plain": [
              "   userId     streamId streamerName  interactionTime  streamerId\n",
              "0       1  33842865744     mithrain         2.207317      862716\n",
              "1       1  33846768288        alptv         3.414634      854262\n",
              "2       1  33886469056     mithrain         1.000000      862716\n",
              "3       1  33887624992         wtcn         2.207317      862770\n",
              "4       1  33890145056    jrokezftw         3.414634      862769"
            ]
          },
          "metadata": {},
          "execution_count": 21
        }
      ]
    },
    {
      "cell_type": "code",
      "metadata": {
        "colab": {
          "base_uri": "https://localhost:8080/"
        },
        "id": "SB6KaNatHM6V",
        "outputId": "07ffda86-a13e-4801-c73a-dac36a36f60a"
      },
      "source": [
        "len(df['streamerId'].unique()) == len(df['streamerName'].unique())"
      ],
      "id": "SB6KaNatHM6V",
      "execution_count": 22,
      "outputs": [
        {
          "output_type": "execute_result",
          "data": {
            "text/plain": [
              "True"
            ]
          },
          "metadata": {},
          "execution_count": 22
        }
      ]
    },
    {
      "cell_type": "code",
      "metadata": {
        "id": "45UZttZVHM6V"
      },
      "source": [
        "df = df.drop(columns=['streamerName'])"
      ],
      "id": "45UZttZVHM6V",
      "execution_count": 23,
      "outputs": []
    },
    {
      "cell_type": "code",
      "metadata": {
        "id": "UzFU19nSmPmy"
      },
      "source": [
        "df_streamer = df.drop(columns=['streamId', 'streamerName'])"
      ],
      "id": "UzFU19nSmPmy",
      "execution_count": 25,
      "outputs": []
    },
    {
      "cell_type": "code",
      "metadata": {
        "id": "2l6RZb1Qmmj7"
      },
      "source": [
        "df_streamer.to_spark().coalesce(1).write.format('csv').option('header', 'true').save('data/collab')"
      ],
      "id": "2l6RZb1Qmmj7",
      "execution_count": 26,
      "outputs": []
    },
    {
      "cell_type": "code",
      "metadata": {
        "id": "PGPFW3XQHM6V"
      },
      "source": [
        "df.head()"
      ],
      "id": "PGPFW3XQHM6V",
      "execution_count": null,
      "outputs": []
    },
    {
      "cell_type": "code",
      "metadata": {
        "id": "xthp9yWUHM6W"
      },
      "source": [
        "means=df.groupby(['streamerId'],as_index=False)['interactionTime'].mean()\n",
        "means=means.rename(columns={'streamerId':'streamerId','interactionTime':'avgInteractionTime'})"
      ],
      "id": "xthp9yWUHM6W",
      "execution_count": null,
      "outputs": []
    },
    {
      "cell_type": "code",
      "metadata": {
        "colab": {
          "base_uri": "https://localhost:8080/",
          "height": 205
        },
        "id": "tdYuW4nrHM6W",
        "outputId": "42081043-40b5-40d9-fb08-696397429d0e"
      },
      "source": [
        "means.head()"
      ],
      "id": "tdYuW4nrHM6W",
      "execution_count": null,
      "outputs": [
        {
          "output_type": "execute_result",
          "data": {
            "text/html": [
              "<div>\n",
              "<style scoped>\n",
              "    .dataframe tbody tr th:only-of-type {\n",
              "        vertical-align: middle;\n",
              "    }\n",
              "\n",
              "    .dataframe tbody tr th {\n",
              "        vertical-align: top;\n",
              "    }\n",
              "\n",
              "    .dataframe thead th {\n",
              "        text-align: right;\n",
              "    }\n",
              "</style>\n",
              "<table border=\"1\" class=\"dataframe\">\n",
              "  <thead>\n",
              "    <tr style=\"text-align: right;\">\n",
              "      <th></th>\n",
              "      <th>streamerId</th>\n",
              "      <th>avgInteractionTime</th>\n",
              "    </tr>\n",
              "  </thead>\n",
              "  <tbody>\n",
              "    <tr>\n",
              "      <th>0</th>\n",
              "      <td>5652140647009628783</td>\n",
              "      <td>2.902439</td>\n",
              "    </tr>\n",
              "    <tr>\n",
              "      <th>1</th>\n",
              "      <td>392638289472592052</td>\n",
              "      <td>1.548780</td>\n",
              "    </tr>\n",
              "    <tr>\n",
              "      <th>2</th>\n",
              "      <td>6900454007790282002</td>\n",
              "      <td>3.278598</td>\n",
              "    </tr>\n",
              "    <tr>\n",
              "      <th>3</th>\n",
              "      <td>2406168726911974914</td>\n",
              "      <td>8.780488</td>\n",
              "    </tr>\n",
              "    <tr>\n",
              "      <th>4</th>\n",
              "      <td>2271347389753034915</td>\n",
              "      <td>4.085366</td>\n",
              "    </tr>\n",
              "  </tbody>\n",
              "</table>\n",
              "</div>"
            ],
            "text/plain": [
              "            streamerId  avgInteractionTime\n",
              "0  5652140647009628783            2.902439\n",
              "1   392638289472592052            1.548780\n",
              "2  6900454007790282002            3.278598\n",
              "3  2406168726911974914            8.780488\n",
              "4  2271347389753034915            4.085366"
            ]
          },
          "metadata": {},
          "execution_count": 18
        }
      ]
    },
    {
      "cell_type": "code",
      "metadata": {
        "colab": {
          "base_uri": "https://localhost:8080/"
        },
        "id": "3oauzD5eHM6W",
        "outputId": "2d62a2b0-c0d2-446a-f13f-5eabf95b05d5"
      },
      "source": [
        "numStreams = df.groupby(['streamerId'],as_index=False).size()\n",
        "numStreams.max()"
      ],
      "id": "3oauzD5eHM6W",
      "execution_count": null,
      "outputs": [
        {
          "output_type": "execute_result",
          "data": {
            "text/plain": [
              "8760"
            ]
          },
          "metadata": {},
          "execution_count": 19
        }
      ]
    },
    {
      "cell_type": "code",
      "metadata": {
        "id": "uw3dRQjCHM6W"
      },
      "source": [
        "means=means.join(numStreams,on='streamerId')"
      ],
      "id": "uw3dRQjCHM6W",
      "execution_count": null,
      "outputs": []
    },
    {
      "cell_type": "code",
      "metadata": {
        "colab": {
          "base_uri": "https://localhost:8080/",
          "height": 205
        },
        "id": "JE81rQytHM6X",
        "outputId": "713a067b-b973-4348-caca-eec459a05e72"
      },
      "source": [
        "means= means.rename(columns={'streamerId':'streamerId','avgInteractionTime':'avgInteractionTime', 0:'interactionCounts'})\n",
        "means.head()"
      ],
      "id": "JE81rQytHM6X",
      "execution_count": null,
      "outputs": [
        {
          "output_type": "execute_result",
          "data": {
            "text/html": [
              "<div>\n",
              "<style scoped>\n",
              "    .dataframe tbody tr th:only-of-type {\n",
              "        vertical-align: middle;\n",
              "    }\n",
              "\n",
              "    .dataframe tbody tr th {\n",
              "        vertical-align: top;\n",
              "    }\n",
              "\n",
              "    .dataframe thead th {\n",
              "        text-align: right;\n",
              "    }\n",
              "</style>\n",
              "<table border=\"1\" class=\"dataframe\">\n",
              "  <thead>\n",
              "    <tr style=\"text-align: right;\">\n",
              "      <th></th>\n",
              "      <th>streamerId</th>\n",
              "      <th>avgInteractionTime</th>\n",
              "      <th>interactionCounts</th>\n",
              "    </tr>\n",
              "  </thead>\n",
              "  <tbody>\n",
              "    <tr>\n",
              "      <th>0</th>\n",
              "      <td>5652140647009628783</td>\n",
              "      <td>2.902439</td>\n",
              "      <td>33</td>\n",
              "    </tr>\n",
              "    <tr>\n",
              "      <th>1</th>\n",
              "      <td>392638289472592052</td>\n",
              "      <td>1.548780</td>\n",
              "      <td>11</td>\n",
              "    </tr>\n",
              "    <tr>\n",
              "      <th>2</th>\n",
              "      <td>6900454007790282002</td>\n",
              "      <td>3.278598</td>\n",
              "      <td>284</td>\n",
              "    </tr>\n",
              "    <tr>\n",
              "      <th>3</th>\n",
              "      <td>2406168726911974914</td>\n",
              "      <td>8.780488</td>\n",
              "      <td>9</td>\n",
              "    </tr>\n",
              "    <tr>\n",
              "      <th>4</th>\n",
              "      <td>2271347389753034915</td>\n",
              "      <td>4.085366</td>\n",
              "      <td>27</td>\n",
              "    </tr>\n",
              "  </tbody>\n",
              "</table>\n",
              "</div>"
            ],
            "text/plain": [
              "            streamerId  avgInteractionTime  interactionCounts\n",
              "0  5652140647009628783            2.902439                 33\n",
              "1   392638289472592052            1.548780                 11\n",
              "2  6900454007790282002            3.278598                284\n",
              "3  2406168726911974914            8.780488                  9\n",
              "4  2271347389753034915            4.085366                 27"
            ]
          },
          "metadata": {},
          "execution_count": 21
        }
      ]
    },
    {
      "cell_type": "markdown",
      "metadata": {
        "id": "YTuGnZuPHM6X"
      },
      "source": [
        "### better for smaller in memory data\n",
        "### df.to_pandas().to_csv('data/test.csv')"
      ],
      "id": "YTuGnZuPHM6X"
    },
    {
      "cell_type": "code",
      "metadata": {
        "id": "wK9g_S12HM6Y"
      },
      "source": [
        "# used to ensure no oom error with pandas\n",
        "df.to_spark().coalesce(1).write.format('csv').option('header', 'true').save('data/collab')"
      ],
      "id": "wK9g_S12HM6Y",
      "execution_count": null,
      "outputs": []
    },
    {
      "cell_type": "code",
      "metadata": {
        "id": "mCUf_pKSHM6Y"
      },
      "source": [
        "means.to_spark().coalesce(1).write.format('csv').option('header', 'true').save('data/item')"
      ],
      "id": "mCUf_pKSHM6Y",
      "execution_count": null,
      "outputs": []
    },
    {
      "cell_type": "markdown",
      "metadata": {
        "id": "nCLlTWvBLynd"
      },
      "source": [
        "## Attempt Collaborative Filtering"
      ],
      "id": "nCLlTWvBLynd"
    },
    {
      "cell_type": "code",
      "metadata": {
        "id": "CGAZMq66HM6Y"
      },
      "source": [
        "# Rename columns\n",
        "df = pd.read_csv('collab_filter_100k.csv')\n",
        "collab = df.drop(columns=['streamId'])\n",
        "collab = collab.rename(columns={'streamerId':'item_id','interactionTime':'rating', 'userId': 'user_id'})"
      ],
      "id": "CGAZMq66HM6Y",
      "execution_count": null,
      "outputs": []
    },
    {
      "cell_type": "code",
      "metadata": {
        "colab": {
          "base_uri": "https://localhost:8080/",
          "height": 205
        },
        "id": "aflsyfW5SKrB",
        "outputId": "4f6d2833-401b-4f36-93fb-a91c795f4f03"
      },
      "source": [
        "collab.head()"
      ],
      "id": "aflsyfW5SKrB",
      "execution_count": null,
      "outputs": [
        {
          "output_type": "execute_result",
          "data": {
            "text/html": [
              "<div>\n",
              "<style scoped>\n",
              "    .dataframe tbody tr th:only-of-type {\n",
              "        vertical-align: middle;\n",
              "    }\n",
              "\n",
              "    .dataframe tbody tr th {\n",
              "        vertical-align: top;\n",
              "    }\n",
              "\n",
              "    .dataframe thead th {\n",
              "        text-align: right;\n",
              "    }\n",
              "</style>\n",
              "<table border=\"1\" class=\"dataframe\">\n",
              "  <thead>\n",
              "    <tr style=\"text-align: right;\">\n",
              "      <th></th>\n",
              "      <th>user_id</th>\n",
              "      <th>rating</th>\n",
              "      <th>item_id</th>\n",
              "    </tr>\n",
              "  </thead>\n",
              "  <tbody>\n",
              "    <tr>\n",
              "      <th>0</th>\n",
              "      <td>1</td>\n",
              "      <td>2.207317</td>\n",
              "      <td>6237787267506800044</td>\n",
              "    </tr>\n",
              "    <tr>\n",
              "      <th>1</th>\n",
              "      <td>1</td>\n",
              "      <td>3.414634</td>\n",
              "      <td>8455602530264088426</td>\n",
              "    </tr>\n",
              "    <tr>\n",
              "      <th>2</th>\n",
              "      <td>1</td>\n",
              "      <td>1.000000</td>\n",
              "      <td>6237787267506800044</td>\n",
              "    </tr>\n",
              "    <tr>\n",
              "      <th>3</th>\n",
              "      <td>1</td>\n",
              "      <td>2.207317</td>\n",
              "      <td>5324476659562100413</td>\n",
              "    </tr>\n",
              "    <tr>\n",
              "      <th>4</th>\n",
              "      <td>1</td>\n",
              "      <td>3.414634</td>\n",
              "      <td>6731343583494858722</td>\n",
              "    </tr>\n",
              "  </tbody>\n",
              "</table>\n",
              "</div>"
            ],
            "text/plain": [
              "   user_id    rating              item_id\n",
              "0        1  2.207317  6237787267506800044\n",
              "1        1  3.414634  8455602530264088426\n",
              "2        1  1.000000  6237787267506800044\n",
              "3        1  2.207317  5324476659562100413\n",
              "4        1  3.414634  6731343583494858722"
            ]
          },
          "metadata": {},
          "execution_count": 5
        }
      ]
    },
    {
      "cell_type": "code",
      "metadata": {
        "colab": {
          "base_uri": "https://localhost:8080/",
          "height": 171
        },
        "id": "7C7I_-UlU66O",
        "outputId": "923b788d-0c66-4ff6-fda2-04ceba93ac3d"
      },
      "source": [
        "len(collab['item_id'].unique())"
      ],
      "id": "7C7I_-UlU66O",
      "execution_count": null,
      "outputs": [
        {
          "output_type": "error",
          "ename": "NameError",
          "evalue": "ignored",
          "traceback": [
            "\u001b[0;31m---------------------------------------------------------------------------\u001b[0m",
            "\u001b[0;31mNameError\u001b[0m                                 Traceback (most recent call last)",
            "\u001b[0;32m<ipython-input-1-53fa0eaa8a1f>\u001b[0m in \u001b[0;36m<module>\u001b[0;34m()\u001b[0m\n\u001b[0;32m----> 1\u001b[0;31m \u001b[0mlen\u001b[0m\u001b[0;34m(\u001b[0m\u001b[0mcollab\u001b[0m\u001b[0;34m[\u001b[0m\u001b[0;34m'item_id'\u001b[0m\u001b[0;34m]\u001b[0m\u001b[0;34m.\u001b[0m\u001b[0munique\u001b[0m\u001b[0;34m(\u001b[0m\u001b[0;34m)\u001b[0m\u001b[0;34m)\u001b[0m\u001b[0;34m\u001b[0m\u001b[0;34m\u001b[0m\u001b[0m\n\u001b[0m",
            "\u001b[0;31mNameError\u001b[0m: name 'collab' is not defined"
          ]
        }
      ]
    },
    {
      "cell_type": "code",
      "metadata": {
        "colab": {
          "base_uri": "https://localhost:8080/",
          "height": 189
        },
        "id": "vPeiIkcbVKt3",
        "outputId": "67965166-cc32-4d0f-d356-dbe28227c630"
      },
      "source": [
        "import pyspark as spark\n",
        "spark.conf.set(\"spark.sql.pivotMaxValues\", 20000)"
      ],
      "id": "vPeiIkcbVKt3",
      "execution_count": null,
      "outputs": [
        {
          "output_type": "error",
          "ename": "AttributeError",
          "evalue": "ignored",
          "traceback": [
            "\u001b[0;31m---------------------------------------------------------------------------\u001b[0m",
            "\u001b[0;31mAttributeError\u001b[0m                            Traceback (most recent call last)",
            "\u001b[0;32m<ipython-input-35-34b4d0e53c06>\u001b[0m in \u001b[0;36m<module>\u001b[0;34m()\u001b[0m\n\u001b[1;32m      1\u001b[0m \u001b[0;32mimport\u001b[0m \u001b[0mpyspark\u001b[0m \u001b[0;32mas\u001b[0m \u001b[0mspark\u001b[0m\u001b[0;34m\u001b[0m\u001b[0;34m\u001b[0m\u001b[0m\n\u001b[0;32m----> 2\u001b[0;31m \u001b[0mspark\u001b[0m\u001b[0;34m.\u001b[0m\u001b[0mconf\u001b[0m\u001b[0;34m.\u001b[0m\u001b[0mset\u001b[0m\u001b[0;34m(\u001b[0m\u001b[0;34m\"spark.sql.pivotMaxValues\"\u001b[0m\u001b[0;34m,\u001b[0m \u001b[0;36m20000\u001b[0m\u001b[0;34m)\u001b[0m\u001b[0;34m\u001b[0m\u001b[0;34m\u001b[0m\u001b[0m\n\u001b[0m",
            "\u001b[0;31mAttributeError\u001b[0m: module 'pyspark.conf' has no attribute 'set'"
          ]
        }
      ]
    },
    {
      "cell_type": "code",
      "metadata": {
        "id": "lxYZc1TiS1MK"
      },
      "source": [
        "# Make the matrix\n",
        "rating_matrix = collab.pivot_table(index=['user_id'], columns='item_id', values='rating')\n",
        "#temp_collab = collab.to_pandas()\n",
        "#temp_collab.pivot_table(index=['user_id'], columns='item_id', values='rating')\n",
        "#rating_matrix = collab.groupby(\"user_id\").pivot('item_id').sum('rating')\n",
        "#rating_matrix = temp_collab.copy()\n",
        "\n",
        "# FOR NOW: replace NaN values with 0 - go back later to address\n",
        "rating_matrix = rating_matrix.fillna(0)\n",
        "\n",
        "rating_matrix.head()"
      ],
      "id": "lxYZc1TiS1MK",
      "execution_count": null,
      "outputs": []
    },
    {
      "cell_type": "code",
      "metadata": {
        "id": "4yD1_Sc8UBuS"
      },
      "source": [
        ""
      ],
      "id": "4yD1_Sc8UBuS",
      "execution_count": null,
      "outputs": []
    }
  ]
}